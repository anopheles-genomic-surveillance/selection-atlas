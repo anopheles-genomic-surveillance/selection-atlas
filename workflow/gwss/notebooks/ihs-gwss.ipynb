{
 "cells": [
  {
   "cell_type": "markdown",
   "id": "7b236ee1-7932-43a9-bb4f-078b2bd0e6b6",
   "metadata": {},
   "source": [
    "# iHS genome-wide selection scans"
   ]
  },
  {
   "cell_type": "code",
   "execution_count": null,
   "id": "3abe056c",
   "metadata": {
    "tags": [
     "parameters"
    ]
   },
   "outputs": [],
   "source": [
    "# Notebook parameters. Values here are for development only and\n",
    "# will be overridden when running via snakemake and papermill.\n",
    "\n",
    "config_file = \"../../../config/agam.yaml\"\n",
    "cohort_id = \"BF-09_Houet_colu_2012_Q3\""
   ]
  },
  {
   "cell_type": "markdown",
   "id": "a4dc68dd-56d9-4b60-b168-641f6339a458",
   "metadata": {},
   "source": [
    "## Setup"
   ]
  },
  {
   "cell_type": "code",
   "execution_count": null,
   "id": "df2f18c0",
   "metadata": {
    "tags": []
   },
   "outputs": [],
   "source": [
    "import pandas as pd\n",
    "from selection_atlas.setup import AtlasSetup\n",
    "\n",
    "# Initialise the atlas setup.\n",
    "setup = AtlasSetup(config_file)"
   ]
  },
  {
   "cell_type": "code",
   "execution_count": null,
   "id": "53d5999d",
   "metadata": {
    "tags": []
   },
   "outputs": [],
   "source": [
    "# load cohorts to find sample query\n",
    "df_cohorts = pd.read_csv(setup.final_cohorts_file).set_index(\"cohort_id\")\n",
    "cohort = df_cohorts.loc[cohort_id]\n",
    "cohort"
   ]
  },
  {
   "cell_type": "code",
   "execution_count": null,
   "id": "739344b6",
   "metadata": {
    "tags": []
   },
   "outputs": [],
   "source": [
    "cohort_query = cohort.sample_query\n",
    "cohort_query"
   ]
  },
  {
   "cell_type": "code",
   "execution_count": null,
   "id": "a3b57a27-9e5b-48fb-b2e5-9b7895350796",
   "metadata": {
    "tags": []
   },
   "outputs": [],
   "source": [
    "phasing_analysis = setup.taxon_phasing_analysis[cohort.taxon]\n",
    "phasing_analysis"
   ]
  },
  {
   "cell_type": "code",
   "execution_count": null,
   "id": "70ae95ea-7b5e-4137-94c7-f97ae9bc9383",
   "metadata": {
    "tags": []
   },
   "outputs": [],
   "source": [
    "ihs_window_size = 100"
   ]
  },
  {
   "cell_type": "markdown",
   "id": "181c2a43-7e70-467e-85af-bd3113c24513",
   "metadata": {},
   "source": [
    "## Run GWSS"
   ]
  },
  {
   "cell_type": "code",
   "execution_count": null,
   "id": "394f5afb",
   "metadata": {
    "tags": []
   },
   "outputs": [],
   "source": [
    "for contig in setup.contigs:\n",
    "    print(f\"running {contig}\")\n",
    "    setup.malariagen_api.plot_ihs_gwss(\n",
    "        contig=contig,\n",
    "        window_size=ihs_window_size,\n",
    "        analysis=phasing_analysis,\n",
    "        sample_sets=setup.sample_sets,\n",
    "        sample_query=cohort_query,\n",
    "        min_cohort_size=setup.min_cohort_size,\n",
    "        max_cohort_size=setup.max_cohort_size,\n",
    "    )"
   ]
  },
  {
   "cell_type": "markdown",
   "id": "034515ca-3d70-4364-a8a4-5273d02c9dda",
   "metadata": {},
   "source": [
    "N.B., results of the selection scans will be automatically saved into the malariagen_data results cache."
   ]
  }
 ],
 "metadata": {
  "environment": {
   "kernel": "selection-atlas",
   "name": "workbench-notebooks.m125",
   "type": "gcloud",
   "uri": "us-docker.pkg.dev/deeplearning-platform-release/gcr.io/workbench-notebooks:m125"
  },
  "kernelspec": {
   "display_name": "selection-atlas",
   "language": "python",
   "name": "selection-atlas"
  },
  "language_info": {
   "codemirror_mode": {
    "name": "ipython",
    "version": 3
   },
   "file_extension": ".py",
   "mimetype": "text/x-python",
   "name": "python",
   "nbconvert_exporter": "python",
   "pygments_lexer": "ipython3",
   "version": "3.12.8"
  }
 },
 "nbformat": 4,
 "nbformat_minor": 5
}
