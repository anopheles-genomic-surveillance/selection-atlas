{
 "cells": [
  {
   "cell_type": "markdown",
   "id": "558a69f6-cc5c-4f18-be1f-bb216f865599",
   "metadata": {},
   "source": [
    "# H12 and G123 window size calibration"
   ]
  },
  {
   "cell_type": "code",
   "execution_count": null,
   "id": "b58ec70a",
   "metadata": {
    "tags": [
     "parameters"
    ]
   },
   "outputs": [],
   "source": [
    "# Notebook parameters. Values here are for development only and\n",
    "# will be overridden when running via snakemake and papermill.\n",
    "\n",
    "config_file = \"../../../config/agam.yaml\"\n",
    "cohort_id = \"BF-09_Houet_colu_2012_Q3\""
   ]
  },
  {
   "cell_type": "markdown",
   "id": "87a7858c-e05a-47dc-ac14-7dff6afc0789",
   "metadata": {},
   "source": [
    "## Setup"
   ]
  },
  {
   "cell_type": "code",
   "execution_count": null,
   "id": "a43f9a9b-f202-426f-830e-e430a8f762d7",
   "metadata": {
    "tags": []
   },
   "outputs": [],
   "source": [
    "import pandas as pd\n",
    "import numpy as np\n",
    "import yaml\n",
    "from selection_atlas.setup import AtlasSetup\n",
    "\n",
    "# Initialise the atlas setup.\n",
    "setup = AtlasSetup(config_file)"
   ]
  },
  {
   "cell_type": "code",
   "execution_count": null,
   "id": "165f3f10-8301-4b96-bf01-7639efbc47ca",
   "metadata": {
    "tags": []
   },
   "outputs": [],
   "source": [
    "df_cohorts = pd.read_csv(setup.cohorts_file).set_index(\"cohort_id\")\n",
    "df_cohorts.head()"
   ]
  },
  {
   "cell_type": "code",
   "execution_count": null,
   "id": "4b8994d6-1f03-4613-9aeb-1dffe9e3c745",
   "metadata": {
    "tags": []
   },
   "outputs": [],
   "source": [
    "cohort = df_cohorts.loc[cohort_id]\n",
    "cohort"
   ]
  },
  {
   "cell_type": "code",
   "execution_count": null,
   "id": "ae14434e-fb63-40e2-b11f-445f10c0e8f2",
   "metadata": {
    "tags": []
   },
   "outputs": [],
   "source": [
    "# determine the phasing analysis to use\n",
    "cohort.taxon"
   ]
  },
  {
   "cell_type": "code",
   "execution_count": null,
   "id": "795e6a08-85d3-4445-a729-d4064533e106",
   "metadata": {
    "tags": []
   },
   "outputs": [],
   "source": [
    "cohort_query = cohort.sample_query\n",
    "cohort_query"
   ]
  },
  {
   "cell_type": "code",
   "execution_count": null,
   "id": "53b4eb48-ccc9-443f-bd6d-d0595ea1b5cf",
   "metadata": {
    "tags": []
   },
   "outputs": [],
   "source": [
    "phasing_analysis = setup.taxon_phasing_analysis[cohort.taxon]\n",
    "phasing_analysis"
   ]
  },
  {
   "cell_type": "code",
   "execution_count": null,
   "id": "4ad96808-1f3b-4c26-86cf-51f97edb13d8",
   "metadata": {
    "tags": []
   },
   "outputs": [],
   "source": [
    "site_mask = setup.taxon_site_mask[cohort.taxon]\n",
    "site_mask"
   ]
  },
  {
   "cell_type": "markdown",
   "id": "1a281281-2954-46e3-9757-cb3e07b8a403",
   "metadata": {},
   "source": [
    "## H12 calibration"
   ]
  },
  {
   "cell_type": "code",
   "execution_count": null,
   "id": "b3bbf103-0a6b-453a-b564-4dc71a1682d1",
   "metadata": {
    "tags": []
   },
   "outputs": [],
   "source": [
    "setup.malariagen_api.plot_h12_calibration(\n",
    "    contig=setup.h12_calibration_contig,\n",
    "    analysis=phasing_analysis,\n",
    "    sample_sets=setup.sample_sets,\n",
    "    sample_query=cohort_query,\n",
    "    min_cohort_size=setup.min_cohort_size,\n",
    "    max_cohort_size=setup.max_cohort_size,\n",
    "    window_sizes=setup.h12_calibration_window_sizes,\n",
    ");"
   ]
  },
  {
   "cell_type": "code",
   "execution_count": null,
   "id": "57bf7410-1693-4e5e-ac0a-9f83880d34ba",
   "metadata": {
    "tags": []
   },
   "outputs": [],
   "source": [
    "h12_calibration_runs = setup.malariagen_api.h12_calibration(\n",
    "    contig=setup.h12_calibration_contig,\n",
    "    analysis=phasing_analysis,\n",
    "    sample_sets=setup.sample_sets,\n",
    "    sample_query=cohort_query,\n",
    "    min_cohort_size=setup.min_cohort_size,\n",
    "    max_cohort_size=setup.max_cohort_size,\n",
    "    window_sizes=setup.h12_calibration_window_sizes,\n",
    ")\n",
    "h12_calibration_runs"
   ]
  },
  {
   "cell_type": "code",
   "execution_count": null,
   "id": "aa92376f-7073-43c9-a33d-5edab1628402",
   "metadata": {
    "tags": []
   },
   "outputs": [],
   "source": [
    "h12_selected_window_size = None\n",
    "for window_size in setup.h12_calibration_window_sizes:\n",
    "    x = h12_calibration_runs[str(window_size)]\n",
    "    x95 = np.percentile(x, 95)\n",
    "    if x95 < setup.h12_calibration_threshold:\n",
    "        h12_selected_window_size = window_size\n",
    "        break\n",
    "h12_selected_window_size"
   ]
  },
  {
   "cell_type": "markdown",
   "id": "8f4a4794-ea97-4b9b-bd76-513780e88e14",
   "metadata": {},
   "source": [
    "## G123 calibration"
   ]
  },
  {
   "cell_type": "code",
   "execution_count": null,
   "id": "e7075305-0649-430a-bad7-ffa43dbf9292",
   "metadata": {
    "tags": []
   },
   "outputs": [],
   "source": [
    "setup.malariagen_api.plot_g123_calibration(\n",
    "    contig=setup.g123_calibration_contig,\n",
    "    site_mask=site_mask,\n",
    "    sites=phasing_analysis,\n",
    "    sample_sets=setup.sample_sets,\n",
    "    sample_query=cohort_query,\n",
    "    min_cohort_size=setup.min_cohort_size,\n",
    "    max_cohort_size=setup.max_cohort_size,\n",
    "    window_sizes=setup.g123_calibration_window_sizes,\n",
    ");"
   ]
  },
  {
   "cell_type": "code",
   "execution_count": null,
   "id": "22b88ace-8c56-4da3-ab73-4918af4b317e",
   "metadata": {
    "tags": []
   },
   "outputs": [],
   "source": [
    "g123_calibration_runs = setup.malariagen_api.g123_calibration(\n",
    "    contig=setup.g123_calibration_contig,\n",
    "    site_mask=site_mask,\n",
    "    sites=phasing_analysis,\n",
    "    sample_sets=setup.sample_sets,\n",
    "    sample_query=cohort_query,\n",
    "    min_cohort_size=setup.min_cohort_size,\n",
    "    max_cohort_size=setup.max_cohort_size,\n",
    "    window_sizes=setup.g123_calibration_window_sizes,\n",
    ")\n",
    "g123_calibration_runs"
   ]
  },
  {
   "cell_type": "code",
   "execution_count": null,
   "id": "60beb55c-1cb2-45cb-933a-7d466552ac00",
   "metadata": {
    "tags": []
   },
   "outputs": [],
   "source": [
    "g123_selected_window_size = None\n",
    "for window_size in setup.g123_calibration_window_sizes:\n",
    "    x = g123_calibration_runs[str(window_size)]\n",
    "    x95 = np.percentile(x, 95)\n",
    "    if x95 < setup.g123_calibration_threshold:\n",
    "        g123_selected_window_size = window_size\n",
    "        break\n",
    "g123_selected_window_size"
   ]
  },
  {
   "cell_type": "markdown",
   "id": "5ba0820e-7797-48f8-aa48-366937a005bc",
   "metadata": {},
   "source": [
    "## Write outputs"
   ]
  },
  {
   "cell_type": "code",
   "execution_count": null,
   "id": "8ee2e373-cafd-40c2-ae84-264fc56b03e3",
   "metadata": {
    "tags": []
   },
   "outputs": [],
   "source": [
    "output = {\n",
    "    \"h12_window_size\": h12_selected_window_size,\n",
    "    \"g123_window_size\": g123_selected_window_size,\n",
    "}\n",
    "calibration_file = setup.calibration_files.as_posix().format(cohort=cohort_id)\n",
    "with open(calibration_file, mode=\"w\") as output_file:\n",
    "    yaml.safe_dump(output, output_file)"
   ]
  },
  {
   "cell_type": "code",
   "execution_count": null,
   "id": "e4559374",
   "metadata": {},
   "outputs": [],
   "source": []
  }
 ],
 "metadata": {
  "celltoolbar": "Tags",
  "environment": {
   "kernel": "selection-atlas",
   "name": "workbench-notebooks.m125",
   "type": "gcloud",
   "uri": "us-docker.pkg.dev/deeplearning-platform-release/gcr.io/workbench-notebooks:m125"
  },
  "kernelspec": {
   "display_name": "selection-atlas",
   "language": "python",
   "name": "selection-atlas"
  },
  "language_info": {
   "codemirror_mode": {
    "name": "ipython",
    "version": 3
   },
   "file_extension": ".py",
   "mimetype": "text/x-python",
   "name": "python",
   "nbconvert_exporter": "python",
   "pygments_lexer": "ipython3",
   "version": "3.12.8"
  }
 },
 "nbformat": 4,
 "nbformat_minor": 5
}
