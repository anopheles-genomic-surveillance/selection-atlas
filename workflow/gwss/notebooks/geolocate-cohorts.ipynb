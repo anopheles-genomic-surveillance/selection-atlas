{
 "cells": [
  {
   "cell_type": "code",
   "execution_count": null,
   "id": "6cf6add0-61f2-4d8b-8a7f-2e240bd337f7",
   "metadata": {
    "tags": [
     "parameters"
    ]
   },
   "outputs": [],
   "source": [
    "# Notebook parameters. Values here are for development only and\n",
    "# will be overridden when running via snakemake and papermill.\n",
    "\n",
    "config_file = \"../../../config/agam.yaml\""
   ]
  },
  {
   "cell_type": "markdown",
   "id": "a622358e-9374-46a6-891b-854aecb5f015",
   "metadata": {},
   "source": [
    "# Obtain geographical data for cohorts\n",
    "\n",
    "Here we obtain representative cohorts for administrative units and add to the cohorts dataframe."
   ]
  },
  {
   "cell_type": "code",
   "execution_count": null,
   "id": "6ffd37ca",
   "metadata": {},
   "outputs": [],
   "source": [
    "import pandas as pd\n",
    "import iso3166\n",
    "import functools\n",
    "import geopandas as gpd\n",
    "from selection_atlas.setup import AtlasSetup\n",
    "\n",
    "# Initialise the atlas setup.\n",
    "setup = AtlasSetup(config_file)"
   ]
  },
  {
   "cell_type": "code",
   "execution_count": null,
   "id": "9c76c9ff-ea1f-4fa0-8424-5d8669b52e89",
   "metadata": {
    "tags": []
   },
   "outputs": [],
   "source": [
    "# load cohorts to find sample query\n",
    "df_cohorts = pd.read_csv(setup.final_cohorts_file)\n",
    "df_cohorts.head()"
   ]
  },
  {
   "cell_type": "markdown",
   "id": "a3214bbe-e174-476f-a883-5381087860ad",
   "metadata": {},
   "source": [
    "## Add ISO3166-1 3-letter country codes\n",
    "\n",
    "We need 3-letter country codes in order to locate geoboundaries data."
   ]
  },
  {
   "cell_type": "code",
   "execution_count": null,
   "id": "e0b3f9ae-f121-442c-b19f-476212a23057",
   "metadata": {
    "tags": []
   },
   "outputs": [],
   "source": [
    "countries = df_cohorts[\"country\"].unique()\n",
    "countries"
   ]
  },
  {
   "cell_type": "code",
   "execution_count": null,
   "id": "7f44cb94-70fc-48fa-871f-4dcb6ed01d09",
   "metadata": {
    "tags": []
   },
   "outputs": [],
   "source": [
    "len(countries)"
   ]
  },
  {
   "cell_type": "code",
   "execution_count": null,
   "id": "62331080-266e-423f-8b9a-c8e1505fbc6e",
   "metadata": {
    "tags": []
   },
   "outputs": [],
   "source": [
    "# some countries known by a different name\n",
    "countries_by_name = iso3166.countries_by_name\n",
    "countries_by_name[\"Democratic Republic of the Congo\".upper()] = (\n",
    "    iso3166.countries_by_alpha3[\"COD\"]\n",
    ")\n",
    "countries_by_name[\"Cote d'Ivoire\".upper()] = iso3166.countries_by_alpha3[\"CIV\"]\n",
    "countries_by_name[\"Gambia, The\".upper()] = iso3166.countries_by_alpha3[\"GMB\"]\n",
    "countries_by_name[\"Tanzania\".upper()] = iso3166.countries_by_alpha3[\"TZA\"]"
   ]
  },
  {
   "cell_type": "code",
   "execution_count": null,
   "id": "98bd2df0-3835-41f2-96e9-c060f9610f6d",
   "metadata": {
    "tags": []
   },
   "outputs": [],
   "source": [
    "# add columns to the cohorts dataframe\n",
    "df_cohorts[\"country_alpha2\"] = df_cohorts.apply(\n",
    "    lambda row: countries_by_name[row.country.upper()].alpha2, axis=\"columns\"\n",
    ")\n",
    "\n",
    "df_cohorts[\"country_alpha3\"] = df_cohorts.apply(\n",
    "    lambda row: countries_by_name[row.country.upper()].alpha3, axis=\"columns\"\n",
    ")"
   ]
  },
  {
   "cell_type": "code",
   "execution_count": null,
   "id": "20bb43a9-7e14-464e-9d93-7e02dec28dbd",
   "metadata": {
    "tags": []
   },
   "outputs": [],
   "source": [
    "df_cohorts[[\"country\", \"country_alpha2\", \"country_alpha3\"]].head()"
   ]
  },
  {
   "cell_type": "markdown",
   "id": "8a7d5add-c5bc-496e-b0db-1ddc606e3ff8",
   "metadata": {},
   "source": [
    "## Join with geoboundaries data"
   ]
  },
  {
   "cell_type": "code",
   "execution_count": null,
   "id": "f4f250bc-0b03-41af-b813-39b5166e1e6d",
   "metadata": {
    "tags": []
   },
   "outputs": [],
   "source": [
    "adm2_geojson_url_template = \"https://github.com/wmgeolab/geoBoundaries/raw/v5.0.0/releaseData/gbOpen/{country_alpha3}/ADM2/geoBoundaries-{country_alpha3}-ADM2_simplified.geojson\""
   ]
  },
  {
   "cell_type": "code",
   "execution_count": null,
   "id": "7ec52d66-1d0f-407a-8e59-b43527a7f8ac",
   "metadata": {
    "tags": []
   },
   "outputs": [],
   "source": [
    "@functools.lru_cache(maxsize=None)\n",
    "def read_adm2(country_alpha3):\n",
    "    df = gpd.read_file(adm2_geojson_url_template.format(country_alpha3=country_alpha3))\n",
    "    return df"
   ]
  },
  {
   "cell_type": "code",
   "execution_count": null,
   "id": "e06b9b9b-4dd9-45bb-8527-102369043efa",
   "metadata": {
    "tags": []
   },
   "outputs": [],
   "source": [
    "def country_cohorts_geo(country_alpha3, alias=None):\n",
    "    \"\"\"Join cohorts dataframe with admin 2 unit geometry.\"\"\"\n",
    "\n",
    "    # read the geoboundaries data\n",
    "    gdf_geo = read_adm2(country_alpha3)\n",
    "\n",
    "    # subset cohorts to country\n",
    "    df_coh = df_cohorts.query(f\"country_alpha3 == '{country_alpha3}'\").copy()\n",
    "\n",
    "    # deal with admin2 name aliases\n",
    "    if alias is not None:\n",
    "        df_coh[\"admin2_name\"].replace(alias, inplace=True)\n",
    "\n",
    "    # join dataframes\n",
    "    gdf_ret = gpd.GeoDataFrame(\n",
    "        df_coh.merge(\n",
    "            gdf_geo,\n",
    "            left_on=[\"country_alpha3\", \"admin2_name\"],\n",
    "            right_on=[\"shapeGroup\", \"shapeName\"],\n",
    "            how=\"left\",\n",
    "        )\n",
    "    )\n",
    "\n",
    "    # confirm no missing data\n",
    "    loc_missing = gdf_ret[\"shapeID\"].isna()\n",
    "    if loc_missing.any():\n",
    "        print(\n",
    "            \"ERROR\",\n",
    "            country_alpha3,\n",
    "            gdf_ret.iloc[loc_missing.values][\"admin2_name\"].unique(),\n",
    "        )\n",
    "\n",
    "    # add representative point\n",
    "    point = gdf_ret.representative_point()\n",
    "    gdf_ret[\"representative_lon\"] = point.x\n",
    "    gdf_ret[\"representative_lat\"] = point.y\n",
    "\n",
    "    return gdf_ret"
   ]
  },
  {
   "cell_type": "code",
   "execution_count": null,
   "id": "c025b163-04c5-47c2-a22d-f36971abe537",
   "metadata": {
    "tags": []
   },
   "outputs": [],
   "source": [
    "country_codes = df_cohorts[\"country_alpha3\"].unique()\n",
    "country_codes"
   ]
  },
  {
   "cell_type": "code",
   "execution_count": null,
   "id": "7e31e63c-aca5-4faf-aaa5-d71f1c894ea9",
   "metadata": {
    "tags": []
   },
   "outputs": [],
   "source": [
    "# define aliases because cohorts were originally defined\n",
    "# using geoboundaries v3, but here we are using v5\n",
    "adm2_alias = {\n",
    "    # CMR - Cameroon\n",
    "    \"Lom-Et-Djérem\": \"Lom-Et-Djerem\",\n",
    "    # GHA - Ghana\n",
    "    \"Twifu Heman/Lower Denkyira\": \"Twifo Hemang Lower Denkyira\",\n",
    "    # N.B., this is a hack, New Juaben has been split into two\n",
    "    # districts. But in Ag3.0 we only have data from Koforidua\n",
    "    # which is the capital of New Juaben South.\n",
    "    \"New Juaben\": \"New Juaben South Municipal\",\n",
    "    # N.B., this is a hack, Shama Ahanta East has been split\n",
    "    # into Shama and Sekondi Takoradi. In Ag3.0 we only have\n",
    "    # data from Takoradi.\n",
    "    \"Shama Ahanta East\": \"Sekondi Takoradi Metropolis\",\n",
    "    # GMB - The Gambia\n",
    "    # N.B., hack, in Ag3.0 location is Wali Kunda, checked on\n",
    "    # map that it's in Lower Fuladu West.\n",
    "    \"Fulladu West\": \"Lower Fuladu West\",\n",
    "    \"Central Baddibu\": \"Central Badibu\",\n",
    "    # GNB - Guinea-Bissau\n",
    "    \"Setor De Safim\": \"Setor de Safim\",\n",
    "    # KEN - Kenya\n",
    "    # N.B., hack, in Ag.30 checked coordinates, location is\n",
    "    # in Kilifi North\n",
    "    \"Kilifi\": \"Kilifi North\",\n",
    "}\n",
    "\n",
    "gdf_cohorts = pd.concat(\n",
    "    [country_cohorts_geo(x, alias=adm2_alias) for x in country_codes]\n",
    ")\n",
    "gdf_cohorts.head()"
   ]
  },
  {
   "cell_type": "code",
   "execution_count": null,
   "id": "6265db8b-ea3b-4c6b-97f8-bb1b1dc86bbf",
   "metadata": {
    "tags": []
   },
   "outputs": [],
   "source": [
    "gdf_cohorts.to_file(setup.final_cohorts_geojson_file)"
   ]
  },
  {
   "cell_type": "markdown",
   "id": "51705e07-3858-47e6-9565-ee0f0a4255c5",
   "metadata": {},
   "source": [
    "## Check\n",
    "\n",
    "Check the file reads back in."
   ]
  },
  {
   "cell_type": "code",
   "execution_count": null,
   "id": "94b94ab3-ec3e-4f79-8f24-dae9a3334d6e",
   "metadata": {
    "tags": []
   },
   "outputs": [],
   "source": [
    "gdf_check = gpd.read_file(setup.final_cohorts_geojson_file)\n",
    "gdf_check.head()"
   ]
  }
 ],
 "metadata": {
  "environment": {
   "kernel": "python3",
   "name": "workbench-notebooks.m125",
   "type": "gcloud",
   "uri": "us-docker.pkg.dev/deeplearning-platform-release/gcr.io/workbench-notebooks:m125"
  },
  "kernelspec": {
   "display_name": "bissau-cryptic-taxon",
   "language": "python",
   "name": "python3"
  },
  "language_info": {
   "codemirror_mode": {
    "name": "ipython",
    "version": 3
   },
   "file_extension": ".py",
   "mimetype": "text/x-python",
   "name": "python",
   "nbconvert_exporter": "python",
   "pygments_lexer": "ipython3",
   "version": "3.12.7"
  },
  "widgets": {
   "application/vnd.jupyter.widget-state+json": {
    "state": {},
    "version_major": 2,
    "version_minor": 0
   }
  }
 },
 "nbformat": 4,
 "nbformat_minor": 5
}
