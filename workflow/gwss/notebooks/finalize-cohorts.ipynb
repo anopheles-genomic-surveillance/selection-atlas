{
 "cells": [
  {
   "cell_type": "code",
   "execution_count": null,
   "id": "0747232a-2555-4d3a-9d61-36a2978d29a2",
   "metadata": {
    "tags": [
     "parameters"
    ]
   },
   "outputs": [],
   "source": [
    "# Notebook parameters. Values here are for development only and\n",
    "# will be overridden when running via snakemake and papermill.\n",
    "\n",
    "config_file = \"../../../config/agam.yaml\""
   ]
  },
  {
   "cell_type": "markdown",
   "id": "9df0f0a7",
   "metadata": {},
   "source": [
    "# Finalize cohorts\n",
    "\n",
    "Here we finalise the list of cohorts to include in the site, removing cohorts which fail H12 window size calibration."
   ]
  },
  {
   "cell_type": "code",
   "execution_count": null,
   "id": "bd9005c4",
   "metadata": {},
   "outputs": [],
   "source": [
    "import yaml\n",
    "import pandas as pd\n",
    "from selection_atlas.setup import AtlasSetup\n",
    "\n",
    "# Initialise the atlas setup.\n",
    "setup = AtlasSetup(config_file)"
   ]
  },
  {
   "cell_type": "code",
   "execution_count": null,
   "id": "16db0806",
   "metadata": {},
   "outputs": [],
   "source": [
    "df_cohorts = pd.read_csv(setup.cohorts_file)\n",
    "df_cohorts.head()"
   ]
  },
  {
   "cell_type": "code",
   "execution_count": null,
   "id": "34d463a2",
   "metadata": {},
   "outputs": [],
   "source": [
    "window_size = []\n",
    "\n",
    "for cohort_id in df_cohorts.loc[:, \"cohort_id\"]:\n",
    "    # Load window sizes.\n",
    "    h12_calibration_file = setup.h12_calibration_files.as_posix().format(\n",
    "        cohort=cohort_id\n",
    "    )\n",
    "    with open(h12_calibration_file) as params_file:\n",
    "        window_size_params = yaml.safe_load(params_file)\n",
    "\n",
    "    window_size.append(window_size_params[\"h12_window_size\"])\n",
    "\n",
    "df_cohorts[\"h12_window_size\"] = window_size"
   ]
  },
  {
   "cell_type": "code",
   "execution_count": null,
   "id": "42e46bfe",
   "metadata": {},
   "outputs": [],
   "source": [
    "df_cohorts = df_cohorts.query(\"~h12_window_size.isna()\", engine=\"python\")\n",
    "df_cohorts.to_csv(setup.final_cohorts_file, index=None)"
   ]
  }
 ],
 "metadata": {
  "kernelspec": {
   "display_name": "selection-atlas",
   "language": "python",
   "name": "selection-atlas"
  },
  "language_info": {
   "codemirror_mode": {
    "name": "ipython",
    "version": 3
   },
   "file_extension": ".py",
   "mimetype": "text/x-python",
   "name": "python",
   "nbconvert_exporter": "python",
   "pygments_lexer": "ipython3",
   "version": "3.12.8"
  }
 },
 "nbformat": 4,
 "nbformat_minor": 5
}
