{
 "cells": [
  {
   "cell_type": "code",
   "execution_count": 1,
   "id": "0747232a-2555-4d3a-9d61-36a2978d29a2",
   "metadata": {
    "tags": [
     "parameters"
    ]
   },
   "outputs": [],
   "source": [
    "# Notebook parameters. Values here are for development only and\n",
    "# will be overridden when running via snakemake and papermill.\n",
    "\n",
    "config_file = \"../../../config/agam.yaml\""
   ]
  },
  {
   "cell_type": "markdown",
   "id": "9df0f0a7",
   "metadata": {},
   "source": [
    "# Finalize cohorts\n",
    "\n",
    "Here we finalise the list of cohorts to include in the site, removing cohorts which fail H12 window size calibration."
   ]
  },
  {
   "cell_type": "code",
   "execution_count": 2,
   "id": "bd9005c4",
   "metadata": {},
   "outputs": [],
   "source": [
    "import yaml\n",
    "import pandas as pd\n",
    "from selection_atlas.setup import AtlasSetup\n",
    "\n",
    "# Initialise the atlas setup.\n",
    "setup = AtlasSetup(config_file)"
   ]
  },
  {
   "cell_type": "code",
   "execution_count": 3,
   "id": "16db0806",
   "metadata": {},
   "outputs": [
    {
     "data": {
      "text/html": [
       "<div>\n",
       "<style scoped>\n",
       "    .dataframe tbody tr th:only-of-type {\n",
       "        vertical-align: middle;\n",
       "    }\n",
       "\n",
       "    .dataframe tbody tr th {\n",
       "        vertical-align: top;\n",
       "    }\n",
       "\n",
       "    .dataframe thead th {\n",
       "        text-align: right;\n",
       "    }\n",
       "</style>\n",
       "<table border=\"1\" class=\"dataframe\">\n",
       "  <thead>\n",
       "    <tr style=\"text-align: right;\">\n",
       "      <th></th>\n",
       "      <th>cohort_id</th>\n",
       "      <th>cohort_size</th>\n",
       "      <th>country</th>\n",
       "      <th>admin1_iso</th>\n",
       "      <th>admin1_name</th>\n",
       "      <th>admin2_name</th>\n",
       "      <th>taxon</th>\n",
       "      <th>year</th>\n",
       "      <th>quarter</th>\n",
       "      <th>cohort_label</th>\n",
       "      <th>sample_query</th>\n",
       "    </tr>\n",
       "  </thead>\n",
       "  <tbody>\n",
       "    <tr>\n",
       "      <th>0</th>\n",
       "      <td>AO-LUA_Luanda_colu_2009_Q2</td>\n",
       "      <td>77</td>\n",
       "      <td>Angola</td>\n",
       "      <td>AO-LUA</td>\n",
       "      <td>Luanda</td>\n",
       "      <td>Luanda</td>\n",
       "      <td>coluzzii</td>\n",
       "      <td>2009</td>\n",
       "      <td>2</td>\n",
       "      <td>Angola / Luanda / coluzzii / 2009 / Q2</td>\n",
       "      <td>cohort_admin2_quarter == 'AO-LUA_Luanda_colu_2...</td>\n",
       "    </tr>\n",
       "    <tr>\n",
       "      <th>1</th>\n",
       "      <td>BF-02_Comoe_colu_2011</td>\n",
       "      <td>18</td>\n",
       "      <td>Burkina Faso</td>\n",
       "      <td>BF-02</td>\n",
       "      <td>Cascades</td>\n",
       "      <td>Comoe</td>\n",
       "      <td>coluzzii</td>\n",
       "      <td>2011</td>\n",
       "      <td>-1</td>\n",
       "      <td>Burkina Faso / Comoe / coluzzii / 2011</td>\n",
       "      <td>cohort_admin2_quarter == 'BF-02_Comoe_colu_201...</td>\n",
       "    </tr>\n",
       "    <tr>\n",
       "      <th>2</th>\n",
       "      <td>BF-02_Comoe_colu_2012</td>\n",
       "      <td>63</td>\n",
       "      <td>Burkina Faso</td>\n",
       "      <td>BF-02</td>\n",
       "      <td>Cascades</td>\n",
       "      <td>Comoe</td>\n",
       "      <td>coluzzii</td>\n",
       "      <td>2012</td>\n",
       "      <td>-1</td>\n",
       "      <td>Burkina Faso / Comoe / coluzzii / 2012</td>\n",
       "      <td>cohort_admin2_quarter == 'BF-02_Comoe_colu_201...</td>\n",
       "    </tr>\n",
       "    <tr>\n",
       "      <th>3</th>\n",
       "      <td>BF-02_Comoe_colu_2015</td>\n",
       "      <td>33</td>\n",
       "      <td>Burkina Faso</td>\n",
       "      <td>BF-02</td>\n",
       "      <td>Cascades</td>\n",
       "      <td>Comoe</td>\n",
       "      <td>coluzzii</td>\n",
       "      <td>2015</td>\n",
       "      <td>-1</td>\n",
       "      <td>Burkina Faso / Comoe / coluzzii / 2015</td>\n",
       "      <td>cohort_admin2_quarter == 'BF-02_Comoe_colu_201...</td>\n",
       "    </tr>\n",
       "    <tr>\n",
       "      <th>4</th>\n",
       "      <td>BF-02_Comoe_colu_2016</td>\n",
       "      <td>53</td>\n",
       "      <td>Burkina Faso</td>\n",
       "      <td>BF-02</td>\n",
       "      <td>Cascades</td>\n",
       "      <td>Comoe</td>\n",
       "      <td>coluzzii</td>\n",
       "      <td>2016</td>\n",
       "      <td>-1</td>\n",
       "      <td>Burkina Faso / Comoe / coluzzii / 2016</td>\n",
       "      <td>cohort_admin2_quarter == 'BF-02_Comoe_colu_201...</td>\n",
       "    </tr>\n",
       "  </tbody>\n",
       "</table>\n",
       "</div>"
      ],
      "text/plain": [
       "                    cohort_id  cohort_size       country admin1_iso  \\\n",
       "0  AO-LUA_Luanda_colu_2009_Q2           77        Angola     AO-LUA   \n",
       "1       BF-02_Comoe_colu_2011           18  Burkina Faso      BF-02   \n",
       "2       BF-02_Comoe_colu_2012           63  Burkina Faso      BF-02   \n",
       "3       BF-02_Comoe_colu_2015           33  Burkina Faso      BF-02   \n",
       "4       BF-02_Comoe_colu_2016           53  Burkina Faso      BF-02   \n",
       "\n",
       "  admin1_name admin2_name     taxon  year  quarter  \\\n",
       "0      Luanda      Luanda  coluzzii  2009        2   \n",
       "1    Cascades       Comoe  coluzzii  2011       -1   \n",
       "2    Cascades       Comoe  coluzzii  2012       -1   \n",
       "3    Cascades       Comoe  coluzzii  2015       -1   \n",
       "4    Cascades       Comoe  coluzzii  2016       -1   \n",
       "\n",
       "                             cohort_label  \\\n",
       "0  Angola / Luanda / coluzzii / 2009 / Q2   \n",
       "1  Burkina Faso / Comoe / coluzzii / 2011   \n",
       "2  Burkina Faso / Comoe / coluzzii / 2012   \n",
       "3  Burkina Faso / Comoe / coluzzii / 2015   \n",
       "4  Burkina Faso / Comoe / coluzzii / 2016   \n",
       "\n",
       "                                        sample_query  \n",
       "0  cohort_admin2_quarter == 'AO-LUA_Luanda_colu_2...  \n",
       "1  cohort_admin2_quarter == 'BF-02_Comoe_colu_201...  \n",
       "2  cohort_admin2_quarter == 'BF-02_Comoe_colu_201...  \n",
       "3  cohort_admin2_quarter == 'BF-02_Comoe_colu_201...  \n",
       "4  cohort_admin2_quarter == 'BF-02_Comoe_colu_201...  "
      ]
     },
     "execution_count": 3,
     "metadata": {},
     "output_type": "execute_result"
    }
   ],
   "source": [
    "df_cohorts = pd.read_csv(setup.cohorts_file)\n",
    "df_cohorts.head()"
   ]
  },
  {
   "cell_type": "code",
   "execution_count": null,
   "id": "34d463a2",
   "metadata": {},
   "outputs": [],
   "source": [
    "window_size = []\n",
    "\n",
    "for cohort_id in df_cohorts.loc[:, \"cohort_id\"]:\n",
    "    # Load window sizes.\n",
    "    h12_calibration_file = setup.h12_calibration_files.as_posix().format(\n",
    "        cohort=cohort_id\n",
    "    )\n",
    "    with open(h12_calibration_file) as params_file:\n",
    "        window_size_params = yaml.safe_load(params_file)\n",
    "\n",
    "    window_size.append(window_size_params[\"h12_window_size\"])\n",
    "\n",
    "df_cohorts[\"h12_window_size\"] = window_size"
   ]
  },
  {
   "cell_type": "code",
   "execution_count": null,
   "id": "42e46bfe",
   "metadata": {},
   "outputs": [],
   "source": [
    "df_cohorts = df_cohorts.query(\"~h12_window_size.isna()\", engine=\"python\")\n",
    "df_cohorts.to_csv(setup.final_cohorts_file, index=None)"
   ]
  }
 ],
 "metadata": {
  "kernelspec": {
   "display_name": "selection-atlas",
   "language": "python",
   "name": "selection-atlas"
  },
  "language_info": {
   "codemirror_mode": {
    "name": "ipython",
    "version": 3
   },
   "file_extension": ".py",
   "mimetype": "text/x-python",
   "name": "python",
   "nbconvert_exporter": "python",
   "pygments_lexer": "ipython3",
   "version": "3.12.8"
  }
 },
 "nbformat": 4,
 "nbformat_minor": 5
}
