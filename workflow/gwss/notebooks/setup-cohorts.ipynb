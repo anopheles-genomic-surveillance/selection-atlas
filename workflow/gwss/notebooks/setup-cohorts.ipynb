{
 "cells": [
  {
   "cell_type": "markdown",
   "id": "3d4038e4-f21b-4c19-945c-47f8408e8bac",
   "metadata": {},
   "source": [
    "# Set up cohorts\n",
    "\n",
    "Here we create an initial table of cohorts that could be included in the site, adding some useful data and filtering on the minimum cohort size."
   ]
  },
  {
   "cell_type": "code",
   "execution_count": null,
   "id": "6d6917b5",
   "metadata": {
    "tags": [
     "parameters"
    ]
   },
   "outputs": [],
   "source": [
    "# Notebook parameters. Values here are for development only and\n",
    "# will be overridden when running via snakemake and papermill.\n",
    "sample_sets = \"AG1000G-BF-A\"\n",
    "sample_query = None\n",
    "contigs = [\"3L\"]\n",
    "cohorts_analysis = \"20240924\"\n",
    "min_cohort_size = 20\n",
    "max_cohort_size = 50\n",
    "dask_scheduler = \"single-threaded\"\n",
    "atlas_id = \"ag\"\n",
    "analysis_version = \"dev\""
   ]
  },
  {
   "cell_type": "code",
   "execution_count": null,
   "id": "21e09d4d-b0c2-4d6e-819d-0c34077bf252",
   "metadata": {
    "tags": []
   },
   "outputs": [],
   "source": [
    "import sys\n",
    "from pyprojroot import here\n",
    "\n",
    "sys.path.append(here() / \"workflow\" / \"common\" / \"scripts\")\n",
    "from setup import AtlasSetup  # noqa\n",
    "\n",
    "# Initialise the atlas setup.\n",
    "setup = AtlasSetup(\n",
    "    atlas_id=atlas_id,\n",
    "    analysis_version=analysis_version,\n",
    "    cohorts_analysis=cohorts_analysis,\n",
    "    contigs=contigs,\n",
    "    dask_scheduler=dask_scheduler,\n",
    ")"
   ]
  },
  {
   "cell_type": "code",
   "execution_count": null,
   "id": "920a22a4-2527-4a3c-b386-831e7134f0d8",
   "metadata": {
    "tags": []
   },
   "outputs": [],
   "source": [
    "df_samples = setup.malariagen_api.sample_metadata(\n",
    "    sample_sets=sample_sets, sample_query=sample_query\n",
    ")"
   ]
  },
  {
   "cell_type": "code",
   "execution_count": null,
   "id": "eb1e82bd-190b-421f-bd03-7bf64592d3cb",
   "metadata": {
    "tags": []
   },
   "outputs": [],
   "source": [
    "def month_to_quarter(row):\n",
    "    return ((row.month - 1) // 3) + 1 if row.month > 0 else -1"
   ]
  },
  {
   "cell_type": "code",
   "execution_count": null,
   "id": "29975b3e-2544-4e7b-9f94-10d88ca1a955",
   "metadata": {
    "tags": []
   },
   "outputs": [],
   "source": [
    "# add a \"quarter\" column for convenience\n",
    "df_samples[\"quarter\"] = df_samples.apply(month_to_quarter, axis=\"columns\")\n",
    "df_samples"
   ]
  },
  {
   "cell_type": "code",
   "execution_count": null,
   "id": "3820da1d-5e19-455c-bcb7-972aefa0beda",
   "metadata": {
    "tags": []
   },
   "outputs": [],
   "source": [
    "# check the quarter logic\n",
    "df_samples.groupby(\"quarter\").agg({\"month\": lambda v: set(v)})"
   ]
  },
  {
   "cell_type": "code",
   "execution_count": null,
   "id": "463d904e-918c-4c62-9e24-9235334111f3",
   "metadata": {
    "tags": []
   },
   "outputs": [],
   "source": [
    "cohorts_col = \"cohort_admin2_quarter\""
   ]
  },
  {
   "cell_type": "code",
   "execution_count": null,
   "id": "f305e85e-24c7-4f67-9a4e-c380512f4c39",
   "metadata": {
    "tags": []
   },
   "outputs": [],
   "source": [
    "def make_cohort_label(row):\n",
    "    # N.B., not all cohorts have a quarter defined, because samples were not provided\n",
    "    # with collection month in the metadata. In this case we expect to fall back to\n",
    "    # year.\n",
    "    if row.quarter > 0:\n",
    "        return f\"{row.country} / {row.admin2_name} / {row.taxon} / {row.year} / Q{row.quarter}\"\n",
    "    else:\n",
    "        return f\"{row.country} / {row.admin2_name} / {row.taxon} / {row.year}\""
   ]
  },
  {
   "cell_type": "code",
   "execution_count": null,
   "id": "afa8633f-c7f7-46b5-aa15-a0ad99938a7b",
   "metadata": {
    "tags": []
   },
   "outputs": [],
   "source": [
    "df_cohorts_selected = (\n",
    "    df_samples\n",
    "    # N.B., only include females, otherwise data on X contig will be wonky\n",
    "    .query(\"sex_call == 'F'\")\n",
    "    .groupby(cohorts_col)\n",
    "    .agg(\n",
    "        {\n",
    "            \"sample_id\": \"count\",\n",
    "            \"country\": \"first\",\n",
    "            \"admin1_iso\": \"first\",\n",
    "            \"admin1_name\": \"first\",\n",
    "            \"admin2_name\": \"first\",\n",
    "            \"taxon\": \"first\",\n",
    "            \"year\": \"first\",\n",
    "            \"quarter\": \"first\",\n",
    "        }\n",
    "    )\n",
    "    .reset_index()\n",
    "    .rename(\n",
    "        columns={\n",
    "            \"sample_id\": \"cohort_size\",\n",
    "            cohorts_col: \"cohort_id\",\n",
    "        }\n",
    "    )\n",
    "    .query(f\"cohort_size >= {min_cohort_size}\")\n",
    ")\n",
    "df_cohorts_selected[\"cohort_label\"] = df_cohorts_selected.apply(\n",
    "    make_cohort_label,\n",
    "    axis=\"columns\",\n",
    ")\n",
    "df_cohorts_selected[\"sample_query\"] = df_cohorts_selected.apply(\n",
    "    # N.B., only include females, otherwise data on X contig will be wonky\n",
    "    lambda row: f\"{cohorts_col} == '{row.cohort_id}' and sex_call == 'F'\",\n",
    "    axis=\"columns\",\n",
    ")\n",
    "df_cohorts_selected"
   ]
  },
  {
   "cell_type": "code",
   "execution_count": null,
   "id": "18616a2e",
   "metadata": {},
   "outputs": [],
   "source": [
    "## Add average latitude and longitude for each cohort for plotting.\n",
    "## May want to use different approach, but mean OK for very small scales (which our cohorts usually are)\n",
    "\n",
    "for idx, row in df_cohorts_selected.iterrows():\n",
    "    df = df_samples.query(f\"cohort_admin2_quarter == '{row['cohort_id']}'\")\n",
    "\n",
    "    df_cohorts_selected.loc[idx, \"latitude\"] = df[\"latitude\"].mean()\n",
    "    df_cohorts_selected.loc[idx, \"longitude\"] = df[\"longitude\"].mean()"
   ]
  },
  {
   "cell_type": "code",
   "execution_count": null,
   "id": "6e08a834-8956-4ffb-9989-7ff18db25ba7",
   "metadata": {
    "tags": []
   },
   "outputs": [],
   "source": [
    "df_cohorts_selected.to_csv(setup.cohorts_file, index=False)"
   ]
  },
  {
   "cell_type": "code",
   "execution_count": null,
   "id": "469de355",
   "metadata": {},
   "outputs": [],
   "source": []
  }
 ],
 "metadata": {
  "environment": {
   "kernel": "selection-atlas",
   "name": "workbench-notebooks.m125",
   "type": "gcloud",
   "uri": "us-docker.pkg.dev/deeplearning-platform-release/gcr.io/workbench-notebooks:m125"
  },
  "kernelspec": {
   "display_name": "selection-atlas",
   "language": "python",
   "name": "python3"
  },
  "language_info": {
   "codemirror_mode": {
    "name": "ipython",
    "version": 3
   },
   "file_extension": ".py",
   "mimetype": "text/x-python",
   "name": "python",
   "nbconvert_exporter": "python",
   "pygments_lexer": "ipython3",
   "version": "3.12.8"
  },
  "widgets": {
   "application/vnd.jupyter.widget-state+json": {
    "state": {},
    "version_major": 2,
    "version_minor": 0
   }
  }
 },
 "nbformat": 4,
 "nbformat_minor": 5
}
