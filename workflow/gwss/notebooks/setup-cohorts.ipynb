{
 "cells": [
  {
   "cell_type": "markdown",
   "id": "3d4038e4-f21b-4c19-945c-47f8408e8bac",
   "metadata": {},
   "source": [
    "# Set up cohorts\n",
    "\n",
    "Here we create an initial table of cohorts that could be included in the site, adding some useful data and filtering on the minimum cohort size."
   ]
  },
  {
   "cell_type": "code",
   "execution_count": null,
   "id": "6d6917b5",
   "metadata": {
    "tags": [
     "parameters"
    ]
   },
   "outputs": [],
   "source": [
    "# Notebook parameters. Values here are for development only and\n",
    "# will be overridden when running via snakemake and papermill.\n",
    "\n",
    "config_file = \"../../../config/agam.2025.03.05.yaml\""
   ]
  },
  {
   "cell_type": "code",
   "execution_count": null,
   "id": "21e09d4d-b0c2-4d6e-819d-0c34077bf252",
   "metadata": {
    "tags": []
   },
   "outputs": [],
   "source": [
    "from selection_atlas.setup import AtlasSetup\n",
    "\n",
    "# Initialise the atlas setup.\n",
    "setup = AtlasSetup(config_file)"
   ]
  },
  {
   "cell_type": "code",
   "execution_count": null,
   "id": "920a22a4-2527-4a3c-b386-831e7134f0d8",
   "metadata": {
    "tags": []
   },
   "outputs": [],
   "source": [
    "df_samples = setup.sample_metadata()"
   ]
  },
  {
   "cell_type": "code",
   "execution_count": null,
   "id": "463d904e-918c-4c62-9e24-9235334111f3",
   "metadata": {
    "tags": []
   },
   "outputs": [],
   "source": [
    "cohorts_col = \"cohort_admin2_quarter\""
   ]
  },
  {
   "cell_type": "code",
   "execution_count": null,
   "id": "f305e85e-24c7-4f67-9a4e-c380512f4c39",
   "metadata": {
    "tags": []
   },
   "outputs": [],
   "source": [
    "def make_cohort_label(row):\n",
    "    # N.B., not all cohorts have a quarter defined, because samples were not provided\n",
    "    # with collection month in the metadata. In this case we expect to fall back to\n",
    "    # year.\n",
    "    if row.quarter > 0:\n",
    "        return f\"{row.country} / {row.admin2_name} / {row.taxon} / {row.year} / Q{row.quarter}\"\n",
    "    else:\n",
    "        return f\"{row.country} / {row.admin2_name} / {row.taxon} / {row.year}\""
   ]
  },
  {
   "cell_type": "code",
   "execution_count": null,
   "id": "afa8633f-c7f7-46b5-aa15-a0ad99938a7b",
   "metadata": {
    "tags": []
   },
   "outputs": [],
   "source": [
    "df_cohorts_selected = (\n",
    "    df_samples\n",
    "    # N.B., only include females, otherwise data on X contig will be wonky\n",
    "    .query(\"sex_call == 'F'\")\n",
    "    .groupby(cohorts_col)\n",
    "    .agg(\n",
    "        {\n",
    "            \"sample_id\": \"count\",\n",
    "            \"country\": \"first\",\n",
    "            \"admin1_iso\": \"first\",\n",
    "            \"admin1_name\": \"first\",\n",
    "            \"admin2_name\": \"first\",\n",
    "            \"taxon\": \"first\",\n",
    "            \"year\": \"first\",\n",
    "            \"quarter\": \"first\",\n",
    "        }\n",
    "    )\n",
    "    .reset_index()\n",
    "    .rename(\n",
    "        columns={\n",
    "            \"sample_id\": \"cohort_size\",\n",
    "            cohorts_col: \"cohort_id\",\n",
    "        }\n",
    "    )\n",
    "    .query(f\"cohort_size >= {setup.min_cohort_size}\")\n",
    ")\n",
    "df_cohorts_selected[\"cohort_label\"] = df_cohorts_selected.apply(\n",
    "    make_cohort_label,\n",
    "    axis=\"columns\",\n",
    ")\n",
    "df_cohorts_selected[\"sample_query\"] = df_cohorts_selected.apply(\n",
    "    # N.B., only include females, otherwise data on X contig will be wonky\n",
    "    lambda row: f\"{cohorts_col} == '{row.cohort_id}' and sex_call == 'F'\",\n",
    "    axis=\"columns\",\n",
    ")\n",
    "df_cohorts_selected"
   ]
  },
  {
   "cell_type": "code",
   "execution_count": null,
   "id": "6e08a834-8956-4ffb-9989-7ff18db25ba7",
   "metadata": {
    "tags": []
   },
   "outputs": [],
   "source": [
    "df_cohorts_selected.to_csv(setup.cohorts_file, index=False)"
   ]
  },
  {
   "cell_type": "code",
   "execution_count": null,
   "id": "469de355",
   "metadata": {},
   "outputs": [],
   "source": []
  }
 ],
 "metadata": {
  "environment": {
   "kernel": "selection-atlas",
   "name": "workbench-notebooks.m125",
   "type": "gcloud",
   "uri": "us-docker.pkg.dev/deeplearning-platform-release/gcr.io/workbench-notebooks:m125"
  },
  "kernelspec": {
   "display_name": "selection-atlas",
   "language": "python",
   "name": "selection-atlas"
  },
  "language_info": {
   "codemirror_mode": {
    "name": "ipython",
    "version": 3
   },
   "file_extension": ".py",
   "mimetype": "text/x-python",
   "name": "python",
   "nbconvert_exporter": "python",
   "pygments_lexer": "ipython3",
   "version": "3.12.8"
  },
  "widgets": {
   "application/vnd.jupyter.widget-state+json": {
    "state": {},
    "version_major": 2,
    "version_minor": 0
   }
  }
 },
 "nbformat": 4,
 "nbformat_minor": 5
}
