{
 "cells": [
  {
   "cell_type": "markdown",
   "id": "1d37bfe3-b331-44bf-b130-6a9de74f04dc",
   "metadata": {},
   "source": [
    "# H12 signal detection"
   ]
  },
  {
   "cell_type": "code",
   "execution_count": null,
   "id": "f7be00d8-f4b2-4208-92cd-bd0f704cb962",
   "metadata": {
    "tags": [
     "parameters"
    ]
   },
   "outputs": [],
   "source": [
    "# Notebook parameters. Values here are for development only and\n",
    "# will be overridden when running via snakemake and papermill.\n",
    "\n",
    "config_file = \"../../../config/agam.yaml\"\n",
    "cohort_id = \"BF-09_Houet_colu_2012_Q3\"\n",
    "contig = \"2R\""
   ]
  },
  {
   "cell_type": "markdown",
   "id": "a5608ba8-9355-417d-ae85-6262a919eed7",
   "metadata": {},
   "source": [
    "## Setup"
   ]
  },
  {
   "cell_type": "code",
   "execution_count": null,
   "id": "82736345-0d34-4577-9c53-fa382e85889b",
   "metadata": {
    "tags": []
   },
   "outputs": [],
   "source": [
    "import yaml\n",
    "import pandas as pd\n",
    "import matplotlib.pyplot as plt\n",
    "import numpy as np\n",
    "from selection_atlas.setup import AtlasSetup\n",
    "from selection_atlas import peak_utils\n",
    "\n",
    "# Initialise the atlas setup.\n",
    "setup = AtlasSetup(config_file)\n",
    "\n",
    "%matplotlib inline\n",
    "%config InlineBackend.figure_format = 'retina'"
   ]
  },
  {
   "cell_type": "code",
   "execution_count": null,
   "id": "69557ca7-1029-4192-9f2d-21a9c5712183",
   "metadata": {
    "tags": []
   },
   "outputs": [],
   "source": [
    "# Load window sizes.\n",
    "h12_calibration_file = setup.h12_calibration_files.as_posix().format(cohort=cohort_id)\n",
    "with open(h12_calibration_file) as calibration_file:\n",
    "    calibration_params = yaml.safe_load(calibration_file)\n",
    "window_size = calibration_params[\"h12_window_size\"]\n",
    "window_size"
   ]
  },
  {
   "cell_type": "code",
   "execution_count": null,
   "id": "c716902a-1052-4f0b-b635-076f707cc0f3",
   "metadata": {
    "tags": []
   },
   "outputs": [],
   "source": [
    "# load cohorts to find sample query\n",
    "df_cohorts = pd.read_csv(setup.cohorts_file).set_index(\"cohort_id\")\n",
    "cohort = df_cohorts.loc[cohort_id]\n",
    "cohort"
   ]
  },
  {
   "cell_type": "code",
   "execution_count": null,
   "id": "99b9d4cf-cae2-44d4-a8ee-c159704fb86f",
   "metadata": {
    "tags": []
   },
   "outputs": [],
   "source": [
    "cohort_query = cohort.sample_query\n",
    "cohort_query"
   ]
  },
  {
   "cell_type": "code",
   "execution_count": null,
   "id": "5ddba9b4-51d7-4548-b8ca-d66c48a00757",
   "metadata": {
    "tags": []
   },
   "outputs": [],
   "source": [
    "phasing_analysis = setup.taxon_phasing_analysis[cohort.taxon]\n",
    "phasing_analysis"
   ]
  },
  {
   "cell_type": "markdown",
   "id": "4c7323c9-890f-401f-a7cc-eb36fec831f8",
   "metadata": {},
   "source": [
    "## Run signal detection"
   ]
  },
  {
   "cell_type": "code",
   "execution_count": null,
   "id": "0c336769-dec3-42f3-a5ad-6da7ec8454b4",
   "metadata": {
    "tags": []
   },
   "outputs": [],
   "source": [
    "# set parameters for signal detection\n",
    "filter_size = 20  # hampel filter parameter\n",
    "filter_t = 2  # hampel filter parameter\n",
    "scan_interval = 1  # step in cM\n",
    "min_baseline = 0\n",
    "max_baseline_percentile = 95\n",
    "min_amplitude = 0.03\n",
    "init_amplitude = 0.5\n",
    "max_amplitude = 1.5\n",
    "min_decay = 0.1\n",
    "init_decay = 0.5\n",
    "max_abs_skew = 0.5\n",
    "scan_start = None\n",
    "scan_stop = None\n",
    "debug = True"
   ]
  },
  {
   "cell_type": "code",
   "execution_count": null,
   "id": "56d7ebf0-28bd-4df3-be0b-3dee118dc995",
   "metadata": {
    "tags": []
   },
   "outputs": [],
   "source": [
    "# load gwss data\n",
    "ppos, h12, _ = setup.malariagen_api.h12_gwss(\n",
    "    contig=contig,\n",
    "    window_size=window_size,\n",
    "    analysis=phasing_analysis,\n",
    "    sample_sets=setup.sample_sets,\n",
    "    sample_query=cohort_query,\n",
    "    min_cohort_size=setup.min_cohort_size,\n",
    "    max_cohort_size=setup.max_cohort_size,\n",
    ")"
   ]
  },
  {
   "cell_type": "code",
   "execution_count": null,
   "id": "28748c64-8221-4c0d-a2ea-ded9af9cffe8",
   "metadata": {
    "tags": []
   },
   "outputs": [],
   "source": [
    "# convert to int\n",
    "ppos = ppos.astype(int)\n",
    "ppos"
   ]
  },
  {
   "cell_type": "code",
   "execution_count": null,
   "id": "0d1ebd57-8519-47f6-bc82-7a921081f820",
   "metadata": {
    "tags": []
   },
   "outputs": [],
   "source": [
    "# map physical to genetic position\n",
    "gpos = peak_utils.p2g(setup, contig=contig, ppos=ppos)\n",
    "gpos"
   ]
  },
  {
   "cell_type": "code",
   "execution_count": null,
   "id": "f259cb9a-e739-4ab1-925a-e9ee0dd93904",
   "metadata": {
    "tags": []
   },
   "outputs": [],
   "source": [
    "if debug:\n",
    "    # quick check of genetic map\n",
    "    fig, ax = plt.subplots(figsize=(4, 4))\n",
    "    ax.plot(ppos, gpos)\n",
    "    ax.set_xlabel(\"Physical position (bp)\")\n",
    "    ax.set_ylabel(\"Genetic position (cM)\")\n",
    "    ax.set_title(contig)\n",
    "    fig.tight_layout()"
   ]
  },
  {
   "cell_type": "code",
   "execution_count": null,
   "id": "8f0afe82-be35-44cf-bdb7-e2da40136fb4",
   "metadata": {
    "tags": []
   },
   "outputs": [],
   "source": [
    "# filter outliers\n",
    "h12_filtered = peak_utils.hampel_filter(h12, size=filter_size, t=filter_t)"
   ]
  },
  {
   "cell_type": "code",
   "execution_count": null,
   "id": "20baf573-ad47-4d29-982e-9282d0665991",
   "metadata": {
    "tags": []
   },
   "outputs": [],
   "source": [
    "if debug:\n",
    "    # before filtering\n",
    "    fig, ax = plt.subplots(figsize=(8, 2))\n",
    "    ax.plot(\n",
    "        gpos,\n",
    "        h12,\n",
    "        marker=\"o\",\n",
    "        linestyle=\" \",\n",
    "        mfc=\"none\",\n",
    "        markersize=1,\n",
    "        mew=0.5,\n",
    "        color=\"k\",\n",
    "    )\n",
    "    ax.set_title(\"Unfiltered\")\n",
    "    ax.set_ylim(0, 1)\n",
    "    fig.tight_layout()\n",
    "\n",
    "    # after filtering\n",
    "    fig, ax = plt.subplots(figsize=(8, 2))\n",
    "    ax.plot(\n",
    "        gpos,\n",
    "        h12_filtered,\n",
    "        marker=\"o\",\n",
    "        linestyle=\" \",\n",
    "        mfc=\"none\",\n",
    "        markersize=1,\n",
    "        mew=0.5,\n",
    "        color=\"k\",\n",
    "    )\n",
    "    ax.set_title(\"Filtered\")\n",
    "    ax.set_ylim(0, 1)\n",
    "    fig.tight_layout()"
   ]
  },
  {
   "cell_type": "code",
   "execution_count": null,
   "id": "e878719b-0bd9-44c8-aae2-39e78059e13b",
   "metadata": {
    "tags": []
   },
   "outputs": [],
   "source": [
    "# set parameters\n",
    "init_baseline = np.median(h12_filtered)\n",
    "max_baseline = np.percentile(h12_filtered, max_baseline_percentile)\n",
    "min_skew, init_skew, max_skew = -max_abs_skew, 0, max_abs_skew\n",
    "if not scan_start:\n",
    "    scan_start = 2\n",
    "if not scan_stop:\n",
    "    scan_stop = gpos[-1] - 2"
   ]
  },
  {
   "cell_type": "code",
   "execution_count": null,
   "id": "47a7af77-9f48-47ae-b9fc-d9aa68889601",
   "metadata": {
    "tags": []
   },
   "outputs": [],
   "source": [
    "# set up results\n",
    "results = []\n",
    "\n",
    "# main loop, iterate along the contig\n",
    "for gcenter in np.arange(scan_start, scan_stop, scan_interval):\n",
    "    for gflank in setup.h12_signal_detection_gflanks:\n",
    "        # print('center', gcenter, 'flank size', gflank)\n",
    "\n",
    "        result = peak_utils.fit_exponential_peak(\n",
    "            setup=setup,\n",
    "            contig=contig,\n",
    "            cohort_id=cohort_id,\n",
    "            gpos=gpos,\n",
    "            stat_filtered=h12_filtered,\n",
    "            gcenter=gcenter,\n",
    "            gflank=gflank,\n",
    "            scan_interval=scan_interval,\n",
    "            init_amplitude=init_amplitude,\n",
    "            min_amplitude=min_amplitude,\n",
    "            max_amplitude=max_amplitude,\n",
    "            init_decay=init_decay,\n",
    "            min_decay=min_decay,\n",
    "            init_skew=init_skew,\n",
    "            min_skew=min_skew,\n",
    "            max_skew=max_skew,\n",
    "            init_baseline=init_baseline,\n",
    "            min_baseline=min_baseline,\n",
    "            max_baseline=max_baseline,\n",
    "            min_delta_aic=setup.h12_signal_detection_min_delta_aic,\n",
    "            min_stat_max=setup.h12_signal_detection_min_stat_max,\n",
    "            debug=debug,\n",
    "        )\n",
    "\n",
    "        if result is not None:\n",
    "            results.append(result)\n",
    "\n",
    "df_signals = pd.DataFrame.from_records(results)\n",
    "df_signals"
   ]
  },
  {
   "cell_type": "code",
   "execution_count": null,
   "id": "ab68af4f-2e84-4a5a-be90-39c4caf76c54",
   "metadata": {
    "tags": []
   },
   "outputs": [],
   "source": [
    "def dedup_signals(df_signals):\n",
    "    keep = list(range(len(df_signals)))\n",
    "    for i, this in df_signals.iterrows():\n",
    "        for j, that in df_signals.iterrows():\n",
    "            if i != j:\n",
    "                # thank you Ned Batchelder\n",
    "                # https://nedbatchelder.com/blog/201310/range_overlap_in_two_compares.html\n",
    "                disjoint = (\n",
    "                    that.span1_gstart > this.span1_gstop\n",
    "                    or that.span1_gstop < this.span1_gstart\n",
    "                )\n",
    "                if not disjoint and that.delta_i > this.delta_i:\n",
    "                    keep.remove(i)\n",
    "                    break\n",
    "    return df_signals.iloc[keep].copy()"
   ]
  },
  {
   "cell_type": "code",
   "execution_count": null,
   "id": "bb99da56-222d-4371-ab69-84f84718b84b",
   "metadata": {
    "tags": []
   },
   "outputs": [],
   "source": [
    "df_signals_dedup = dedup_signals(df_signals)\n",
    "df_signals_dedup"
   ]
  },
  {
   "cell_type": "markdown",
   "id": "4a74c212-fedd-439a-a5b6-5bdfb4387a53",
   "metadata": {},
   "source": [
    "## Write outputs"
   ]
  },
  {
   "cell_type": "code",
   "execution_count": null,
   "id": "01381668-7f74-49e6-9f61-57caef886b57",
   "metadata": {
    "tags": []
   },
   "outputs": [],
   "source": [
    "h12_signal_file = setup.h12_signal_files.as_posix().format(\n",
    "    cohort=cohort_id, contig=contig\n",
    ")\n",
    "with open(h12_signal_file, mode=\"w\") as output_file:\n",
    "    df_signals_dedup.to_csv(output_file, index=False)"
   ]
  },
  {
   "cell_type": "code",
   "execution_count": null,
   "id": "2fe1c1b8-d620-48ca-8940-a7124f2653d4",
   "metadata": {},
   "outputs": [],
   "source": []
  }
 ],
 "metadata": {
  "environment": {
   "kernel": "selection-atlas",
   "name": "workbench-notebooks.m125",
   "type": "gcloud",
   "uri": "us-docker.pkg.dev/deeplearning-platform-release/gcr.io/workbench-notebooks:m125"
  },
  "kernelspec": {
   "display_name": "selection-atlas",
   "language": "python",
   "name": "selection-atlas"
  },
  "language_info": {
   "codemirror_mode": {
    "name": "ipython",
    "version": 3
   },
   "file_extension": ".py",
   "mimetype": "text/x-python",
   "name": "python",
   "nbconvert_exporter": "python",
   "pygments_lexer": "ipython3",
   "version": "3.12.8"
  }
 },
 "nbformat": 4,
 "nbformat_minor": 5
}
