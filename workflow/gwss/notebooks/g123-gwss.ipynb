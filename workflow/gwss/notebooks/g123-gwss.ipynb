{
 "cells": [
  {
   "cell_type": "markdown",
   "id": "7b236ee1-7932-43a9-bb4f-078b2bd0e6b6",
   "metadata": {},
   "source": [
    "# G123 genome-wide selection scans"
   ]
  },
  {
   "cell_type": "code",
   "execution_count": null,
   "id": "3abe056c",
   "metadata": {
    "tags": [
     "parameters"
    ]
   },
   "outputs": [],
   "source": [
    "# Notebook parameters. Values here are for development only and\n",
    "# will be overridden when running via snakemake and papermill.\n",
    "\n",
    "# General setup parameters.\n",
    "atlas_id = \"ag\"\n",
    "analysis_version = \"dev\"\n",
    "cohorts_analysis = \"20240924\"\n",
    "contigs = [\"3L\"]\n",
    "dask_scheduler = \"single-threaded\"\n",
    "\n",
    "# Other parameters.\n",
    "sample_sets = \"AG1000G-BF-A\"\n",
    "sample_query = None\n",
    "min_cohort_size = 20\n",
    "max_cohort_size = 50\n",
    "cohort_id = \"BF-09_Houet_colu_2012_Q3\""
   ]
  },
  {
   "cell_type": "markdown",
   "id": "a4dc68dd-56d9-4b60-b168-641f6339a458",
   "metadata": {},
   "source": [
    "## Setup"
   ]
  },
  {
   "cell_type": "code",
   "execution_count": null,
   "id": "df2f18c0",
   "metadata": {
    "tags": []
   },
   "outputs": [],
   "source": [
    "import yaml\n",
    "import pandas as pd\n",
    "from selection_atlas.setup import AtlasSetup\n",
    "\n",
    "# Initialise the atlas setup.\n",
    "setup = AtlasSetup(\n",
    "    atlas_id=atlas_id,\n",
    "    analysis_version=analysis_version,\n",
    "    cohorts_analysis=cohorts_analysis,\n",
    "    contigs=contigs,\n",
    "    dask_scheduler=dask_scheduler,\n",
    ")"
   ]
  },
  {
   "cell_type": "code",
   "execution_count": null,
   "id": "a076d3f0-4e54-4041-9f03-d7be6eb2cf1a",
   "metadata": {
    "tags": []
   },
   "outputs": [],
   "source": [
    "sample_sets"
   ]
  },
  {
   "cell_type": "code",
   "execution_count": null,
   "id": "4de3e8dd",
   "metadata": {
    "tags": []
   },
   "outputs": [],
   "source": [
    "# load window sizes\n",
    "g123_calibration_file = setup.g123_calibration_files.as_posix().format(cohort=cohort_id)\n",
    "with open(g123_calibration_file) as calibration_file:\n",
    "    calibration_params = yaml.safe_load(calibration_file)\n",
    "window_size = calibration_params[\"g123_window_size\"]\n",
    "window_size"
   ]
  },
  {
   "cell_type": "code",
   "execution_count": null,
   "id": "53d5999d",
   "metadata": {
    "tags": []
   },
   "outputs": [],
   "source": [
    "# load cohorts to find sample query\n",
    "df_cohorts = pd.read_csv(setup.final_cohorts_file).set_index(\"cohort_id\")\n",
    "cohort = df_cohorts.loc[cohort_id]\n",
    "cohort"
   ]
  },
  {
   "cell_type": "code",
   "execution_count": null,
   "id": "739344b6",
   "metadata": {
    "tags": []
   },
   "outputs": [],
   "source": [
    "sample_query = cohort.sample_query\n",
    "sample_query"
   ]
  },
  {
   "cell_type": "code",
   "execution_count": null,
   "id": "ec39fbce",
   "metadata": {
    "tags": []
   },
   "outputs": [],
   "source": [
    "if cohort.taxon == \"arabiensis\":\n",
    "    sites = site_mask = \"arab\"\n",
    "else:\n",
    "    sites = site_mask = \"gamb_colu\"\n",
    "site_mask"
   ]
  },
  {
   "cell_type": "markdown",
   "id": "181c2a43-7e70-467e-85af-bd3113c24513",
   "metadata": {},
   "source": [
    "## Run GWSS"
   ]
  },
  {
   "cell_type": "code",
   "execution_count": null,
   "id": "394f5afb",
   "metadata": {
    "tags": []
   },
   "outputs": [],
   "source": [
    "for contig in contigs:\n",
    "    print(f\"running {contig}\")\n",
    "    setup.malariagen_api.plot_g123_gwss(\n",
    "        contig=contig,\n",
    "        window_size=window_size,\n",
    "        sites=sites,\n",
    "        site_mask=site_mask,\n",
    "        sample_sets=sample_sets,\n",
    "        sample_query=sample_query,\n",
    "        min_cohort_size=min_cohort_size,\n",
    "        max_cohort_size=max_cohort_size,\n",
    "    )"
   ]
  },
  {
   "cell_type": "markdown",
   "id": "034515ca-3d70-4364-a8a4-5273d02c9dda",
   "metadata": {},
   "source": [
    "N.B., results of the selection scans will be automatically saved into the malariagen_data results cache."
   ]
  }
 ],
 "metadata": {
  "kernelspec": {
   "display_name": "selection-atlas",
   "language": "python",
   "name": "python3"
  },
  "language_info": {
   "codemirror_mode": {
    "name": "ipython",
    "version": 3
   },
   "file_extension": ".py",
   "mimetype": "text/x-python",
   "name": "python",
   "nbconvert_exporter": "python",
   "pygments_lexer": "ipython3",
   "version": "3.12.8"
  }
 },
 "nbformat": 4,
 "nbformat_minor": 5
}
