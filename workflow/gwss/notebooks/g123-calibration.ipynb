{
 "cells": [
  {
   "cell_type": "markdown",
   "id": "558a69f6-cc5c-4f18-be1f-bb216f865599",
   "metadata": {},
   "source": [
    "# G123 window size calibration"
   ]
  },
  {
   "cell_type": "code",
   "execution_count": null,
   "id": "b58ec70a",
   "metadata": {
    "tags": [
     "parameters"
    ]
   },
   "outputs": [],
   "source": [
    "# Notebook parameters. Values here are for development only and\n",
    "# will be overridden when running via snakemake and papermill.\n",
    "\n",
    "config_file = \"../../../config/agam.yaml\"\n",
    "cohort_id = \"BF-09_Houet_colu_2012_Q3\""
   ]
  },
  {
   "cell_type": "markdown",
   "id": "87a7858c-e05a-47dc-ac14-7dff6afc0789",
   "metadata": {},
   "source": [
    "## Setup"
   ]
  },
  {
   "cell_type": "code",
   "execution_count": null,
   "id": "a43f9a9b-f202-426f-830e-e430a8f762d7",
   "metadata": {
    "tags": []
   },
   "outputs": [],
   "source": [
    "import pandas as pd\n",
    "import numpy as np\n",
    "import yaml\n",
    "from selection_atlas.setup import AtlasSetup\n",
    "\n",
    "# Initialise the atlas setup.\n",
    "setup = AtlasSetup(config_file)"
   ]
  },
  {
   "cell_type": "code",
   "execution_count": null,
   "id": "165f3f10-8301-4b96-bf01-7639efbc47ca",
   "metadata": {
    "tags": []
   },
   "outputs": [],
   "source": [
    "df_cohorts = pd.read_csv(setup.cohorts_file).set_index(\"cohort_id\")\n",
    "df_cohorts.head()"
   ]
  },
  {
   "cell_type": "code",
   "execution_count": null,
   "id": "4b8994d6-1f03-4613-9aeb-1dffe9e3c745",
   "metadata": {
    "tags": []
   },
   "outputs": [],
   "source": [
    "cohort = df_cohorts.loc[cohort_id]\n",
    "cohort"
   ]
  },
  {
   "cell_type": "code",
   "execution_count": null,
   "id": "ae14434e-fb63-40e2-b11f-445f10c0e8f2",
   "metadata": {
    "tags": []
   },
   "outputs": [],
   "source": [
    "# determine the phasing analysis to use\n",
    "cohort.taxon"
   ]
  },
  {
   "cell_type": "code",
   "execution_count": null,
   "id": "795e6a08-85d3-4445-a729-d4064533e106",
   "metadata": {
    "tags": []
   },
   "outputs": [],
   "source": [
    "sample_query = cohort.sample_query\n",
    "sample_query"
   ]
  },
  {
   "cell_type": "code",
   "execution_count": null,
   "id": "53b4eb48-ccc9-443f-bd6d-d0595ea1b5cf",
   "metadata": {
    "tags": []
   },
   "outputs": [],
   "source": [
    "if cohort.taxon == \"arabiensis\":\n",
    "    sites = site_mask = \"arab\"\n",
    "else:\n",
    "    sites = site_mask = \"gamb_colu\"\n",
    "site_mask"
   ]
  },
  {
   "cell_type": "markdown",
   "id": "1a281281-2954-46e3-9757-cb3e07b8a403",
   "metadata": {},
   "source": [
    "## Run calibration"
   ]
  },
  {
   "cell_type": "code",
   "execution_count": null,
   "id": "b3bbf103-0a6b-453a-b564-4dc71a1682d1",
   "metadata": {
    "tags": []
   },
   "outputs": [],
   "source": [
    "setup.malariagen_api.plot_g123_calibration(\n",
    "    contig=setup.g123_calibration_contig,\n",
    "    site_mask=site_mask,\n",
    "    sites=sites,\n",
    "    sample_sets=setup.sample_sets,\n",
    "    sample_query=setup.sample_query,\n",
    "    min_cohort_size=setup.min_cohort_size,\n",
    "    max_cohort_size=setup.max_cohort_size,\n",
    "    window_sizes=setup.g123_calibration_window_sizes,\n",
    ");"
   ]
  },
  {
   "cell_type": "code",
   "execution_count": null,
   "id": "57bf7410-1693-4e5e-ac0a-9f83880d34ba",
   "metadata": {
    "tags": []
   },
   "outputs": [],
   "source": [
    "calibration_runs = setup.malariagen_api.g123_calibration(\n",
    "    contig=setup.g123_calibration_contig,\n",
    "    site_mask=site_mask,\n",
    "    sites=sites,\n",
    "    sample_sets=setup.sample_sets,\n",
    "    sample_query=setup.sample_query,\n",
    "    min_cohort_size=setup.min_cohort_size,\n",
    "    max_cohort_size=setup.max_cohort_size,\n",
    "    window_sizes=setup.g123_calibration_window_sizes,\n",
    ")\n",
    "calibration_runs"
   ]
  },
  {
   "cell_type": "code",
   "execution_count": null,
   "id": "aa92376f-7073-43c9-a33d-5edab1628402",
   "metadata": {
    "tags": []
   },
   "outputs": [],
   "source": [
    "selected_window_size = None\n",
    "for window_size in window_sizes:\n",
    "    x = calibration_runs[str(window_size)]\n",
    "    x95 = np.percentile(x, 95)\n",
    "    if x95 < 0.1:\n",
    "        selected_window_size = window_size\n",
    "        break\n",
    "selected_window_size"
   ]
  },
  {
   "cell_type": "markdown",
   "id": "5ba0820e-7797-48f8-aa48-366937a005bc",
   "metadata": {},
   "source": [
    "## Write outputs"
   ]
  },
  {
   "cell_type": "code",
   "execution_count": null,
   "id": "8ee2e373-cafd-40c2-ae84-264fc56b03e3",
   "metadata": {
    "tags": []
   },
   "outputs": [],
   "source": [
    "output = {\"g123_window_size\": selected_window_size}\n",
    "g123_calibration_file = setup.g123_calibration_files.as_posix().format(cohort=cohort_id)\n",
    "with open(g123_calibration_file, mode=\"w\") as output_file:\n",
    "    yaml.safe_dump(output, output_file)"
   ]
  }
 ],
 "metadata": {
  "celltoolbar": "Tags",
  "kernelspec": {
   "display_name": "selection-atlas",
   "language": "python",
   "name": "selection-atlas"
  },
  "language_info": {
   "codemirror_mode": {
    "name": "ipython",
    "version": 3
   },
   "file_extension": ".py",
   "mimetype": "text/x-python",
   "name": "python",
   "nbconvert_exporter": "python",
   "pygments_lexer": "ipython3",
   "version": "3.12.8"
  }
 },
 "nbformat": 4,
 "nbformat_minor": 5
}
