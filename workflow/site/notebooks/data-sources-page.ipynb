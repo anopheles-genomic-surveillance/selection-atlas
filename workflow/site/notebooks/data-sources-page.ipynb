{
 "cells": [
  {
   "cell_type": "code",
   "execution_count": null,
   "id": "76d2e44c",
   "metadata": {
    "tags": [
     "parameters",
     "remove-input"
    ]
   },
   "outputs": [],
   "source": [
    "# Notebook parameters. Values here are for development only and\n",
    "# will be overridden when running via snakemake and papermill.\n",
    "\n",
    "config_file = \"../../../config/agam.yaml\""
   ]
  },
  {
   "cell_type": "code",
   "execution_count": null,
   "id": "ead60adb",
   "metadata": {
    "tags": [
     "remove-input"
    ]
   },
   "outputs": [],
   "source": [
    "from bokeh.io import output_notebook\n",
    "from IPython.display import Markdown\n",
    "from selection_atlas.setup import AtlasSetup\n",
    "from selection_atlas.page_utils import AtlasPageUtils\n",
    "\n",
    "# Initialise the atlas setup.\n",
    "setup = AtlasSetup(config_file)\n",
    "page_utils = AtlasPageUtils(setup=setup)\n",
    "\n",
    "# N.B., do not add the \"remove-output\" tag to this cell!!! If you do,\n",
    "# the bokeh javascript libraries will not get loaded in the generated\n",
    "# HTML page. The call to output_notebook() injects javascript in the\n",
    "# cell output which triggers the bokeh javascript libraries to be loaded\n",
    "# in the page.\n",
    "output_notebook(hide_banner=True)"
   ]
  },
  {
   "cell_type": "markdown",
   "id": "40570cb8-af06-4e5c-8229-cff43567e884",
   "metadata": {
    "tags": []
   },
   "source": [
    "# Data sources"
   ]
  },
  {
   "cell_type": "code",
   "execution_count": null,
   "id": "11e04c75-ce40-4a83-9b17-7e7727b3eb85",
   "metadata": {
    "tags": [
     "remove-input"
    ]
   },
   "outputs": [],
   "source": [
    "df_samples = setup.sample_metadata()\n",
    "df_samples.columns"
   ]
  },
  {
   "cell_type": "code",
   "execution_count": null,
   "id": "03747190-1294-417f-92ca-20ce33b1825a",
   "metadata": {
    "tags": [
     "remove-input"
    ]
   },
   "outputs": [],
   "source": [
    "countries = df_samples[\"country\"].unique()"
   ]
  },
  {
   "cell_type": "code",
   "execution_count": null,
   "id": "855144bd-0b33-4d61-93de-377bc58d092f",
   "metadata": {
    "tags": []
   },
   "outputs": [],
   "source": [
    "Markdown(f\"\"\"\n",
    "This report analyses data from the {{term}}`Malaria Vector Genome Observatory`. The \n",
    "current analysis version is {setup.atlas_id}/{setup.analysis_version} which includes\n",
    "data for a total of {len(df_samples):,} mosquitoes sampled from {len(countries)} countries. Please \n",
    "see the table below for more information about the sample sets and releases from which the data \n",
    "were obtained.\n",
    "\"\"\")"
   ]
  },
  {
   "cell_type": "code",
   "execution_count": null,
   "id": "a6485a93-8574-434c-9f64-3764a22f1044",
   "metadata": {
    "tags": [
     "remove-input"
    ]
   },
   "outputs": [],
   "source": [
    "release_prefix = {\n",
    "    \"agam\": \"Ag\",\n",
    "    \"afun\": \"Af\",\n",
    "}[setup.atlas_id]\n",
    "\n",
    "\n",
    "def make_clickable_study(row):\n",
    "    study_url = row[\"study_url\"]\n",
    "    study_url = study_url.split(\", \")[\n",
    "        0\n",
    "    ]  # deal with campos-2021 which has multiple URLs\n",
    "    study_id = row[\"study_id\"]\n",
    "    return f'<a href=\"{study_url}\" target=\"_blank\">{study_id}</a>'\n",
    "\n",
    "\n",
    "def make_clickable_release(row):\n",
    "    release = release_prefix + row[\"release\"]\n",
    "    url = f\"https://malariagen.github.io/vector-data/{release[:3].lower()}/{release.lower()}.html\"\n",
    "    return f'<a href=\"{url}\" rel=\"noopener noreferrer\" target=\"_blank\">{release}</a>'\n",
    "\n",
    "\n",
    "df_sources = (\n",
    "    df_samples[[\"sample_set\", \"study_id\", \"study_url\", \"contributor\", \"release\"]]\n",
    "    .groupby(\"sample_set\")\n",
    "    .agg(\n",
    "        {\n",
    "            \"study_id\": \"first\",\n",
    "            \"study_url\": \"first\",\n",
    "            \"contributor\": lambda x: \", \".join(\n",
    "                set(x)\n",
    "            ),  # some sample sets have mixed contributors\n",
    "            \"release\": \"first\",\n",
    "        }\n",
    "    )\n",
    "    .reset_index(drop=False)\n",
    ")\n",
    "\n",
    "# Get proper ordering of releases.\n",
    "release_split = (\n",
    "    df_sources[\"release\"].str.split(\".\").apply(lambda x: tuple([int(i) for i in x]))\n",
    ")\n",
    "df_sources[\"release_split\"] = release_split\n",
    "\n",
    "# Make links clickable.\n",
    "df_sources[\"study_id\"] = df_sources.apply(make_clickable_study, axis=\"columns\")\n",
    "df_sources[\"release\"] = df_sources.apply(make_clickable_release, axis=\"columns\")\n",
    "df_sources_style = (\n",
    "    df_sources.sort_values([\"release_split\", \"sample_set\"])[\n",
    "        [\"sample_set\", \"study_id\", \"contributor\", \"release\"]\n",
    "    ]\n",
    "    .rename(\n",
    "        {\n",
    "            \"sample_set\": \"Sample Set\",\n",
    "            \"study_id\": \"Study\",\n",
    "            \"contributor\": \"Contributor\",\n",
    "            \"release\": \"Data Release\",\n",
    "        },\n",
    "        axis=\"columns\",\n",
    "    )\n",
    "    .style.set_caption(\n",
    "        \"Table 1. Malaria Vector Genome Observatory sample sets used for the current analysis.\"\n",
    "    )\n",
    "    .hide(axis=\"index\")\n",
    ")\n",
    "df_sources_style"
   ]
  },
  {
   "cell_type": "code",
   "execution_count": null,
   "id": "42bc048b",
   "metadata": {},
   "outputs": [],
   "source": []
  }
 ],
 "metadata": {
  "celltoolbar": "Tags",
  "environment": {
   "kernel": "selection-atlas",
   "name": "workbench-notebooks.m125",
   "type": "gcloud",
   "uri": "us-docker.pkg.dev/deeplearning-platform-release/gcr.io/workbench-notebooks:m125"
  },
  "kernelspec": {
   "display_name": "selection-atlas",
   "language": "python",
   "name": "selection-atlas"
  },
  "language_info": {
   "codemirror_mode": {
    "name": "ipython",
    "version": 3
   },
   "file_extension": ".py",
   "mimetype": "text/x-python",
   "name": "python",
   "nbconvert_exporter": "python",
   "pygments_lexer": "ipython3",
   "version": "3.12.8"
  }
 },
 "nbformat": 4,
 "nbformat_minor": 5
}
