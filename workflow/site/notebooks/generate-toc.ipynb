{
 "cells": [
  {
   "cell_type": "markdown",
   "id": "0402fbc0",
   "metadata": {},
   "source": [
    "# Generate book table of contents\n",
    "\n",
    "Here we generate the Jupyter book table of contents file at `docs/_toc.yml`."
   ]
  },
  {
   "cell_type": "code",
   "execution_count": null,
   "id": "6e7f3c55",
   "metadata": {
    "tags": [
     "parameters"
    ]
   },
   "outputs": [],
   "source": [
    "# Notebook parameters. Values here are for development only and\n",
    "# will be overridden when running via snakemake and papermill.\n",
    "contigs = [\"3L\"]\n",
    "cohorts_analysis = \"20240924\"\n",
    "analysis_version = \"2025.02.07\"\n",
    "dask_scheduler = \"single-threaded\"\n",
    "alerts = [\"01\", \"02\"]"
   ]
  },
  {
   "cell_type": "code",
   "execution_count": null,
   "id": "b351415c",
   "metadata": {
    "tags": []
   },
   "outputs": [],
   "source": [
    "from pyprojroot import here\n",
    "\n",
    "root = here()\n",
    "%run -i {root}/workflow/common/scripts/setup.py\n",
    "%run -i {root}/workflow/site/scripts/page-setup.py"
   ]
  },
  {
   "cell_type": "code",
   "execution_count": null,
   "id": "f2689988",
   "metadata": {
    "tags": []
   },
   "outputs": [],
   "source": [
    "countries = gdf_cohorts[\"country_alpha2\"].unique()\n",
    "countries"
   ]
  },
  {
   "cell_type": "code",
   "execution_count": null,
   "id": "6db0fcbf",
   "metadata": {
    "tags": []
   },
   "outputs": [],
   "source": [
    "alerts_part = dict(\n",
    "    caption=\"Selection alerts\",\n",
    "    chapters=[\n",
    "        dict(\n",
    "            file=\"alerts\",\n",
    "            sections=[dict(file=f\"alert/SA-AG-{a}\") for a in alerts],\n",
    "        ),\n",
    "    ],\n",
    ")\n",
    "alerts_part"
   ]
  },
  {
   "cell_type": "code",
   "execution_count": null,
   "id": "8813d652",
   "metadata": {},
   "outputs": [],
   "source": [
    "contig_part = dict(\n",
    "    caption=\"By chromosome\",\n",
    "    chapters=[\n",
    "        dict(\n",
    "            file=f\"contig/ag-{contig}\",\n",
    "        )\n",
    "        for contig in contigs\n",
    "    ],\n",
    ")\n",
    "contig_part"
   ]
  },
  {
   "cell_type": "code",
   "execution_count": null,
   "id": "cdf356bb",
   "metadata": {},
   "outputs": [],
   "source": [
    "def build_country_chapter(country):\n",
    "    cohorts = sorted(gdf_cohorts.query(f\"country_alpha2 == '{country}'\")[\"cohort_id\"])\n",
    "    chapter = dict(\n",
    "        file=f\"country/{country}\",\n",
    "        sections=[\n",
    "            dict(\n",
    "                file=f\"cohort/{cohort}\",\n",
    "            )\n",
    "            for cohort in cohorts\n",
    "        ],\n",
    "    )\n",
    "    return chapter"
   ]
  },
  {
   "cell_type": "code",
   "execution_count": null,
   "id": "20069ed1",
   "metadata": {},
   "outputs": [],
   "source": [
    "countries_part = dict(\n",
    "    caption=\"By country\",\n",
    "    chapters=[build_country_chapter(country) for country in countries],\n",
    ")\n",
    "countries_part"
   ]
  },
  {
   "cell_type": "code",
   "execution_count": null,
   "id": "45ea51ad-483e-4119-93ef-929873afe370",
   "metadata": {},
   "outputs": [],
   "source": [
    "about_part = dict(\n",
    "    caption=\"About\",\n",
    "    chapters=[\n",
    "        dict(file=\"methods\"),\n",
    "        dict(file=\"faq\"),\n",
    "        dict(file=\"glossary\"),\n",
    "    ],\n",
    ")"
   ]
  },
  {
   "cell_type": "code",
   "execution_count": null,
   "id": "76e17b0d",
   "metadata": {},
   "outputs": [],
   "source": [
    "toc = dict(\n",
    "    format=\"jb-book\",\n",
    "    root=\"index\",\n",
    "    parts=[\n",
    "        alerts_part,\n",
    "        contig_part,\n",
    "        countries_part,\n",
    "        about_part,\n",
    "    ],\n",
    ")\n",
    "toc"
   ]
  },
  {
   "cell_type": "code",
   "execution_count": null,
   "id": "dabc4b40",
   "metadata": {},
   "outputs": [],
   "source": [
    "with open(\n",
    "    here() / \"results\" / analysis_version / \"site\" / \"docs\" / \"_toc.yml\", mode=\"w\"\n",
    ") as output_file:\n",
    "    yaml.safe_dump(toc, output_file)"
   ]
  },
  {
   "cell_type": "code",
   "execution_count": null,
   "id": "65283e5a",
   "metadata": {},
   "outputs": [],
   "source": []
  }
 ],
 "metadata": {
  "kernelspec": {
   "display_name": "selection-atlas",
   "language": "python",
   "name": "selection-atlas"
  },
  "language_info": {
   "codemirror_mode": {
    "name": "ipython",
    "version": 3
   },
   "file_extension": ".py",
   "mimetype": "text/x-python",
   "name": "python",
   "nbconvert_exporter": "python",
   "pygments_lexer": "ipython3",
   "version": "3.12.8"
  }
 },
 "nbformat": 4,
 "nbformat_minor": 5
}
