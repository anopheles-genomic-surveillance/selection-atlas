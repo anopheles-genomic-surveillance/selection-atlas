{
 "cells": [
  {
   "cell_type": "code",
   "execution_count": null,
   "id": "944cabdc-4f36-4ab9-b4a0-9d0606b91ae7",
   "metadata": {
    "tags": [
     "parameters",
     "remove-input"
    ]
   },
   "outputs": [],
   "source": [
    "# Notebook parameters. Values here are for development only and\n",
    "# will be overridden when running via snakemake and papermill.\n",
    "\n",
    "config_file = \"../../../config/agam.yaml\""
   ]
  },
  {
   "cell_type": "code",
   "execution_count": null,
   "id": "4d823aef-e233-4d39-b731-5f48093011fd",
   "metadata": {
    "tags": [
     "remove-input"
    ]
   },
   "outputs": [],
   "source": [
    "from bokeh.io import output_notebook\n",
    "from IPython.display import Markdown\n",
    "from selection_atlas.setup import AtlasSetup\n",
    "from selection_atlas.page_utils import AtlasPageUtils\n",
    "\n",
    "# Initialise the atlas setup.\n",
    "setup = AtlasSetup(config_file)\n",
    "page_utils = AtlasPageUtils(setup=setup)\n",
    "\n",
    "# N.B., do not add the \"remove-output\" tag to this cell!!! If you do,\n",
    "# the bokeh javascript libraries will not get loaded in the generated\n",
    "# HTML page. The call to output_notebook() injects javascript in the\n",
    "# cell output which triggers the bokeh javascript libraries to be loaded\n",
    "# in the page.\n",
    "output_notebook(hide_banner=True)"
   ]
  },
  {
   "cell_type": "code",
   "execution_count": null,
   "id": "02a2f618-b84f-4a99-9d3b-cc18d35b10bf",
   "metadata": {
    "tags": []
   },
   "outputs": [],
   "source": [
    "Markdown(f\"# {setup.atlas_title}\")"
   ]
  },
  {
   "cell_type": "code",
   "execution_count": null,
   "id": "e0a64496",
   "metadata": {
    "tags": [
     "remove-input"
    ]
   },
   "outputs": [],
   "source": [
    "content = f\"**Analysis version — {setup.atlas_id}/{setup.analysis_version}**\"\n",
    "Markdown(content)"
   ]
  },
  {
   "cell_type": "markdown",
   "id": "1c131e60-4f51-41c1-af5b-3e237cc33ba5",
   "metadata": {},
   "source": [
    "The Malaria Vector Selection Atlas reports the results of {term}`genome-wide selection scan`s performed using mosquitoes collected from natural populations of {term}`malaria vector`s. The purpose of these analyses is to discover {term}`gene`s which are under {term}`recent positive selection` because they cause {term}`insecticide resistance` or otherwise enable mosquitoes to resist or evade {term}`vector control` tools such as insecticide-treated bednets."
   ]
  },
  {
   "cell_type": "code",
   "execution_count": null,
   "id": "3ee266d2-36f6-48ac-9d7a-83890887dead",
   "metadata": {
    "tags": [
     "remove-input"
    ]
   },
   "outputs": [],
   "source": [
    "df_samples = setup.sample_metadata()\n",
    "n_samples = len(df_samples)\n",
    "n_countries = len(df_samples[\"country\"].unique())"
   ]
  },
  {
   "cell_type": "code",
   "execution_count": null,
   "id": "efc8ae12-d83f-4aa1-9cbb-3b937cd0d08c",
   "metadata": {
    "tags": []
   },
   "outputs": [],
   "source": [
    "content = f\"\"\"\n",
    "These analyses were performed using genomic data from the {{term}}`Malaria Vector Genome Observatory` \n",
    "which is a collaborative project to sequence the {{term}}`genome`s of malaria-transmitting mosquitoes \n",
    "and make the data available for research and surveillance. This report version analyses data from \n",
    "{n_samples:,} mosquitoes collected in {n_countries} countries.\n",
    "\"\"\"\n",
    "Markdown(content)"
   ]
  },
  {
   "cell_type": "markdown",
   "id": "fce1090a-3685-488e-9f31-ff555a1a4845",
   "metadata": {},
   "source": [
    "## Selection alerts\n",
    "\n",
    "This report includes a curated a set of {doc}`ir-alerts` which identify {term}`genome region`s of public health concern, because overlapping {term}`selection signal`s have been identified and replicated in mosquito {term}`cohort`s, and because these they contain one or more {term}`gene`s with a proven or plausible link to {term}`insecticide resistance`. These {term}`genome region`s are highlighted as a priority for further research and surveillance:"
   ]
  },
  {
   "cell_type": "code",
   "execution_count": null,
   "id": "1decaa7a-8fcf-4fec-a4cc-9812cafc03b9",
   "metadata": {
    "tags": [
     "remove-input"
    ]
   },
   "outputs": [],
   "source": [
    "content = \"\"\n",
    "for alert_id in setup.ir_alerts:\n",
    "    content += f\"* {{doc}}`alert/{alert_id}`\\n\"\n",
    "Markdown(content)"
   ]
  },
  {
   "cell_type": "markdown",
   "id": "4be9dd1b-7296-4b90-b811-ec13e6104352",
   "metadata": {},
   "source": [
    "## Selection signals\n",
    "\n",
    "This report includes the results of {term}`genome-wide selection scan`s run on mosquitoes sampled from multiple species, locations and time points. To provide an overview of these results and aid with the identification of {term}`genome region`s under {term}`recent positive selection`, an automated signal detection algorithm has been applied to the outputs of all selection scans. This algorithm detects {term}`selection signal`s, which are {term}`genome region`s with strong evidence of {term}`recent positive selection`. See the pages below to browse all {term}`selection signal`s discovered:"
   ]
  },
  {
   "cell_type": "code",
   "execution_count": null,
   "id": "b8ffbe65-d1ad-4ae5-a3fb-f8e0efd24d86",
   "metadata": {
    "tags": [
     "remove-input"
    ]
   },
   "outputs": [],
   "source": [
    "content = \"\"\n",
    "for contig in setup.contigs:\n",
    "    content += f\"* {{doc}}`contig/{contig}`\\n\"\n",
    "Markdown(content)"
   ]
  },
  {
   "cell_type": "markdown",
   "id": "d102c12a-24c5-4bfb-bae6-9074f5000e83",
   "metadata": {},
   "source": [
    "## Selection scans\n",
    "\n",
    "To browse the results of {term}`genome-wide selection scan`s directly, see the map below to select a geographical region of interest, then click on a marker to see available {term}`cohort`s for that location."
   ]
  },
  {
   "cell_type": "code",
   "execution_count": null,
   "id": "d2286c43",
   "metadata": {
    "tags": [
     "remove-input"
    ]
   },
   "outputs": [],
   "source": [
    "page_utils.plot_cohorts_map(zoom=3)"
   ]
  },
  {
   "cell_type": "markdown",
   "id": "1441f4e3-fe52-436d-86ad-5cae39ba3620",
   "metadata": {},
   "source": [
    "## About\n",
    "\n",
    "For further information about this report, please see the {doc}`methods`, {doc}`faq` and {doc}`glossary`. If you have any questions, suggestions or corrections, please visit the [GitHub repository](https://github.com/anopheles-genomic-surveillance/selection-atlas/) and [raise an issue](https://github.com/anopheles-genomic-surveillance/selection-atlas/issues)."
   ]
  }
 ],
 "metadata": {
  "celltoolbar": "Tags",
  "environment": {
   "kernel": "selection-atlas",
   "name": "workbench-notebooks.m125",
   "type": "gcloud",
   "uri": "us-docker.pkg.dev/deeplearning-platform-release/gcr.io/workbench-notebooks:m125"
  },
  "kernelspec": {
   "display_name": "selection-atlas",
   "language": "python",
   "name": "selection-atlas"
  },
  "language_info": {
   "codemirror_mode": {
    "name": "ipython",
    "version": 3
   },
   "file_extension": ".py",
   "mimetype": "text/x-python",
   "name": "python",
   "nbconvert_exporter": "python",
   "pygments_lexer": "ipython3",
   "version": "3.12.8"
  }
 },
 "nbformat": 4,
 "nbformat_minor": 5
}
