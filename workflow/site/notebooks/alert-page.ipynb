{
 "cells": [
  {
   "cell_type": "code",
   "execution_count": null,
   "id": "fa3c4324-223f-40e3-9b39-4ac350ece708",
   "metadata": {
    "tags": [
     "parameters",
     "remove-input"
    ]
   },
   "outputs": [],
   "source": [
    "# Notebook parameters. Values here are for development only and\n",
    "# will be overridden when running via snakemake and papermill.\n",
    "\n",
    "config_file = \"../../../config/afun.yaml\"\n",
    "alert_id = \"SA-AFUN-01\""
   ]
  },
  {
   "cell_type": "code",
   "execution_count": null,
   "id": "b8d03936-b453-449c-bc35-278ca3aaf330",
   "metadata": {
    "tags": [
     "remove-input"
    ]
   },
   "outputs": [],
   "source": [
    "from bokeh.io import output_notebook\n",
    "from IPython.display import Markdown\n",
    "from selection_atlas.setup import AtlasSetup\n",
    "from selection_atlas.page_utils import AtlasPageUtils\n",
    "\n",
    "# Initialise the atlas setup.\n",
    "setup = AtlasSetup(config_file)\n",
    "page_utils = AtlasPageUtils(setup=setup)\n",
    "\n",
    "# Load the alert.\n",
    "alert = page_utils.load_alert(alert_id)\n",
    "region = alert[\"region\"]\n",
    "region_contig, region_span = region.split(\":\")\n",
    "region_start, region_stop = region_span.replace(\",\", \"\").split(\"-\")\n",
    "\n",
    "# N.B., do not add the \"remove-output\" tag to this cell!!! If you do,\n",
    "# the bokeh javascript libraries will not get loaded in the generated\n",
    "# HTML page. The call to output_notebook() injects javascript in the\n",
    "# cell output which triggers the bokeh javascript libraries to be loaded\n",
    "# in the page.\n",
    "output_notebook(hide_banner=True)"
   ]
  },
  {
   "cell_type": "code",
   "execution_count": null,
   "id": "a00f2ce1-807e-4e4a-91cc-86fee8db0ff8",
   "metadata": {
    "tags": []
   },
   "outputs": [],
   "source": [
    "Markdown(f\"# Alert {alert_id} (*{alert['label']}*)\")"
   ]
  },
  {
   "cell_type": "code",
   "execution_count": null,
   "id": "77a6a3b4-138a-4fde-a4ec-1bbfd9649c34",
   "metadata": {
    "tags": [
     "remove-input"
    ]
   },
   "outputs": [],
   "source": [
    "content = f\"This alert reports selection signals on Chromosome {region_contig} within the region {region_span} bp.\"\n",
    "Markdown(content)"
   ]
  },
  {
   "cell_type": "markdown",
   "id": "17aae4ac-f7b3-4b94-ba3e-746c20102bcf",
   "metadata": {
    "tags": []
   },
   "source": [
    "## Selection signals\n",
    "\n",
    "{term}`Selection signal`s overlapping this {term}`genome region` are shown in the figure below."
   ]
  },
  {
   "cell_type": "code",
   "execution_count": null,
   "id": "81786065-8265-4ee4-9f92-8a43d3f33609",
   "metadata": {
    "tags": [
     "remove-input"
    ]
   },
   "outputs": [],
   "source": [
    "df_signals = page_utils.load_signals(\n",
    "    contig=region_contig,\n",
    "    start=region_start,\n",
    "    stop=region_stop,\n",
    ")\n",
    "\n",
    "gene_labels = dict()\n",
    "for item in alert[\"ir_candidate_genes\"]:\n",
    "    g = item[\"identifier\"]\n",
    "    gene_labels[g] = \" \"\n",
    "\n",
    "if len(df_signals) > 0:\n",
    "    page_utils.plot_signals(\n",
    "        df=df_signals,\n",
    "        contig=region_contig,\n",
    "        x_min=df_signals[\"span2_pstart\"].min() - 50_000,\n",
    "        x_max=df_signals[\"span2_pstop\"].max() + 50_000,\n",
    "        gene_labels=gene_labels,\n",
    "        genes_height=90,\n",
    "    )\n",
    "else:\n",
    "    display(Markdown(\"No signals found.\"))"
   ]
  },
  {
   "cell_type": "markdown",
   "id": "97da6cd4-0dc2-4ba4-8cac-4f93edc4badc",
   "metadata": {},
   "source": [
    "## Cohorts affected\n",
    "\n",
    "Overlapping {term}`selection signal`s are found in the following {term}`cohort`s. "
   ]
  },
  {
   "cell_type": "code",
   "execution_count": null,
   "id": "28dc7f4d-7eac-429e-bd02-dd8fe0ea4e71",
   "metadata": {
    "tags": [
     "remove-input"
    ]
   },
   "outputs": [],
   "source": [
    "cohorts_affected = df_signals[\"cohort_id\"]\n",
    "gdf_cohorts_affected = (\n",
    "    page_utils.gdf_cohorts.set_index(\"cohort_id\").loc[cohorts_affected].reset_index()\n",
    ")\n",
    "page_utils.plot_cohorts_map(\n",
    "    gdf_cohorts=gdf_cohorts_affected,\n",
    "    zoom=3,\n",
    "    url_prefix=\"../\",\n",
    ")"
   ]
  },
  {
   "cell_type": "code",
   "execution_count": null,
   "id": "b9068966-5abd-447c-b63f-9cf61422a32c",
   "metadata": {
    "tags": [
     "remove-input"
    ]
   },
   "outputs": [],
   "source": [
    "content = \"\"\n",
    "for _, row in df_signals.sort_values(\"cohort_label\").iterrows():\n",
    "    cohort_id = row[\"cohort_id\"]\n",
    "    content += f\"* {{doc}}`../cohort/{cohort_id}`\\n\"\n",
    "Markdown(content)"
   ]
  },
  {
   "cell_type": "code",
   "execution_count": null,
   "id": "c7591270-34b1-47e9-a6eb-cb423fd01603",
   "metadata": {
    "tags": [
     "remove-input"
    ]
   },
   "outputs": [],
   "source": [
    "content = \"\"\n",
    "if \"ir_candidate_genes\" in alert:\n",
    "    content += \"\"\"\n",
    "## Insecticide resistance genes\n",
    "\n",
    "The following {term}`gene`s are found within this {term}`genome region` and may be driving \n",
    "{term}`recent positive selection` based on evidence for an association with \n",
    "{term}`insecticide resistance`. Please note that other genes are also within the affected \n",
    "genome region and may be driving selection.\n",
    "\"\"\"\n",
    "    for gene in alert[\"ir_candidate_genes\"]:\n",
    "        gene_id = gene[\"identifier\"]\n",
    "        url = f\"https://vectorbase.org/vectorbase/app/record/gene/{gene_id}\"\n",
    "        content += f\"### <a href='{url}' target='_blank'>{gene_id}</a>\"\n",
    "        gene_names = gene[\"names\"]\n",
    "        if gene_names:\n",
    "            content += \" (\" + \", \".join([f\"*{n}*\" for n in gene_names]) + \")\"\n",
    "        content += \"\\n\\n\"\n",
    "        notes = gene[\"notes\"]\n",
    "        content += f\"{notes} See also:\\n\\n\"\n",
    "        for reference in gene[\"references\"]:\n",
    "            citation = reference[\"citation\"]\n",
    "            url = reference[\"url\"]\n",
    "            title = reference[\"title\"]\n",
    "            content += f\"* <a href='{url}' target='_blank'>{citation}</a> {title}\\n\"\n",
    "        content += \"\\n\"\n",
    "\n",
    "Markdown(content)"
   ]
  },
  {
   "cell_type": "code",
   "execution_count": null,
   "id": "524ce628-e7f6-4fa0-80d4-f55cfface759",
   "metadata": {
    "tags": []
   },
   "outputs": [],
   "source": [
    "content = \"\\n\"  # ensure some content, otherwise postprocessing breaks\n",
    "if \"see_also\" in alert:\n",
    "    content += \"\"\"\n",
    "## See also\n",
    "\n",
    "\"\"\"\n",
    "    for item in alert[\"see_also\"]:\n",
    "        content += f\"* {item}\\n\"\n",
    "\n",
    "Markdown(content)"
   ]
  },
  {
   "cell_type": "code",
   "execution_count": null,
   "id": "822438ba-ed5c-4405-b48c-4c929f68b345",
   "metadata": {},
   "outputs": [],
   "source": []
  }
 ],
 "metadata": {
  "environment": {
   "kernel": "selection-atlas",
   "name": "workbench-notebooks.m125",
   "type": "gcloud",
   "uri": "us-docker.pkg.dev/deeplearning-platform-release/gcr.io/workbench-notebooks:m125"
  },
  "kernelspec": {
   "display_name": "selection-atlas",
   "language": "python",
   "name": "selection-atlas"
  },
  "language_info": {
   "codemirror_mode": {
    "name": "ipython",
    "version": 3
   },
   "file_extension": ".py",
   "mimetype": "text/x-python",
   "name": "python",
   "nbconvert_exporter": "python",
   "pygments_lexer": "ipython3",
   "version": "3.12.8"
  }
 },
 "nbformat": 4,
 "nbformat_minor": 5
}
