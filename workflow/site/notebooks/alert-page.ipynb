{
 "cells": [
  {
   "cell_type": "code",
   "execution_count": null,
   "id": "fa3c4324-223f-40e3-9b39-4ac350ece708",
   "metadata": {
    "tags": [
     "parameters",
     "remove-input"
    ]
   },
   "outputs": [],
   "source": [
    "# Notebook parameters. Values here are for development only and\n",
    "# will be overridden when running via snakemake and papermill.\n",
    "\n",
    "# Parameter provided manually.\n",
    "alert_id = \"SA-AG-01\"\n",
    "\n",
    "# Parameters from the alert yaml.\n",
    "label = \"Voltage-gated sodium channel\"\n",
    "region = \"2RL:63,000,000-65,000,000\"\n",
    "ir_candidate_genes = [\n",
    "    dict(\n",
    "        identifier=\"AGAP004707\",\n",
    "        names=[\"Vgsc\", \"Para\"],\n",
    "        notes=\"Blah blah blah.\",\n",
    "        references=[\n",
    "            dict(\n",
    "                citation=\"Clarkson et al. (2021)\",\n",
    "                title=\"FOo bar\",\n",
    "                url=\"https://doi.org/10.1111/mec.15845\",\n",
    "            ),\n",
    "            dict(\n",
    "                citation=\"Martinez-Torres et al. (1998)\",\n",
    "                title=\"Spam eggs\",\n",
    "                url=\"https://pubmed.ncbi.nlm.nih.gov/9535162/\",\n",
    "            ),\n",
    "        ],\n",
    "    ),\n",
    "    dict(\n",
    "        identifier=\"AGAP029667\",\n",
    "        names=[\"Foo\", \"Bar\"],\n",
    "        notes=\"Blah blah blah.\",\n",
    "        references=[\n",
    "            dict(\n",
    "                citation=\"Clarkson et al. (2021)\",\n",
    "                title=\"FOo bar\",\n",
    "                url=\"https://doi.org/10.1111/mec.15845\",\n",
    "            ),\n",
    "            dict(\n",
    "                citation=\"Martinez-Torres et al. (1998)\",\n",
    "                title=\"Spam eggs\",\n",
    "                url=\"https://pubmed.ncbi.nlm.nih.gov/9535162/\",\n",
    "            ),\n",
    "        ],\n",
    "    ),\n",
    "]\n",
    "\n",
    "# Parameters from the workflow config.yaml.\n",
    "contigs = [\"2RL\", \"3RL\", \"X\"]\n",
    "cohorts_analysis = \"20240924\"\n",
    "analysis_version = \"2025.02.13\"\n",
    "dask_scheduler = \"single-threaded\""
   ]
  },
  {
   "cell_type": "code",
   "execution_count": null,
   "id": "b8d03936-b453-449c-bc35-278ca3aaf330",
   "metadata": {
    "tags": [
     "remove-input"
    ]
   },
   "outputs": [],
   "source": [
    "from pyprojroot import here\n",
    "\n",
    "root = here()\n",
    "%run -i {root}/workflow/common/scripts/setup.py\n",
    "%run -i {root}/workflow/site/scripts/page-setup.py\n",
    "\n",
    "region_contig, region_span = region.split(\":\")\n",
    "region_start, region_stop = region_span.replace(\",\", \"\").split(\"-\")\n",
    "\n",
    "# N.B., do not add the \"remove-output\" tag to this cell!!! If you do,\n",
    "# the bokeh javascript libraries will not get loaded in the generated\n",
    "# HTML page. The call to output_notebook() injects javascript in the\n",
    "# cell output which triggers the bokeh javascript libraries to be loaded\n",
    "# in the page.\n",
    "output_notebook(hide_banner=True)"
   ]
  },
  {
   "cell_type": "markdown",
   "id": "1f2288aa-fe3d-44c2-88be-aa897d9b4b49",
   "metadata": {},
   "source": [
    "# Alert Foo\n"
   ]
  },
  {
   "cell_type": "code",
   "execution_count": null,
   "id": "77a6a3b4-138a-4fde-a4ec-1bbfd9649c34",
   "metadata": {
    "tags": [
     "remove-input"
    ]
   },
   "outputs": [],
   "source": [
    "content = f\"This alert reports selection signals on Chromosome {region_contig} within the region {region_span} bp.\"\n",
    "Markdown(content)"
   ]
  },
  {
   "cell_type": "markdown",
   "id": "17aae4ac-f7b3-4b94-ba3e-746c20102bcf",
   "metadata": {
    "tags": []
   },
   "source": [
    "## Selection signals\n",
    "\n",
    "{term}`Selection signal`s overlapping this {term}`genome region` are shown in the figure below."
   ]
  },
  {
   "cell_type": "code",
   "execution_count": null,
   "id": "81786065-8265-4ee4-9f92-8a43d3f33609",
   "metadata": {
    "tags": [
     "remove-input"
    ]
   },
   "outputs": [],
   "source": [
    "df_signals = load_signals(\n",
    "    contig=region_contig,\n",
    "    start=region_start,\n",
    "    stop=region_stop,\n",
    ")\n",
    "\n",
    "gene_labels = dict()\n",
    "for item in ir_candidate_genes:\n",
    "    g = item[\"identifier\"]\n",
    "    gene_labels[g] = \" \"\n",
    "\n",
    "plot_signals(\n",
    "    df=df_signals,\n",
    "    contig=region_contig,\n",
    "    x_min=df_signals[\"span2_pstart\"].min() - 50_000,\n",
    "    x_max=df_signals[\"span2_pstop\"].max() + 50_000,\n",
    "    gene_labels=gene_labels,\n",
    "    genes_height=90,\n",
    ")"
   ]
  },
  {
   "cell_type": "markdown",
   "id": "97da6cd4-0dc2-4ba4-8cac-4f93edc4badc",
   "metadata": {},
   "source": [
    "## Cohorts affected\n",
    "\n",
    "Overlapping {term}`selection signal`s are found in the following {term}`cohort`s. "
   ]
  },
  {
   "cell_type": "code",
   "execution_count": null,
   "id": "28dc7f4d-7eac-429e-bd02-dd8fe0ea4e71",
   "metadata": {
    "tags": [
     "remove-input"
    ]
   },
   "outputs": [],
   "source": [
    "cohorts_affected = df_signals[\"cohort_id\"]\n",
    "gdf_cohorts_affected = (\n",
    "    gdf_cohorts.set_index(\"cohort_id\").loc[cohorts_affected].reset_index()\n",
    ")\n",
    "plot_cohorts_map(gdf_cohorts=gdf_cohorts_affected, zoom=3, url_prefix=\"../\")"
   ]
  },
  {
   "cell_type": "code",
   "execution_count": null,
   "id": "b9068966-5abd-447c-b63f-9cf61422a32c",
   "metadata": {
    "tags": [
     "remove-input"
    ]
   },
   "outputs": [],
   "source": [
    "content = \"\"\n",
    "for _, row in df_signals.sort_values(\"cohort_label\").iterrows():\n",
    "    cohort_id = row[\"cohort_id\"]\n",
    "    cohort_label = row[\"cohort_label\"]\n",
    "    url = f\"../cohort/{cohort_id}.html\"\n",
    "    content += f\"* [{cohort_label}]({url})\\n\"\n",
    "Markdown(content)"
   ]
  },
  {
   "cell_type": "markdown",
   "id": "b29f7a5a-c33d-4f5a-b6d3-9023ab7ebe55",
   "metadata": {},
   "source": [
    "## Insecticide resistance genes\n",
    "\n",
    "The following {term}`gene`s are found within this {term}`genome region` and may be driving {term}`recent positive selection` based on evidence for an association with {term}`insecticide resistance`."
   ]
  },
  {
   "cell_type": "code",
   "execution_count": null,
   "id": "c7591270-34b1-47e9-a6eb-cb423fd01603",
   "metadata": {
    "tags": [
     "remove-input"
    ]
   },
   "outputs": [],
   "source": [
    "content = \"\"\n",
    "for gene in ir_candidate_genes:\n",
    "    gene_id = gene[\"identifier\"]\n",
    "    url = f\"https://vectorbase.org/vectorbase/app/record/gene/{gene_id}\"\n",
    "    content += f\"### [{gene_id}]({url})\"\n",
    "    gene_names = gene[\"names\"]\n",
    "    if gene_names:\n",
    "        content += \" (\" + \", \".join([f\"*{n}*\" for n in gene_names]) + \")\"\n",
    "    content += \"\\n\\n\"\n",
    "    notes = gene[\"notes\"]\n",
    "    content += f\"{notes} See also:\\n\\n\"\n",
    "    for reference in gene[\"references\"]:\n",
    "        citation = reference[\"citation\"]\n",
    "        url = reference[\"url\"]\n",
    "        title = reference[\"title\"]\n",
    "        content += f\"* [{citation}]({url}) {title}\\n\"\n",
    "    content += \"\\n\"\n",
    "\n",
    "Markdown(content)"
   ]
  },
  {
   "cell_type": "code",
   "execution_count": null,
   "id": "524ce628-e7f6-4fa0-80d4-f55cfface759",
   "metadata": {},
   "outputs": [],
   "source": []
  }
 ],
 "metadata": {
  "kernelspec": {
   "display_name": "selection-atlas",
   "language": "python",
   "name": "selection-atlas"
  },
  "language_info": {
   "codemirror_mode": {
    "name": "ipython",
    "version": 3
   },
   "file_extension": ".py",
   "mimetype": "text/x-python",
   "name": "python",
   "nbconvert_exporter": "python",
   "pygments_lexer": "ipython3",
   "version": "3.12.8"
  }
 },
 "nbformat": 4,
 "nbformat_minor": 5
}
