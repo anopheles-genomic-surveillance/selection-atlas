{
 "cells": [
  {
   "cell_type": "code",
   "execution_count": null,
   "id": "fa3c4324-223f-40e3-9b39-4ac350ece708",
   "metadata": {
    "tags": [
     "parameters",
     "remove-input"
    ]
   },
   "outputs": [],
   "source": [
    "# Notebook parameters. Values here are for development only and\n",
    "# will be overridden when running via snakemake and papermill.\n",
    "\n",
    "# Parameter provided manually.\n",
    "alert_id = \"SA-AG-01\"\n",
    "\n",
    "# Parameters from the alert yaml.\n",
    "label = \"Voltage-gated sodium channel\"\n",
    "region = \"2RL:63,000,000-65,000,000\"\n",
    "ir_candidate_genes = [\n",
    "    dict(\n",
    "        identifier=\"AGAP004707\",\n",
    "        names=[\"Vgsc\", \"Para\"],\n",
    "        notes=\"Blah blah blah.\",\n",
    "        references=[\n",
    "            dict(\n",
    "                citation=\"Clarkson et al. (2021)\",\n",
    "                title=\"FOo bar\",\n",
    "                url=\"https://doi.org/10.1111/mec.15845\",\n",
    "            ),\n",
    "            dict(\n",
    "                citation=\"Martinez-Torres et al. (1998)\",\n",
    "                title=\"Spam eggs\",\n",
    "                url=\"https://pubmed.ncbi.nlm.nih.gov/9535162/\",\n",
    "            ),\n",
    "        ],\n",
    "    ),\n",
    "]\n",
    "\n",
    "# Parameters from the workflow config.yaml.\n",
    "contigs = [\"2RL\", \"3RL\", \"X\"]\n",
    "cohorts_analysis = \"20240924\"\n",
    "analysis_version = \"2025.02.13\"\n",
    "dask_scheduler = \"single-threaded\""
   ]
  },
  {
   "cell_type": "code",
   "execution_count": null,
   "id": "b8d03936-b453-449c-bc35-278ca3aaf330",
   "metadata": {
    "tags": [
     "remove-input"
    ]
   },
   "outputs": [],
   "source": [
    "from pyprojroot import here\n",
    "\n",
    "root = here()\n",
    "%run -i {root}/workflow/common/scripts/setup.py\n",
    "%run -i {root}/workflow/site/scripts/page-setup.py\n",
    "\n",
    "region_contig, region_span = region.split(\":\")\n",
    "region_start, region_stop = region_span.replace(\",\", \"\").split(\"-\")\n",
    "\n",
    "# N.B., do not add the \"remove-output\" tag to this cell!!! If you do,\n",
    "# the bokeh javascript libraries will not get loaded in the generated\n",
    "# HTML page. The call to output_notebook() injects javascript in the\n",
    "# cell output which triggers the bokeh javascript libraries to be loaded\n",
    "# in the page.\n",
    "output_notebook(hide_banner=True)"
   ]
  },
  {
   "cell_type": "markdown",
   "id": "1f2288aa-fe3d-44c2-88be-aa897d9b4b49",
   "metadata": {},
   "source": [
    "# Alert Foo\n"
   ]
  },
  {
   "cell_type": "code",
   "execution_count": null,
   "id": "77a6a3b4-138a-4fde-a4ec-1bbfd9649c34",
   "metadata": {
    "tags": [
     "remove-input"
    ]
   },
   "outputs": [],
   "source": [
    "html = f\"This alert reports selection signals on Chromosome {region_contig} within the region {region_span} bp.\"\n",
    "HTML(html)"
   ]
  },
  {
   "cell_type": "markdown",
   "id": "17aae4ac-f7b3-4b94-ba3e-746c20102bcf",
   "metadata": {
    "tags": []
   },
   "source": [
    "## Selection signals\n",
    "\n",
    "Selection signals overlapping this genome region are shown in the figure below."
   ]
  },
  {
   "cell_type": "code",
   "execution_count": null,
   "id": "81786065-8265-4ee4-9f92-8a43d3f33609",
   "metadata": {
    "tags": [
     "remove-input"
    ]
   },
   "outputs": [],
   "source": [
    "df_signals = load_signals(\n",
    "    contig=region_contig,\n",
    "    start=region_start,\n",
    "    stop=region_stop,\n",
    ")\n",
    "\n",
    "plot_signals(\n",
    "    df=df_signals,\n",
    "    contig=region_contig,\n",
    "    x_min=df_signals[\"span2_pstart\"].min() - 50_000,\n",
    "    x_max=df_signals[\"span2_pstop\"].max() + 50_000,\n",
    ")"
   ]
  },
  {
   "cell_type": "markdown",
   "id": "97da6cd4-0dc2-4ba4-8cac-4f93edc4badc",
   "metadata": {},
   "source": [
    "## Cohorts affected\n",
    "Overlapping signals of selection are found in the following cohorts. "
   ]
  },
  {
   "cell_type": "code",
   "execution_count": null,
   "id": "9222a438-686f-410f-8fd9-02428c2d3095",
   "metadata": {
    "tags": [
     "remove-input"
    ]
   },
   "outputs": [],
   "source": [
    "cohort_links = [\n",
    "    '<a href=\"../cohort/' + row[\"cohort_id\"] + '.html\">' + row[\"cohort_label\"] + \"</a>\"\n",
    "    for i, row in df_signals.sort_values(\"cohort_label\").iterrows()\n",
    "]\n",
    "html_message = \"<li>\" + \"</li><li>\".join(cohort_links) + \"</li>\"\n",
    "HTML(html_message)"
   ]
  },
  {
   "cell_type": "markdown",
   "id": "b29f7a5a-c33d-4f5a-b6d3-9023ab7ebe55",
   "metadata": {},
   "source": [
    "## Insecticide resistance genes\n",
    "\n",
    "The following genes are found within this genome region and may be driving recent positive selection based on evidence for an association with resistance to insecticides."
   ]
  },
  {
   "cell_type": "code",
   "execution_count": null,
   "id": "36715af3-9e4a-4fe8-a91f-0b7981b2845e",
   "metadata": {
    "tags": [
     "remove-input"
    ]
   },
   "outputs": [],
   "source": [
    "for gene in ir_candidate_genes:\n",
    "    gene_id = gene[\"identifier\"]\n",
    "    html = f'<p><strong><a href=\"https://vectorbase.org/vectorbase/app/record/gene/{gene_id}\">{gene_id}</a></strong>'\n",
    "    gene_names = gene[\"names\"]\n",
    "    if gene_names:\n",
    "        html += \" (\" + \", \".join(gene_names) + \")\"\n",
    "    html += \" — \"\n",
    "    notes = gene[\"notes\"]\n",
    "    html += f\"{notes} See also:\"\n",
    "    html += \"<ul>\"\n",
    "    for reference in gene[\"references\"]:\n",
    "        citation = reference[\"citation\"]\n",
    "        url = reference[\"url\"]\n",
    "        title = reference[\"title\"]\n",
    "        html += f'<li><a href=\"{url}\">{citation}</a> {title}</li>'\n",
    "    html += \"</ul></p>\"\n",
    "    display(HTML(html))"
   ]
  }
 ],
 "metadata": {
  "kernelspec": {
   "display_name": "selection-atlas",
   "language": "python",
   "name": "selection-atlas"
  },
  "language_info": {
   "codemirror_mode": {
    "name": "ipython",
    "version": 3
   },
   "file_extension": ".py",
   "mimetype": "text/x-python",
   "name": "python",
   "nbconvert_exporter": "python",
   "pygments_lexer": "ipython3",
   "version": "3.12.8"
  }
 },
 "nbformat": 4,
 "nbformat_minor": 5
}
