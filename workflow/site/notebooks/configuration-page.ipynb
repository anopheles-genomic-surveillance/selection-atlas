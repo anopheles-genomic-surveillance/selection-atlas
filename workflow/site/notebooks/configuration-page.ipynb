{
 "cells": [
  {
   "cell_type": "code",
   "execution_count": null,
   "id": "0807aa44-7dd4-4fce-bdcd-8420508deaa1",
   "metadata": {
    "tags": [
     "parameters",
     "remove-input"
    ]
   },
   "outputs": [],
   "source": [
    "# Notebook parameters. Values here are for development only and\n",
    "# will be overridden when running via snakemake and papermill.\n",
    "\n",
    "# config_file = \"../../../config/agam.yaml\"\n",
    "config_file = \"../../../config/afun.yaml\""
   ]
  },
  {
   "cell_type": "code",
   "execution_count": null,
   "id": "01e7c9f6-baee-47dc-9aff-67aaa272787c",
   "metadata": {
    "tags": [
     "remove-input"
    ]
   },
   "outputs": [],
   "source": [
    "from bokeh.io import output_notebook\n",
    "import malariagen_data\n",
    "from IPython.display import Markdown\n",
    "from selection_atlas.setup import AtlasSetup\n",
    "from selection_atlas.page_utils import AtlasPageUtils\n",
    "\n",
    "# Initialise the atlas setup.\n",
    "setup = AtlasSetup(config_file)\n",
    "page_utils = AtlasPageUtils(setup=setup)\n",
    "\n",
    "# N.B., do not add the \"remove-output\" tag to this cell!!! If you do,\n",
    "# the bokeh javascript libraries will not get loaded in the generated\n",
    "# HTML page. The call to output_notebook() injects javascript in the\n",
    "# cell output which triggers the bokeh javascript libraries to be loaded\n",
    "# in the page.\n",
    "output_notebook(hide_banner=True)"
   ]
  },
  {
   "cell_type": "markdown",
   "id": "0442c1a1-7dd1-4b5b-85e1-a69d2fb803d5",
   "metadata": {},
   "source": [
    "# Configuration\n",
    "\n",
    "This page provides technical information about the configuration of the software and workflows used to generate this report."
   ]
  },
  {
   "cell_type": "markdown",
   "id": "77233d5d-c5ff-439d-9a99-94721d64a36b",
   "metadata": {},
   "source": [
    "## MalariaGEN Python API"
   ]
  },
  {
   "cell_type": "code",
   "execution_count": null,
   "id": "c81aadee-6d77-44c5-bf73-c66cb3e7a0a7",
   "metadata": {
    "tags": []
   },
   "outputs": [],
   "source": [
    "Markdown(f\"\"\"\n",
    "* Software version: {malariagen_data.__version__}\n",
    "* API: {setup.malariagen_api.__class__.__name__}\n",
    "* Storage URL: {setup.malariagen_api._url}\n",
    "* Cohorts analysis version: {setup.malariagen_api._cohorts_analysis}\n",
    "* Site filters analysis version: {setup.malariagen_api._site_filters_analysis}\n",
    "\"\"\")"
   ]
  },
  {
   "cell_type": "markdown",
   "id": "f4bbd3ad-4dba-493b-bfa1-75acb5502100",
   "metadata": {},
   "source": [
    "## Workflow configuration"
   ]
  },
  {
   "cell_type": "code",
   "execution_count": null,
   "id": "da475477-3712-45bc-bd23-9da2488176a9",
   "metadata": {
    "tags": []
   },
   "outputs": [],
   "source": [
    "with open(config_file, mode=\"r\") as f:\n",
    "    config_text = f.read()\n",
    "Markdown(f\"\"\"\n",
    "```\n",
    "{config_text}\n",
    "```\n",
    "\"\"\")"
   ]
  },
  {
   "cell_type": "markdown",
   "id": "0402e27a-9579-4cde-9f82-c76646e3eb9a",
   "metadata": {},
   "source": [
    "## Software versions"
   ]
  },
  {
   "cell_type": "code",
   "execution_count": null,
   "id": "6499653b-c04d-4448-8abd-1ba7ee63b022",
   "metadata": {
    "tags": []
   },
   "outputs": [],
   "source": [
    "with open(setup.environment_file, mode=\"r\") as f:\n",
    "    environment_text = f.read()\n",
    "Markdown(f\"\"\"\n",
    "```\n",
    "{environment_text}\n",
    "```\n",
    "\"\"\")"
   ]
  }
 ],
 "metadata": {
  "kernelspec": {
   "display_name": "selection-atlas",
   "language": "python",
   "name": "selection-atlas"
  },
  "language_info": {
   "codemirror_mode": {
    "name": "ipython",
    "version": 3
   },
   "file_extension": ".py",
   "mimetype": "text/x-python",
   "name": "python",
   "nbconvert_exporter": "python",
   "pygments_lexer": "ipython3",
   "version": "3.12.8"
  }
 },
 "nbformat": 4,
 "nbformat_minor": 5
}
