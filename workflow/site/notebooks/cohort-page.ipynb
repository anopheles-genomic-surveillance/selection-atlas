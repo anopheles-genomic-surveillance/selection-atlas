{
 "cells": [
  {
   "cell_type": "code",
   "execution_count": null,
   "id": "76d2e44c",
   "metadata": {
    "tags": [
     "parameters",
     "remove-input"
    ]
   },
   "outputs": [],
   "source": [
    "# Notebook parameters. Values here are for development only and\n",
    "# will be overridden when running via snakemake and papermill.\n",
    "\n",
    "# cohort_id = \"CD-NU_Gbadolite_gamb_2015_Q3\"\n",
    "cohort_id = \"ML-2_Kati_colu_2014_Q3\"\n",
    "# cohort_id = 'CI-LG_Agneby-Tiassa_colu_2012'\n",
    "\n",
    "analysis_version = \"2025.02.13\"\n",
    "min_cohort_size = 15\n",
    "max_cohort_size = 70\n",
    "sample_sets = \"3.0\"\n",
    "contigs = [\"2RL\", \"3RL\", \"X\"]\n",
    "cohorts_analysis = \"20240924\"\n",
    "dask_scheduler = \"single-threaded\""
   ]
  },
  {
   "cell_type": "code",
   "execution_count": null,
   "id": "ead60adb",
   "metadata": {
    "tags": [
     "remove-input"
    ]
   },
   "outputs": [],
   "source": [
    "from pyprojroot import here\n",
    "\n",
    "root = here()\n",
    "%run -i {root}/workflow/common/scripts/setup.py\n",
    "%run -i {root}/workflow/site/scripts/page-setup.py\n",
    "\n",
    "# N.B., do not add the \"remove-output\" tag to this cell!!! If you do,\n",
    "# the bokeh javascript libraries will not get loaded in the generated\n",
    "# HTML page. The call to output_notebook() injects javascript in the\n",
    "# cell output which triggers the bokeh javascript libraries to be loaded\n",
    "# in the page.\n",
    "output_notebook(hide_banner=True)"
   ]
  },
  {
   "cell_type": "markdown",
   "id": "58744b40-7396-4fb2-9c82-70c937a8d9b5",
   "metadata": {},
   "source": [
    "# Cohort Foo"
   ]
  },
  {
   "cell_type": "code",
   "execution_count": null,
   "id": "80879436",
   "metadata": {
    "tags": [
     "remove-input",
     "remove-output"
    ]
   },
   "outputs": [],
   "source": [
    "# Load cohorts to find sample query to select samples for this cohort.\n",
    "cohort = gdf_cohorts.set_index(\"cohort_id\").loc[cohort_id]\n",
    "cohort"
   ]
  },
  {
   "cell_type": "code",
   "execution_count": null,
   "id": "4f6eba43-18e2-4185-95f1-c745d6092559",
   "metadata": {
    "tags": [
     "remove-input",
     "remove-output"
    ]
   },
   "outputs": [],
   "source": [
    "# Load sample metadata for this cohort.\n",
    "df_samples = ag3.sample_metadata(\n",
    "    sample_sets=sample_sets, sample_query=cohort[\"sample_query\"]\n",
    ")\n",
    "df_samples"
   ]
  },
  {
   "cell_type": "code",
   "execution_count": null,
   "id": "6f5e51ed",
   "metadata": {
    "tags": [
     "remove-input",
     "remove-output"
    ]
   },
   "outputs": [],
   "source": [
    "# Determine collection dates.\n",
    "df_collection_dates = (\n",
    "    df_samples.groupby([\"year\", \"month\"])\n",
    "    .size()\n",
    "    .reset_index()\n",
    "    .rename(columns={0: \"count\"})\n",
    ")\n",
    "df_collection_dates"
   ]
  },
  {
   "cell_type": "code",
   "execution_count": null,
   "id": "391e6e57",
   "metadata": {
    "tags": [
     "remove-input",
     "remove-output"
    ]
   },
   "outputs": [],
   "source": [
    "# Determine first and last collection months.\n",
    "\n",
    "min_month = df_collection_dates[\"month\"].min()\n",
    "max_month = df_collection_dates[\"month\"].max()\n",
    "\n",
    "if min_month < 0:\n",
    "    start_month = end_month = None\n",
    "else:\n",
    "    start_month = pd.to_datetime(min_month, format=\"%m\").month_name()\n",
    "    end_month = pd.to_datetime(max_month, format=\"%m\").month_name()\n",
    "\n",
    "start_month, end_month"
   ]
  },
  {
   "cell_type": "code",
   "execution_count": null,
   "id": "92155ecb",
   "metadata": {
    "tags": [
     "remove-input",
     "remove-output"
    ]
   },
   "outputs": [],
   "source": [
    "# Determine unique collection locations.\n",
    "df_locations = df_samples[[\"location\", \"longitude\", \"latitude\"]].drop_duplicates()\n",
    "df_locations"
   ]
  },
  {
   "cell_type": "code",
   "execution_count": null,
   "id": "b71db202",
   "metadata": {
    "tags": [
     "remove-input",
     "remove-output"
    ]
   },
   "outputs": [],
   "source": [
    "# Extract provenance information about the samples.\n",
    "\n",
    "df_contributors = df_samples[[\"release\", \"sample_set\", \"contributor\"]].drop_duplicates()\n",
    "df_contributors[\"study\"] = df_contributors.apply(\n",
    "    lambda v: \"Ag1000G\" if v[\"sample_set\"].startswith(\"AG1000G\") else \"TODO\",\n",
    "    axis=\"columns\",\n",
    ")\n",
    "df_contributors[\"release\"] = df_contributors[\"release\"].apply(lambda v: f\"Ag{v}\")\n",
    "df_contributors.rename(\n",
    "    columns={\n",
    "        \"contributor\": \"Contributor\",\n",
    "        \"study\": \"Study\",\n",
    "        \"release\": \"Data release\",\n",
    "        \"sample_set\": \"Sample set\",\n",
    "    },\n",
    "    inplace=True,\n",
    ")\n",
    "df_contributors.set_index([\"Contributor\", \"Study\", \"Data release\"], inplace=True)\n",
    "df_contributors"
   ]
  },
  {
   "cell_type": "code",
   "execution_count": null,
   "id": "3baa1f0d",
   "metadata": {
    "tags": [
     "remove-input"
    ]
   },
   "outputs": [],
   "source": [
    "# Construct a paragraph with summary information about the samples in this cohort.\n",
    "\n",
    "n_locations = len(df_locations)\n",
    "\n",
    "summary_info = f\"\"\"This cohort comprises {cohort[\"cohort_size\"]:,} samples from the \n",
    "*{cohort[\"taxon\"]}* taxon, collected from {n_locations} locations within the administrative \n",
    "division of {cohort[\"admin2_name\"]}, {cohort[\"admin1_name\"]}, {cohort[\"country\"]}.\"\"\"\n",
    "\n",
    "if start_month and start_month == end_month:\n",
    "    summary_info += f\"\"\" Collections were made in {start_month} {cohort[\"year\"]}.\"\"\"\n",
    "elif start_month:\n",
    "    summary_info += f\"\"\" Collections were made between {start_month} and {end_month} in {cohort[\"year\"]}.\"\"\"\n",
    "else:\n",
    "    summary_info += f\"\"\" Collections were made in {cohort[\"year\"]}.\"\"\"\n",
    "\n",
    "display(Markdown(summary_info))"
   ]
  },
  {
   "cell_type": "markdown",
   "id": "3ff2d7fb",
   "metadata": {},
   "source": [
    "## Selection scans"
   ]
  },
  {
   "cell_type": "code",
   "execution_count": null,
   "id": "7b10b224",
   "metadata": {
    "tags": [
     "remove-input",
     "remove-output"
    ]
   },
   "outputs": [],
   "source": [
    "# load signals to overlay on H12 plots.\n",
    "\n",
    "dfs = []\n",
    "for contig in contigs:\n",
    "    df = load_cohort_signals(contig=contig, cohort_id=cohort_id)\n",
    "    dfs.append(df)\n",
    "\n",
    "df_signals = pd.concat(dfs)\n",
    "\n",
    "# Add extra columns to help with overlaying signals on plots.\n",
    "df_signals[\"bottom\"] = 0\n",
    "df_signals[\"top\"] = 1\n",
    "\n",
    "df_signals"
   ]
  },
  {
   "cell_type": "code",
   "execution_count": null,
   "id": "212846ca",
   "metadata": {
    "tags": [
     "remove-input"
    ]
   },
   "outputs": [],
   "source": [
    "import bokeh.palettes as bkpal\n",
    "\n",
    "# load window sizes\n",
    "with open(here() / h12_calibration_dir / f\"{cohort_id}.yaml\") as h12_calibration_file:\n",
    "    h12_calibration_params = yaml.safe_load(h12_calibration_file)\n",
    "h12_window_size = h12_calibration_params[\"h12_window_size\"]\n",
    "with open(here() / g123_calibration_dir / f\"{cohort_id}.yaml\") as g123_calibration_file:\n",
    "    g123_calibration_params = yaml.safe_load(g123_calibration_file)\n",
    "g123_window_size = g123_calibration_params[\"g123_window_size\"]\n",
    "\n",
    "if cohort.taxon == \"arabiensis\":\n",
    "    phasing_analysis = \"arab\"\n",
    "else:\n",
    "    phasing_analysis = \"gamb_colu\"\n",
    "\n",
    "ihs_window_size = 100\n",
    "\n",
    "\n",
    "def plot_gwss(\n",
    "    contig,\n",
    "    df_signals,\n",
    "    sizing_mode=\"stretch_width\",\n",
    "    show=False,\n",
    "    width=800,\n",
    "    track_height=150,\n",
    "    genes_height=90,\n",
    "):\n",
    "    sample_query = cohort[\"sample_query\"]\n",
    "\n",
    "    h12_palette = list(bkpal.BuPu4[0:1])\n",
    "\n",
    "    fig1 = ag3.plot_h12_gwss_track(\n",
    "        contig=contig,\n",
    "        window_size=h12_window_size,\n",
    "        analysis=phasing_analysis,\n",
    "        sample_sets=sample_sets,\n",
    "        sample_query=sample_query,\n",
    "        min_cohort_size=min_cohort_size,\n",
    "        max_cohort_size=max_cohort_size,\n",
    "        sizing_mode=sizing_mode,\n",
    "        show=show,\n",
    "        width=width,\n",
    "        height=track_height,\n",
    "        contig_colors=h12_palette,\n",
    "    )\n",
    "    fig1.xaxis.visible = False\n",
    "\n",
    "    if not df_signals.empty:\n",
    "        df = df_signals.query(\"contig == @contig\")\n",
    "        center_xs = [np.array([row.pcenter, row.pcenter]) for idx, row in df.iterrows()]\n",
    "        center_ys = [np.array([0, 1]) for idx, row in df.iterrows()]\n",
    "        source = bkmod.ColumnDataSource(\n",
    "            data={\n",
    "                \"cohort\": df.cohort_id,\n",
    "                \"contig\": df.contig,\n",
    "                \"score\": df.delta_i.astype(int),\n",
    "                \"peak_start\": df.span2_pstart,\n",
    "                \"peak_stop\": df.span2_pstop,\n",
    "                \"focus_start\": df.focus_pstart,\n",
    "                \"focus_stop\": df.focus_pstop,\n",
    "                \"center_xs\": center_xs,\n",
    "                \"center_ys\": center_ys,\n",
    "                \"bottom\": df.bottom,\n",
    "                \"top\": df.top,\n",
    "            }\n",
    "        )\n",
    "        quad = fig1.quad(\n",
    "            bottom=\"bottom\",\n",
    "            top=\"top\",\n",
    "            left=\"peak_start\",\n",
    "            right=\"peak_stop\",\n",
    "            source=source,\n",
    "            color=\"#D7B2A6\",\n",
    "            alpha=0.3,\n",
    "            line_width=1,\n",
    "            level=\"underlay\",\n",
    "        )\n",
    "        fig1.quad(\n",
    "            bottom=\"bottom\",\n",
    "            top=\"top\",\n",
    "            left=\"focus_start\",\n",
    "            right=\"focus_stop\",\n",
    "            source=source,\n",
    "            color=\"red\",\n",
    "            alpha=0.4,\n",
    "            level=\"underlay\",\n",
    "        )\n",
    "        glyph = bkmod.MultiLine(\n",
    "            xs=\"center_xs\",\n",
    "            ys=\"center_ys\",\n",
    "            line_color=\"red\",\n",
    "            line_width=2,\n",
    "            line_alpha=0.8,\n",
    "        )\n",
    "        fig1.add_glyph(source, glyph)\n",
    "\n",
    "        hover = bkmod.HoverTool(\n",
    "            tooltips=[\n",
    "                (\"Cohort\", \"@cohort\"),\n",
    "                (\"Score\", \"@score\"),\n",
    "                (\"Focus\", \"@focus_start{,} - @focus_stop{,}\"),\n",
    "            ],\n",
    "            renderers=[quad],\n",
    "        )\n",
    "\n",
    "        fig1.add_tools(hover)\n",
    "\n",
    "    fig2 = ag3.plot_g123_gwss_track(\n",
    "        contig=contig,\n",
    "        window_size=g123_window_size,\n",
    "        sites=phasing_analysis,\n",
    "        site_mask=phasing_analysis,\n",
    "        sample_sets=sample_sets,\n",
    "        sample_query=sample_query,\n",
    "        min_cohort_size=min_cohort_size,\n",
    "        max_cohort_size=max_cohort_size,\n",
    "        sizing_mode=sizing_mode,\n",
    "        width=width,\n",
    "        height=track_height,\n",
    "        show=show,\n",
    "        title=\"\",\n",
    "        x_range=fig1.x_range,\n",
    "    )\n",
    "    fig2.xaxis.visible = False\n",
    "\n",
    "    fig3 = ag3.plot_ihs_gwss_track(\n",
    "        contig=contig,\n",
    "        window_size=ihs_window_size,\n",
    "        analysis=phasing_analysis,\n",
    "        sample_sets=sample_sets,\n",
    "        sample_query=sample_query,\n",
    "        min_cohort_size=min_cohort_size,\n",
    "        max_cohort_size=max_cohort_size,\n",
    "        sizing_mode=sizing_mode,\n",
    "        width=width,\n",
    "        height=track_height,\n",
    "        show=show,\n",
    "        title=\"\",\n",
    "        x_range=fig1.x_range,\n",
    "    )\n",
    "    fig3.xaxis.visible = False\n",
    "\n",
    "    fig4 = ag3.plot_genes(\n",
    "        region=contig,\n",
    "        show=show,\n",
    "        sizing_mode=sizing_mode,\n",
    "        width=width,\n",
    "        height=genes_height,\n",
    "        x_range=fig1.x_range,\n",
    "    )\n",
    "\n",
    "    fig = bklay.gridplot(\n",
    "        [fig1, fig2, fig3, fig4],\n",
    "        ncols=1,\n",
    "        toolbar_location=\"above\",\n",
    "        merge_tools=True,\n",
    "        sizing_mode=sizing_mode,\n",
    "    )\n",
    "    return fig"
   ]
  },
  {
   "cell_type": "code",
   "execution_count": null,
   "id": "4a1cdce3",
   "metadata": {
    "tags": [
     "remove-input",
     "full-width"
    ]
   },
   "outputs": [],
   "source": [
    "for contig in contigs:\n",
    "    display(HTML(f\"<h3>Chromosome {contig}</h3>\"))\n",
    "\n",
    "    fig = plot_gwss(\n",
    "        contig=contig,\n",
    "        df_signals=df_signals,\n",
    "    )\n",
    "    bkplt.show(fig)"
   ]
  },
  {
   "cell_type": "markdown",
   "id": "518be38c",
   "metadata": {},
   "source": [
    "## Sampling information"
   ]
  },
  {
   "cell_type": "code",
   "execution_count": null,
   "id": "2f8e30da",
   "metadata": {
    "tags": [
     "remove-input"
    ]
   },
   "outputs": [],
   "source": [
    "center = cohort[[\"latitude\", \"longitude\"]].to_list()\n",
    "m = Map(center=center, zoom=9, basemap=basemaps.OpenTopoMap)\n",
    "\n",
    "df = (\n",
    "    df_samples[[\"latitude\", \"longitude\", \"taxon\"]]\n",
    "    .groupby([\"latitude\", \"longitude\", \"taxon\"])\n",
    "    .size()\n",
    "    .to_frame()\n",
    "    .rename(columns={0: \"count\"})\n",
    "    .reset_index()\n",
    ")\n",
    "\n",
    "for coh_id, row in df.iterrows():\n",
    "    lat, long = row[[\"latitude\", \"longitude\"]]\n",
    "\n",
    "    if row[\"taxon\"] == \"gambiae\":\n",
    "        color = \"red\"\n",
    "    elif row[\"taxon\"] == \"coluzzii\":\n",
    "        color = \"cadetblue\"\n",
    "    elif row[\"taxon\"] == \"arabiensis\":\n",
    "        color = \"lightgreen\"\n",
    "    else:\n",
    "        color = \"gray\"\n",
    "\n",
    "    marker = Marker(location=(lat, long), draggable=False, opacity=0.7, color=color)\n",
    "    m.add_layer(marker)\n",
    "    message2 = HTML()\n",
    "    message2.value = f\"n = {row['count']}\"\n",
    "    marker.popup = message2\n",
    "\n",
    "display(m)"
   ]
  },
  {
   "cell_type": "code",
   "execution_count": null,
   "id": "5297e05e-4973-435f-8878-b16a1d404e55",
   "metadata": {
    "tags": [
     "remove-input"
    ]
   },
   "outputs": [],
   "source": [
    "if min_month >= 0:\n",
    "    # For this cohort we have month data, so show a breakdown of sample\n",
    "    # numbers by location and month.\n",
    "\n",
    "    # Construct a pivot table counting samples.\n",
    "    df_loc_dt = df_samples.pivot_table(\n",
    "        index=[\"location\", \"longitude\", \"latitude\"],\n",
    "        columns=\"month\",\n",
    "        values=\"sample_id\",\n",
    "        aggfunc=\"count\",\n",
    "        fill_value=0,\n",
    "    )\n",
    "\n",
    "    # Tidy up the columns using a multi index.\n",
    "    df_loc_dt.reset_index(inplace=True)\n",
    "    cols = pd.MultiIndex.from_tuples(\n",
    "        [(\"Location\", \"Name\"), (\"Location\", \"Longitude\"), (\"Location\", \"Latitude\")]\n",
    "        + [\n",
    "            (\"Date\", pd.to_datetime(x, format=\"%m\").month_name())\n",
    "            for x in df_loc_dt.columns[3:]\n",
    "        ],\n",
    "    )\n",
    "    df_loc_dt.columns = cols\n",
    "\n",
    "else:\n",
    "    # For this cohort we do not have month data, so show a breakdown of sample\n",
    "    # numbers by location only.\n",
    "\n",
    "    # Construct a pivot table counting samples.\n",
    "    df_loc_dt = df_samples.groupby([\"location\", \"longitude\", \"latitude\"]).agg(\n",
    "        {\"sample_id\": \"count\"}\n",
    "    )\n",
    "\n",
    "    # Tidy up the columns using a multi index.\n",
    "    df_loc_dt.reset_index(inplace=True)\n",
    "    cols = pd.MultiIndex.from_tuples(\n",
    "        [\n",
    "            (\"Location\", \"Name\"),\n",
    "            (\"Location\", \"Longitude\"),\n",
    "            (\"Location\", \"Latitude\"),\n",
    "            (\"Date\", cohort.year),\n",
    "        ]\n",
    "    )\n",
    "    df_loc_dt.columns = cols\n",
    "\n",
    "# Style the table.\n",
    "df_loc_dt_styled = (\n",
    "    df_loc_dt.style.format(precision=3)\n",
    "    .set_caption(\"Number of samples collected.\")\n",
    "    .hide()\n",
    ")\n",
    "display(df_loc_dt_styled)"
   ]
  },
  {
   "cell_type": "markdown",
   "id": "d53794f4",
   "metadata": {},
   "source": [
    "## Diagnostics\n",
    "### H12 calibration"
   ]
  },
  {
   "cell_type": "code",
   "execution_count": null,
   "id": "d1c173f3",
   "metadata": {
    "tags": [
     "remove-input"
    ]
   },
   "outputs": [],
   "source": [
    "display(Markdown(f\"Selected window size: **{h12_window_size:,}**\"))\n",
    "\n",
    "window_sizes = (100, 200, 500, 1000, 2000, 5000, 10000, 20000)\n",
    "\n",
    "ag3.plot_h12_calibration(\n",
    "    contig=h12_calibration_contig,\n",
    "    analysis=phasing_analysis,\n",
    "    sample_sets=sample_sets,\n",
    "    sample_query=cohort[\"sample_query\"],\n",
    "    min_cohort_size=min_cohort_size,\n",
    "    max_cohort_size=max_cohort_size,\n",
    "    window_sizes=window_sizes,\n",
    ");"
   ]
  },
  {
   "cell_type": "markdown",
   "id": "8d836cf6",
   "metadata": {},
   "source": [
    "### G123 Calibration"
   ]
  },
  {
   "cell_type": "code",
   "execution_count": null,
   "id": "63f8c0b4",
   "metadata": {
    "tags": [
     "remove-input"
    ]
   },
   "outputs": [],
   "source": [
    "display(Markdown(f\"Selected window size: **{g123_window_size:,}**\"))\n",
    "\n",
    "ag3.plot_g123_calibration(\n",
    "    contig=h12_calibration_contig,\n",
    "    sites=phasing_analysis,\n",
    "    site_mask=phasing_analysis,\n",
    "    sample_sets=sample_sets,\n",
    "    sample_query=cohort[\"sample_query\"],\n",
    "    min_cohort_size=min_cohort_size,\n",
    "    max_cohort_size=max_cohort_size,\n",
    "    window_sizes=window_sizes,\n",
    ");"
   ]
  },
  {
   "cell_type": "markdown",
   "id": "ecff988c",
   "metadata": {},
   "source": [
    "## Data sources"
   ]
  },
  {
   "cell_type": "code",
   "execution_count": null,
   "id": "9e1bfa5b",
   "metadata": {
    "tags": [
     "remove-input"
    ]
   },
   "outputs": [],
   "source": [
    "df_sources_style = df_contributors.style.set_caption(\n",
    "    \"MalariaGEN Vector Observatory partners, studies and sample sets contributing data for this cohort.\"\n",
    ")\n",
    "df_sources_style"
   ]
  },
  {
   "cell_type": "code",
   "execution_count": null,
   "id": "42bc048b",
   "metadata": {},
   "outputs": [],
   "source": []
  }
 ],
 "metadata": {
  "celltoolbar": "Tags",
  "kernelspec": {
   "display_name": "alimanfoo-selection-atlas-2025-02-11",
   "language": "python",
   "name": "conda-env-alimanfoo-selection-atlas-2025-02-11-py"
  },
  "language_info": {
   "codemirror_mode": {
    "name": "ipython",
    "version": 3
   },
   "file_extension": ".py",
   "mimetype": "text/x-python",
   "name": "python",
   "nbconvert_exporter": "python",
   "pygments_lexer": "ipython3",
   "version": "3.12.8"
  }
 },
 "nbformat": 4,
 "nbformat_minor": 5
}
