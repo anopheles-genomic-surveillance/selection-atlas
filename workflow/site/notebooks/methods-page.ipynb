{
 "cells": [
  {
   "cell_type": "code",
   "execution_count": null,
   "id": "0807aa44-7dd4-4fce-bdcd-8420508deaa1",
   "metadata": {
    "tags": [
     "parameters",
     "remove-input"
    ]
   },
   "outputs": [],
   "source": [
    "# Notebook parameters. Values here are for development only and\n",
    "# will be overridden when running via snakemake and papermill.\n",
    "\n",
    "config_file = \"../../../config/agam.yaml\"\n",
    "# config_file = \"../../../config/afun.yaml\""
   ]
  },
  {
   "cell_type": "code",
   "execution_count": null,
   "id": "01e7c9f6-baee-47dc-9aff-67aaa272787c",
   "metadata": {
    "tags": [
     "remove-input"
    ]
   },
   "outputs": [],
   "source": [
    "from bokeh.io import output_notebook\n",
    "import malariagen_data\n",
    "from IPython.display import Markdown\n",
    "from selection_atlas.setup import AtlasSetup\n",
    "from selection_atlas.page_utils import AtlasPageUtils\n",
    "\n",
    "# Initialise the atlas setup.\n",
    "setup = AtlasSetup(config_file)\n",
    "page_utils = AtlasPageUtils(setup=setup)\n",
    "\n",
    "# N.B., do not add the \"remove-output\" tag to this cell!!! If you do,\n",
    "# the bokeh javascript libraries will not get loaded in the generated\n",
    "# HTML page. The call to output_notebook() injects javascript in the\n",
    "# cell output which triggers the bokeh javascript libraries to be loaded\n",
    "# in the page.\n",
    "output_notebook(hide_banner=True)"
   ]
  },
  {
   "cell_type": "markdown",
   "id": "0442c1a1-7dd1-4b5b-85e1-a69d2fb803d5",
   "metadata": {},
   "source": [
    "# Methods"
   ]
  },
  {
   "cell_type": "markdown",
   "id": "77233d5d-c5ff-439d-9a99-94721d64a36b",
   "metadata": {},
   "source": [
    "## Data sources"
   ]
  },
  {
   "cell_type": "code",
   "execution_count": null,
   "id": "713f44fc-33f1-4cd0-8534-0067bf3d50af",
   "metadata": {
    "tags": [
     "remove-input"
    ]
   },
   "outputs": [],
   "source": [
    "df_samples = setup.sample_metadata()\n",
    "countries = df_samples[\"country\"].unique()"
   ]
  },
  {
   "cell_type": "code",
   "execution_count": null,
   "id": "a8c4f186-a0a3-4e00-9b49-246d238aa5ed",
   "metadata": {
    "tags": []
   },
   "outputs": [],
   "source": [
    "Markdown(f\"\"\"\n",
    "This report analyses genome variation data from the \n",
    "{{term}}`Malaria Vector Genome Observatory`. See Table 1 below for a \n",
    "complete list of the sample sets used in the current analysis version, \n",
    "with information about the corresponding contributors, data releases \n",
    "and citations. These sample sets provide data for a total of\n",
    "{len(df_samples):,} mosquitoes sampled from {len(countries)} countries. \n",
    "\"\"\")"
   ]
  },
  {
   "cell_type": "code",
   "execution_count": null,
   "id": "35ee5710-6493-4eb7-97cb-5df742053204",
   "metadata": {
    "tags": [
     "remove-input"
    ]
   },
   "outputs": [],
   "source": [
    "page_utils.style_data_sources(\n",
    "    df_samples=df_samples,\n",
    "    caption=\"Table 1. Data sources included in the current analysis version.\",\n",
    ")"
   ]
  },
  {
   "cell_type": "code",
   "execution_count": null,
   "id": "97167c53-42fb-4dd4-8046-d078d4473457",
   "metadata": {
    "tags": []
   },
   "outputs": [],
   "source": [
    "Markdown(f\"\"\"\n",
    "Sample metadata, unphased SNP calls, and phased SNP haplotypes were retrieved from \n",
    "the {{term}}`Malaria Vector Genome Observatory` cloud data repository hosted in \n",
    "Google Cloud Storage (GCS) via the {{term}}`MalariaGEN Python API` version \n",
    "{malariagen_data.__version__}.\n",
    "\"\"\")"
   ]
  },
  {
   "cell_type": "markdown",
   "id": "32b058d5-be5e-4c11-a74f-90081d26975c",
   "metadata": {
    "tags": [
     "remove-input"
    ]
   },
   "source": [
    "## Sample inclusion and grouping into cohorts\n",
    "\n",
    "Samples were considered for inclusion if they met the following criteria:"
   ]
  },
  {
   "cell_type": "code",
   "execution_count": null,
   "id": "474d0b6f-2d84-4191-abde-719f9462fef3",
   "metadata": {
    "tags": [
     "remove-input"
    ]
   },
   "outputs": [],
   "source": [
    "def human_readable_list(x):\n",
    "    if len(x) > 1:\n",
    "        output = \", \".join(x[:-1]) + \" or \" + x[-1]\n",
    "    else:\n",
    "        output = x[0]\n",
    "    return output\n",
    "\n",
    "\n",
    "readable_taxa = human_readable_list(setup.taxa)"
   ]
  },
  {
   "cell_type": "code",
   "execution_count": null,
   "id": "68959f83-5785-4cec-9ee7-d491b20f2437",
   "metadata": {
    "tags": []
   },
   "outputs": [],
   "source": [
    "Markdown(f\"\"\"\n",
    "* Gender assigned as female via comparison of sequence coverage on autosomes and sex \n",
    "  chromosomes. \n",
    "* Taxon assigned as {readable_taxa} via principle components analysis of \n",
    "  genomic data from Chromosome 3 and comparison with reference samples \n",
    "  with known taxon assignments.\n",
    "\"\"\")"
   ]
  },
  {
   "cell_type": "code",
   "execution_count": null,
   "id": "fc0de9ab-618d-49b1-a12c-9e567fc84f05",
   "metadata": {
    "tags": [
     "remove-input"
    ]
   },
   "outputs": [],
   "source": [
    "gdf_cohorts = page_utils.gdf_cohorts"
   ]
  },
  {
   "cell_type": "markdown",
   "id": "9c79abe0-46e4-4228-a9ea-5472e2fedfc4",
   "metadata": {},
   "source": [
    "After filtering according to these inclusion criteria, samples were grouped into cohorts by taxon, location of sampling and date of sampling. Samples were grouped spatially if their collection locations were within the same level 2 administrative unit, according to geoBoundaries version 5.0.0. Samples were grouped temporally if their collection dates were within the same quarter (3 month period) where possible, except in a small number of cases where metadata were only available on year of collection."
   ]
  },
  {
   "cell_type": "code",
   "execution_count": null,
   "id": "8c6a207c-33e9-49d0-b202-3d5cfb2aa807",
   "metadata": {
    "tags": []
   },
   "outputs": [],
   "source": [
    "Markdown(f\"\"\"\n",
    "Cohorts were excluded from the analysis if the sample size was \n",
    "less than {setup.min_cohort_size}. Cohorts with more than \n",
    "{setup.max_cohort_size} samples were randomly downsampled for\n",
    "computational efficiency. Cohorts were also excluded from the \n",
    "analysis if they failed H12 or G123 window size calibration\n",
    "(see below). After applying these filters, a total of \n",
    "{len(gdf_cohorts)} cohorts were retained for analysis (Table 2).\n",
    "\"\"\")"
   ]
  },
  {
   "cell_type": "code",
   "execution_count": null,
   "id": "25d5ff7c-1524-47f1-9a78-43a3c73e9956",
   "metadata": {
    "tags": [
     "remove-input"
    ]
   },
   "outputs": [],
   "source": [
    "page_utils.style_cohorts_table(\n",
    "    gdf_cohorts,\n",
    "    caption=\"Table 2. Cohorts selected for genome-wide selection scan analyses.\",\n",
    "    url_prefix=\"\",\n",
    ")"
   ]
  },
  {
   "cell_type": "markdown",
   "id": "ae10275a-e2b8-49be-815e-97c7aa274e7e",
   "metadata": {},
   "source": [
    "## H12 and G123 window size calibration\n",
    "\n",
    "TODO how was window-size calibration done?\n",
    "\n",
    "TODO after calibration, some cohorts removed if cannot get a window-size."
   ]
  },
  {
   "cell_type": "markdown",
   "id": "3549b2f6-a7c8-4625-9260-78846ed9ca2e",
   "metadata": {},
   "source": [
    "## H12 genome-wide selection scans\n",
    "\n",
    "TODO"
   ]
  },
  {
   "cell_type": "markdown",
   "id": "aa16dbb2-2ed3-4f16-ad74-9b8f9821648e",
   "metadata": {},
   "source": [
    "## G123 genome-wide selection scans\n",
    "\n",
    "TODO"
   ]
  },
  {
   "cell_type": "markdown",
   "id": "777d6d11-dd99-44c6-9a52-c68142122065",
   "metadata": {},
   "source": [
    "## IHS genome-wide selection scans\n",
    "\n",
    "TODO"
   ]
  },
  {
   "cell_type": "markdown",
   "id": "afdda01b-9155-4981-8206-df22739fff33",
   "metadata": {},
   "source": [
    "## Automated detection of selection signals\n",
    "\n",
    "TODO"
   ]
  },
  {
   "cell_type": "markdown",
   "id": "417e3d70-368e-49b8-a237-12c2a6f5ed06",
   "metadata": {},
   "source": [
    "## Identification of selection alerts\n",
    "\n",
    "TODO"
   ]
  },
  {
   "cell_type": "markdown",
   "id": "66294008-9a26-4d51-9303-d534c108a4db",
   "metadata": {},
   "source": [
    "## Web report generation\n",
    "\n",
    "TODO"
   ]
  },
  {
   "cell_type": "code",
   "execution_count": null,
   "id": "1a09b58a-0129-4174-af02-290fb5e6084e",
   "metadata": {},
   "outputs": [],
   "source": []
  }
 ],
 "metadata": {
  "kernelspec": {
   "display_name": "selection-atlas",
   "language": "python",
   "name": "selection-atlas"
  },
  "language_info": {
   "codemirror_mode": {
    "name": "ipython",
    "version": 3
   },
   "file_extension": ".py",
   "mimetype": "text/x-python",
   "name": "python",
   "nbconvert_exporter": "python",
   "pygments_lexer": "ipython3",
   "version": "3.12.8"
  }
 },
 "nbformat": 4,
 "nbformat_minor": 5
}
