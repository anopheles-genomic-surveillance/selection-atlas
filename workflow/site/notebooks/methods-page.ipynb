{
 "cells": [
  {
   "cell_type": "code",
   "execution_count": null,
   "id": "0807aa44-7dd4-4fce-bdcd-8420508deaa1",
   "metadata": {
    "tags": [
     "parameters",
     "remove-input"
    ]
   },
   "outputs": [],
   "source": [
    "# Notebook parameters. Values here are for development only and\n",
    "# will be overridden when running via snakemake and papermill.\n",
    "\n",
    "# config_file = \"../../../config/agam.yaml\"\n",
    "config_file = \"../../../config/afun.yaml\""
   ]
  },
  {
   "cell_type": "code",
   "execution_count": null,
   "id": "01e7c9f6-baee-47dc-9aff-67aaa272787c",
   "metadata": {
    "tags": [
     "remove-input"
    ]
   },
   "outputs": [],
   "source": [
    "from bokeh.io import output_notebook\n",
    "import malariagen_data\n",
    "from IPython.display import Markdown\n",
    "from selection_atlas.setup import AtlasSetup\n",
    "from selection_atlas.page_utils import AtlasPageUtils\n",
    "\n",
    "# Initialise the atlas setup.\n",
    "setup = AtlasSetup(config_file)\n",
    "page_utils = AtlasPageUtils(setup=setup)\n",
    "\n",
    "# N.B., do not add the \"remove-output\" tag to this cell!!! If you do,\n",
    "# the bokeh javascript libraries will not get loaded in the generated\n",
    "# HTML page. The call to output_notebook() injects javascript in the\n",
    "# cell output which triggers the bokeh javascript libraries to be loaded\n",
    "# in the page.\n",
    "output_notebook(hide_banner=True)"
   ]
  },
  {
   "cell_type": "markdown",
   "id": "0442c1a1-7dd1-4b5b-85e1-a69d2fb803d5",
   "metadata": {},
   "source": [
    "# Methods"
   ]
  },
  {
   "cell_type": "markdown",
   "id": "77233d5d-c5ff-439d-9a99-94721d64a36b",
   "metadata": {},
   "source": [
    "## Data sources"
   ]
  },
  {
   "cell_type": "code",
   "execution_count": null,
   "id": "713f44fc-33f1-4cd0-8534-0067bf3d50af",
   "metadata": {
    "tags": [
     "remove-input"
    ]
   },
   "outputs": [],
   "source": [
    "df_samples = setup.sample_metadata()\n",
    "countries = df_samples[\"country\"].unique()"
   ]
  },
  {
   "cell_type": "code",
   "execution_count": null,
   "id": "a8c4f186-a0a3-4e00-9b49-246d238aa5ed",
   "metadata": {
    "tags": []
   },
   "outputs": [],
   "source": [
    "Markdown(f\"\"\"\n",
    "This report analyses genome variation data from the \n",
    "{{term}}`Malaria Vector Genome Observatory`. The current analysis version \n",
    "{setup.atlas_id}/{setup.analysis_version} includes data for a total of\n",
    "{len(df_samples):,} mosquitoes sampled from {len(countries)} countries. \n",
    "See Table 1 below for a complete list of the sample sets used in the \n",
    "current analysis version, with information about the corresponding \n",
    "contributors, data releases and citations.\n",
    "\"\"\")"
   ]
  },
  {
   "cell_type": "code",
   "execution_count": null,
   "id": "35ee5710-6493-4eb7-97cb-5df742053204",
   "metadata": {
    "tags": [
     "remove-input"
    ]
   },
   "outputs": [],
   "source": [
    "page_utils.style_data_sources(\n",
    "    df_samples=df_samples,\n",
    "    caption=\"Table 1. Data sources included in the current analysis version.\",\n",
    ")"
   ]
  },
  {
   "cell_type": "code",
   "execution_count": null,
   "id": "97167c53-42fb-4dd4-8046-d078d4473457",
   "metadata": {
    "tags": []
   },
   "outputs": [],
   "source": [
    "Markdown(f\"\"\"\n",
    "Sample metadata, unphased SNP calls, and phased SNP haplotypes were retrieved from \n",
    "the {{term}}`Malaria Vector Genome Observatory` cloud data repository hosted in \n",
    "Google Cloud Storage (GCS) via the {{term}}`MalariaGEN Python API` version \n",
    "{malariagen_data.__version__}.\n",
    "\"\"\")"
   ]
  },
  {
   "cell_type": "code",
   "execution_count": null,
   "id": "94f1d24c-ed87-4517-94ec-0098f5d827e7",
   "metadata": {},
   "outputs": [],
   "source": []
  }
 ],
 "metadata": {
  "kernelspec": {
   "display_name": "selection-atlas",
   "language": "python",
   "name": "selection-atlas"
  },
  "language_info": {
   "codemirror_mode": {
    "name": "ipython",
    "version": 3
   },
   "file_extension": ".py",
   "mimetype": "text/x-python",
   "name": "python",
   "nbconvert_exporter": "python",
   "pygments_lexer": "ipython3",
   "version": "3.12.8"
  }
 },
 "nbformat": 4,
 "nbformat_minor": 5
}
