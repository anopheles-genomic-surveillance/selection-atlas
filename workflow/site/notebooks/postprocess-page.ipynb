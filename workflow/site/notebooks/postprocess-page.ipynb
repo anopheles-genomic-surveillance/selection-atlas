{
 "cells": [
  {
   "cell_type": "code",
   "execution_count": null,
   "metadata": {
    "tags": [
     "parameters"
    ]
   },
   "outputs": [],
   "source": [
    "# Notebook parameters. Values here are for development only and\n",
    "# will be overridden when running via snakemake and papermill.\n",
    "\n",
    "config_file = \"../../../config/agam.2025.03.05.yaml\"\n",
    "input_nb = \"test.ipynb\"\n",
    "output_nb = \"../../../results/dev/test.ipynb\""
   ]
  },
  {
   "cell_type": "code",
   "execution_count": null,
   "metadata": {
    "tags": []
   },
   "outputs": [],
   "source": [
    "import json\n",
    "from uuid import uuid4\n",
    "from selection_atlas.setup import AtlasSetup\n",
    "from selection_atlas.page_utils import AtlasPageUtils\n",
    "\n",
    "# Initialise the atlas setup.\n",
    "setup = AtlasSetup(config_file)\n",
    "page_utils = AtlasPageUtils(setup=setup)"
   ]
  },
  {
   "cell_type": "code",
   "execution_count": null,
   "metadata": {
    "tags": []
   },
   "outputs": [],
   "source": [
    "def get_markdown_output(cell):\n",
    "    \"\"\"Get markdown outputs from a code cell.\"\"\"\n",
    "    cell_type = cell.get(\"cell_type\")\n",
    "    if cell_type == \"code\":\n",
    "        outputs = cell.get(\"outputs\", [])\n",
    "        if len(outputs) == 1:\n",
    "            output = outputs[0]\n",
    "            output_type = output.get(\"output_type\")\n",
    "            if output_type == \"execute_result\":\n",
    "                data = output.get(\"data\", {})\n",
    "                return data.get(\"text/markdown\")"
   ]
  },
  {
   "cell_type": "code",
   "execution_count": null,
   "metadata": {
    "tags": []
   },
   "outputs": [],
   "source": [
    "def create_markdown_cell(source):\n",
    "    \"\"\"Create a new markdown cell with the given source content.\"\"\"\n",
    "    return {\n",
    "        \"cell_type\": \"markdown\",\n",
    "        \"id\": str(uuid4()),\n",
    "        \"metadata\": {},\n",
    "        \"source\": source,\n",
    "    }"
   ]
  },
  {
   "cell_type": "code",
   "execution_count": null,
   "metadata": {
    "tags": []
   },
   "outputs": [],
   "source": [
    "def prepare_notebook(input_nb, output_nb):\n",
    "    \"\"\"Prepare a notebook for inclusion in a Jupyter book.\"\"\"\n",
    "\n",
    "    # Read in the input notebook.\n",
    "    with open(input_nb, mode=\"r\", encoding=\"utf-8\") as f:\n",
    "        my_nb = json.loads(f.read())\n",
    "\n",
    "    # Process cells.\n",
    "    cells = my_nb[\"cells\"]\n",
    "    for i, cell in enumerate(cells):\n",
    "        # Hide papermill injected parameters cells.\n",
    "        metadata = cell[\"metadata\"]\n",
    "        if \"tags\" in metadata:\n",
    "            tags = metadata[\"tags\"]\n",
    "            if \"injected-parameters\" in tags:\n",
    "                tags.append(\"remove-input\")\n",
    "                continue\n",
    "\n",
    "        # Replace code cells generating markdown outputs with markdown cells.\n",
    "        md = get_markdown_output(cell)\n",
    "        if md:\n",
    "            cell = create_markdown_cell(md)\n",
    "            cells[i] = cell\n",
    "\n",
    "    # Write out the processed notebook.\n",
    "    with open(output_nb, \"w\") as f:\n",
    "        json.dump(my_nb, f)"
   ]
  },
  {
   "cell_type": "code",
   "execution_count": null,
   "metadata": {},
   "outputs": [],
   "source": [
    "prepare_notebook(\n",
    "    input_nb=input_nb,\n",
    "    output_nb=output_nb,\n",
    ")"
   ]
  },
  {
   "cell_type": "code",
   "execution_count": null,
   "metadata": {},
   "outputs": [],
   "source": []
  }
 ],
 "metadata": {
  "environment": {
   "kernel": "selection-atlas",
   "name": "workbench-notebooks.m125",
   "type": "gcloud",
   "uri": "us-docker.pkg.dev/deeplearning-platform-release/gcr.io/workbench-notebooks:m125"
  },
  "kernelspec": {
   "display_name": "selection-atlas",
   "language": "python",
   "name": "selection-atlas"
  },
  "language_info": {
   "codemirror_mode": {
    "name": "ipython",
    "version": 3
   },
   "file_extension": ".py",
   "mimetype": "text/x-python",
   "name": "python",
   "nbconvert_exporter": "python",
   "pygments_lexer": "ipython3",
   "version": "3.12.8"
  }
 },
 "nbformat": 4,
 "nbformat_minor": 4
}
