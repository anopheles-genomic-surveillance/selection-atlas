{
 "cells": [
  {
   "cell_type": "code",
   "execution_count": null,
   "id": "76d2e44c",
   "metadata": {
    "tags": [
     "parameters",
     "remove-input"
    ]
   },
   "outputs": [],
   "source": [
    "# Notebook parameters. Values here are for development only and\n",
    "# will be overridden when running via snakemake and papermill.\n",
    "\n",
    "config_file = \"../../../config/agam.yaml\"\n",
    "country = \"ML\""
   ]
  },
  {
   "cell_type": "code",
   "execution_count": null,
   "id": "ead60adb",
   "metadata": {
    "tags": [
     "remove-input"
    ]
   },
   "outputs": [],
   "source": [
    "from bokeh.io import output_notebook\n",
    "from IPython.display import Markdown\n",
    "from selection_atlas.setup import AtlasSetup\n",
    "from selection_atlas.page_utils import AtlasPageUtils\n",
    "\n",
    "# Initialise the atlas setup.\n",
    "setup = AtlasSetup(config_file)\n",
    "page_utils = AtlasPageUtils(setup=setup)\n",
    "\n",
    "# N.B., do not add the \"remove-output\" tag to this cell!!! If you do,\n",
    "# the bokeh javascript libraries will not get loaded in the generated\n",
    "# HTML page. The call to output_notebook() injects javascript in the\n",
    "# cell output which triggers the bokeh javascript libraries to be loaded\n",
    "# in the page.\n",
    "output_notebook(hide_banner=True)"
   ]
  },
  {
   "cell_type": "markdown",
   "id": "35d84b85-289d-43d9-bea8-9c3cbd7d1238",
   "metadata": {},
   "source": [
    "# Country Foo"
   ]
  },
  {
   "cell_type": "markdown",
   "id": "b2f77a2d-cd42-4d28-80b1-3339ea394fc9",
   "metadata": {},
   "source": [
    "## Selection signals\n",
    "\n",
    "{term}`Selection signal`s found in {term}`cohort`s within this country are shown in the figures below."
   ]
  },
  {
   "cell_type": "code",
   "execution_count": null,
   "id": "04611709",
   "metadata": {
    "tags": []
   },
   "outputs": [],
   "source": [
    "for contig in setup.contigs:\n",
    "    display(Markdown(f\"### Chromosome {contig}\"))\n",
    "    df_signals = page_utils.load_signals(\n",
    "        contig=contig, query=f\"country_alpha2 == '{country}'\"\n",
    "    )\n",
    "    if len(df_signals) > 0:\n",
    "        page_utils.plot_signals(df=df_signals, contig=contig)\n",
    "    else:\n",
    "        display(Markdown(\"No signals found.\"))"
   ]
  },
  {
   "cell_type": "markdown",
   "id": "2cb563e1-41b5-4e66-bebc-101fa20fafe6",
   "metadata": {},
   "source": [
    "## Selection scans"
   ]
  },
  {
   "cell_type": "markdown",
   "id": "95e21b75",
   "metadata": {},
   "source": [
    "The map below shows geographical regions where mosquito genomic data are available and {term}`genome-wide selection scan`s have been performed.\n",
    "\n",
    "Click on a map marker to see more information about mosquito {term}`cohort`s for which results are available."
   ]
  },
  {
   "cell_type": "code",
   "execution_count": null,
   "id": "c05dd564",
   "metadata": {
    "tags": [
     "remove-input"
    ]
   },
   "outputs": [],
   "source": [
    "gdf_cohorts_country = page_utils.gdf_cohorts.query(f\"country_alpha2 == '{country}'\")"
   ]
  },
  {
   "cell_type": "code",
   "execution_count": null,
   "id": "a9ee7cc7",
   "metadata": {
    "tags": [
     "remove-input"
    ]
   },
   "outputs": [],
   "source": [
    "page_utils.plot_cohorts_map(\n",
    "    gdf_cohorts=gdf_cohorts_country,\n",
    "    zoom=6,\n",
    "    url_prefix=\"../\",\n",
    ")"
   ]
  },
  {
   "cell_type": "code",
   "execution_count": null,
   "id": "bc53e915",
   "metadata": {
    "tags": [
     "remove-input"
    ]
   },
   "outputs": [],
   "source": [
    "def style_cohorts_table(gdf_cohorts):\n",
    "    gdf_cohorts = gdf_cohorts.reset_index()\n",
    "    gdf_cohorts[\"url\"] = \"../cohort/\" + gdf_cohorts[\"cohort_id\"] + \".html\"\n",
    "\n",
    "    def make_clickable(x):\n",
    "        url = x[\"url\"]\n",
    "        name = x[\"cohort_label\"]\n",
    "        return '<a href=\"{}\" rel=\"noopener noreferrer\" target=\"_blank\">{}</a>'.format(\n",
    "            url, name\n",
    "        )\n",
    "\n",
    "    gdf_cohorts[\"cohort_label\"] = gdf_cohorts.apply(make_clickable, axis=1)\n",
    "\n",
    "    gdf_cohorts = gdf_cohorts[\n",
    "        [\n",
    "            \"cohort_label\",\n",
    "            \"admin1_name\",\n",
    "            \"admin2_name\",\n",
    "            \"taxon\",\n",
    "            \"year\",\n",
    "            \"quarter\",\n",
    "            \"cohort_size\",\n",
    "        ]\n",
    "    ]\n",
    "\n",
    "    gdf_cohorts = gdf_cohorts.rename(\n",
    "        columns={\n",
    "            \"cohort_label\": \"Cohort\",\n",
    "        }\n",
    "    ).set_index(\"Cohort\")\n",
    "\n",
    "    gdf_cohorts.columns = [\n",
    "        \"Region\",\n",
    "        \"District\",\n",
    "        \"Taxon\",\n",
    "        \"Year\",\n",
    "        \"Quarter\",\n",
    "        \"Sample Size\",\n",
    "    ]\n",
    "\n",
    "    return gdf_cohorts.style\n",
    "\n",
    "\n",
    "style_cohorts_table(gdf_cohorts_country)"
   ]
  },
  {
   "cell_type": "code",
   "execution_count": null,
   "id": "6ffd3686-1c42-433e-9d40-c5eeb345ab4d",
   "metadata": {},
   "outputs": [],
   "source": []
  }
 ],
 "metadata": {
  "celltoolbar": "Tags",
  "environment": {
   "kernel": "selection-atlas",
   "name": "workbench-notebooks.m125",
   "type": "gcloud",
   "uri": "us-docker.pkg.dev/deeplearning-platform-release/gcr.io/workbench-notebooks:m125"
  },
  "kernelspec": {
   "display_name": "selection-atlas",
   "language": "python",
   "name": "selection-atlas"
  },
  "language_info": {
   "codemirror_mode": {
    "name": "ipython",
    "version": 3
   },
   "file_extension": ".py",
   "mimetype": "text/x-python",
   "name": "python",
   "nbconvert_exporter": "python",
   "pygments_lexer": "ipython3",
   "version": "3.12.8"
  }
 },
 "nbformat": 4,
 "nbformat_minor": 5
}
