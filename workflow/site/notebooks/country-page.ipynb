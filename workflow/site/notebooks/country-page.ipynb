{
 "cells": [
  {
   "cell_type": "code",
   "execution_count": null,
   "id": "76d2e44c",
   "metadata": {
    "tags": [
     "parameters",
     "remove-input"
    ]
   },
   "outputs": [],
   "source": [
    "# Notebook parameters. Values here are for development only and\n",
    "# will be overridden when running via snakemake and papermill.\n",
    "\n",
    "config_file = \"../../../config/afun.yaml\"\n",
    "country = \"MZ\""
   ]
  },
  {
   "cell_type": "code",
   "execution_count": null,
   "id": "ead60adb",
   "metadata": {
    "tags": [
     "remove-input"
    ]
   },
   "outputs": [],
   "source": [
    "from bokeh.io import output_notebook\n",
    "from IPython.display import Markdown\n",
    "from selection_atlas.setup import AtlasSetup\n",
    "from selection_atlas.page_utils import AtlasPageUtils\n",
    "\n",
    "# Initialise the atlas setup.\n",
    "setup = AtlasSetup(config_file)\n",
    "page_utils = AtlasPageUtils(setup=setup)\n",
    "\n",
    "# N.B., do not add the \"remove-output\" tag to this cell!!! If you do,\n",
    "# the bokeh javascript libraries will not get loaded in the generated\n",
    "# HTML page. The call to output_notebook() injects javascript in the\n",
    "# cell output which triggers the bokeh javascript libraries to be loaded\n",
    "# in the page.\n",
    "output_notebook(hide_banner=True)"
   ]
  },
  {
   "cell_type": "code",
   "execution_count": null,
   "id": "c05dd564",
   "metadata": {
    "tags": [
     "remove-input"
    ]
   },
   "outputs": [],
   "source": [
    "gdf_cohorts_country = page_utils.gdf_cohorts.query(f\"country_alpha2 == '{country}'\")\n",
    "country_name = gdf_cohorts_country[\"country\"].unique()[0]"
   ]
  },
  {
   "cell_type": "code",
   "execution_count": null,
   "id": "09b041a4-efdf-4533-a453-98ae25301786",
   "metadata": {
    "tags": []
   },
   "outputs": [],
   "source": [
    "Markdown(f\"# {country_name}\")"
   ]
  },
  {
   "cell_type": "markdown",
   "id": "b2f77a2d-cd42-4d28-80b1-3339ea394fc9",
   "metadata": {},
   "source": [
    "## Selection signals\n",
    "\n",
    "{term}`Selection signal`s found in {term}`cohort`s within this country are shown in the figures below."
   ]
  },
  {
   "cell_type": "code",
   "execution_count": null,
   "id": "04611709",
   "metadata": {
    "tags": [
     "remove-input"
    ]
   },
   "outputs": [],
   "source": [
    "for contig in setup.contigs:\n",
    "    display(Markdown(f\"### Chromosome {contig}\"))\n",
    "    df_signals = page_utils.load_signals(\n",
    "        contig=contig, query=f\"country_alpha2 == '{country}'\"\n",
    "    )\n",
    "    if len(df_signals) > 0:\n",
    "        page_utils.plot_signals(df=df_signals, contig=contig)\n",
    "    else:\n",
    "        display(Markdown(\"No signals found.\"))"
   ]
  },
  {
   "cell_type": "markdown",
   "id": "2cb563e1-41b5-4e66-bebc-101fa20fafe6",
   "metadata": {},
   "source": [
    "## Selection scans"
   ]
  },
  {
   "cell_type": "markdown",
   "id": "95e21b75",
   "metadata": {},
   "source": [
    "The map below shows geographical regions where mosquito genomic data are available and {term}`genome-wide selection scan`s have been performed.\n",
    "\n",
    "Click on a map marker to see more information about mosquito {term}`cohort`s for which results are available."
   ]
  },
  {
   "cell_type": "code",
   "execution_count": null,
   "id": "a9ee7cc7",
   "metadata": {
    "tags": [
     "remove-input"
    ]
   },
   "outputs": [],
   "source": [
    "page_utils.plot_cohorts_map(\n",
    "    gdf_cohorts=gdf_cohorts_country,\n",
    "    zoom=4,\n",
    "    url_prefix=\"../\",\n",
    ")"
   ]
  },
  {
   "cell_type": "code",
   "execution_count": null,
   "id": "bc53e915",
   "metadata": {
    "tags": [
     "remove-input"
    ]
   },
   "outputs": [],
   "source": [
    "page_utils.style_cohorts_table(\n",
    "    gdf_cohorts_country,\n",
    "    caption=f\"Table 1. Cohorts analysed within {country_name}.\",\n",
    ")"
   ]
  },
  {
   "cell_type": "code",
   "execution_count": null,
   "id": "3b786b88-d548-40f0-b14a-62f6b26c16a4",
   "metadata": {},
   "outputs": [],
   "source": []
  }
 ],
 "metadata": {
  "celltoolbar": "Tags",
  "environment": {
   "kernel": "selection-atlas",
   "name": "workbench-notebooks.m125",
   "type": "gcloud",
   "uri": "us-docker.pkg.dev/deeplearning-platform-release/gcr.io/workbench-notebooks:m125"
  },
  "kernelspec": {
   "display_name": "selection-atlas",
   "language": "python",
   "name": "selection-atlas"
  },
  "language_info": {
   "codemirror_mode": {
    "name": "ipython",
    "version": 3
   },
   "file_extension": ".py",
   "mimetype": "text/x-python",
   "name": "python",
   "nbconvert_exporter": "python",
   "pygments_lexer": "ipython3",
   "version": "3.12.8"
  }
 },
 "nbformat": 4,
 "nbformat_minor": 5
}
