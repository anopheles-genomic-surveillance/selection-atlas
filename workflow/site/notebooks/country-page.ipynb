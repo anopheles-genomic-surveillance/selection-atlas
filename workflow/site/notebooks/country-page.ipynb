{
 "cells": [
  {
   "cell_type": "code",
   "execution_count": null,
   "id": "76d2e44c",
   "metadata": {
    "tags": [
     "parameters",
     "remove-input"
    ]
   },
   "outputs": [],
   "source": [
    "# Notebook parameters. Values here are for development only and\n",
    "# will be overridden when running via snakemake and papermill.\n",
    "country = \"ML\"\n",
    "contigs = [\"3L\"]\n",
    "analysis_version = \"2025.02.13\"\n",
    "dask_scheduler = \"single-threaded\"\n",
    "cohorts_analysis = \"20240924\""
   ]
  },
  {
   "cell_type": "code",
   "execution_count": null,
   "id": "ead60adb",
   "metadata": {
    "tags": [
     "remove-input"
    ]
   },
   "outputs": [],
   "source": [
    "from pyprojroot import here\n",
    "\n",
    "root = here()\n",
    "%run -i {root}/workflow/common/scripts/setup.py\n",
    "%run -i {root}/workflow/site/scripts/page-setup.py\n",
    "\n",
    "# N.B., do not add the \"remove-output\" tag to this cell!!! If you do,\n",
    "# the bokeh javascript libraries will not get loaded in the generated\n",
    "# HTML page. The call to output_notebook() injects javascript in the\n",
    "# cell output which triggers the bokeh javascript libraries to be loaded\n",
    "# in the page.\n",
    "output_notebook(hide_banner=True)"
   ]
  },
  {
   "cell_type": "markdown",
   "id": "35d84b85-289d-43d9-bea8-9c3cbd7d1238",
   "metadata": {},
   "source": [
    "# Country Foo"
   ]
  },
  {
   "cell_type": "markdown",
   "id": "95e21b75",
   "metadata": {},
   "source": [
    "The map below shows regions where mosquito genomic data are available and genome-wide \n",
    "selection scans have been performed.\n",
    "\n",
    "Click on a region to see more information about mosquito cohorts for which data are \n",
    "available."
   ]
  },
  {
   "cell_type": "code",
   "execution_count": null,
   "id": "c05dd564",
   "metadata": {
    "tags": [
     "remove-input"
    ]
   },
   "outputs": [],
   "source": [
    "gdf_cohorts_country = gdf_cohorts.query(f\"country_alpha2 == '{country}'\")"
   ]
  },
  {
   "cell_type": "code",
   "execution_count": null,
   "id": "23b8270d-eef9-48fb-bff3-b5e99d559d1e",
   "metadata": {
    "tags": []
   },
   "outputs": [],
   "source": [
    "gdf_cohorts_country.columns"
   ]
  },
  {
   "cell_type": "code",
   "execution_count": null,
   "id": "dfc0130c-5cac-4b7e-9a36-14a0829fdef0",
   "metadata": {
    "tags": []
   },
   "outputs": [],
   "source": [
    "gdf_cohorts_country"
   ]
  },
  {
   "cell_type": "code",
   "execution_count": null,
   "id": "a9ee7cc7",
   "metadata": {
    "tags": [
     "remove-input"
    ]
   },
   "outputs": [],
   "source": [
    "from ipyleaflet import Map, Marker, basemaps\n",
    "from ipywidgets import HTML\n",
    "\n",
    "center = gdf_cohorts_country[[\"latitude\", \"longitude\"]].mean().to_list()\n",
    "m = Map(center=center, zoom=6, basemap=basemaps.OpenTopoMap)\n",
    "\n",
    "for index, df in gdf_cohorts_country.groupby(\n",
    "    [\"shapeID\", \"admin1_name\", \"admin1_iso\", \"admin2_name\"]\n",
    "):\n",
    "    shape_id, admin1_name, admin1_iso, admin2_name = index\n",
    "    if shape_id is None:\n",
    "        continue\n",
    "    html_text = f\"{admin2_name}, {admin1_name} ({admin1_iso})<br/>\"\n",
    "\n",
    "    for _, row in df.iterrows():\n",
    "        html_text += f'<li><a href=\"../cohort/{row.cohort_id}.html\">{row.taxon} / {row.year} / Q{row.quarter} (n={row.cohort_size})</a></li>'\n",
    "    html_text += \"</ul>\"\n",
    "\n",
    "    lat, long = (\n",
    "        df[[\"representative_lat\", \"representative_lon\"]].drop_duplicates().values[0]\n",
    "    )\n",
    "\n",
    "    marker = Marker(\n",
    "        location=(lat, long),\n",
    "        draggable=False,\n",
    "        opacity=1,\n",
    "    )\n",
    "    m.add(marker)\n",
    "    message2 = HTML()\n",
    "    message2.value = html_text\n",
    "    marker.popup = message2\n",
    "\n",
    "m"
   ]
  },
  {
   "cell_type": "markdown",
   "id": "922ac724",
   "metadata": {},
   "source": [
    "<br></br>"
   ]
  },
  {
   "cell_type": "code",
   "execution_count": null,
   "id": "6dd7ddb3",
   "metadata": {
    "tags": [
     "remove-input"
    ]
   },
   "outputs": [],
   "source": [
    "def make_clickable(url, name):\n",
    "    return '<a href=\"{}\" rel=\"noopener noreferrer\" target=\"_blank\">{}</a>'.format(\n",
    "        url, name\n",
    "    )"
   ]
  },
  {
   "cell_type": "code",
   "execution_count": null,
   "id": "bc53e915",
   "metadata": {
    "tags": [
     "remove-input"
    ]
   },
   "outputs": [],
   "source": [
    "gdf_cohorts = gdf_cohorts_country.reset_index()\n",
    "gdf_cohorts[\"url\"] = \"../cohort/\" + gdf_cohorts[\"cohort_id\"] + \".html\"\n",
    "gdf_cohorts[\"cohort_label\"] = gdf_cohorts.apply(\n",
    "    lambda x: make_clickable(x[\"url\"], x[\"cohort_label\"]), axis=1\n",
    ")\n",
    "\n",
    "gdf_cohorts = gdf_cohorts[\n",
    "    [\n",
    "        \"cohort_label\",\n",
    "        \"cohort_size\",\n",
    "        \"admin1_name\",\n",
    "        \"admin2_name\",\n",
    "        \"taxon\",\n",
    "        \"year\",\n",
    "        \"quarter\",\n",
    "    ]\n",
    "]\n",
    "gdf_cohorts = gdf_cohorts.rename(columns={\"cohort_label\": \"Cohort label\"}).set_index(\n",
    "    \"Cohort label\"\n",
    ")\n",
    "gdf_cohorts.columns = [\n",
    "    \"Cohort size\",\n",
    "    \"Admin1 area\",\n",
    "    \"Admin2 area\",\n",
    "    \"Taxon\",\n",
    "    \"Year\",\n",
    "    \"Quarter\",\n",
    "]\n",
    "gdf_cohorts.style"
   ]
  },
  {
   "cell_type": "code",
   "execution_count": null,
   "id": "6ffd3686-1c42-433e-9d40-c5eeb345ab4d",
   "metadata": {},
   "outputs": [],
   "source": []
  }
 ],
 "metadata": {
  "celltoolbar": "Tags",
  "environment": {
   "kernel": "selection-atlas",
   "name": "workbench-notebooks.m125",
   "type": "gcloud",
   "uri": "us-docker.pkg.dev/deeplearning-platform-release/gcr.io/workbench-notebooks:m125"
  },
  "kernelspec": {
   "display_name": "selection-atlas",
   "language": "python",
   "name": "selection-atlas"
  },
  "language_info": {
   "codemirror_mode": {
    "name": "ipython",
    "version": 3
   },
   "file_extension": ".py",
   "mimetype": "text/x-python",
   "name": "python",
   "nbconvert_exporter": "python",
   "pygments_lexer": "ipython3",
   "version": "3.12.8"
  }
 },
 "nbformat": 4,
 "nbformat_minor": 5
}
