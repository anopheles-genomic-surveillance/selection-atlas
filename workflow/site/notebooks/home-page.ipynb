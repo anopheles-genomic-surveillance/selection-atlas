{
 "cells": [
  {
   "cell_type": "code",
   "execution_count": null,
   "id": "944cabdc-4f36-4ab9-b4a0-9d0606b91ae7",
   "metadata": {
    "tags": [
     "parameters",
     "remove-input"
    ]
   },
   "outputs": [],
   "source": [
    "# Parameters from the workflow config.yaml.\n",
    "cohorts_analysis = \"20240924\"\n",
    "analysis_version = \"2025.02.13\"\n",
    "dask_scheduler = \"single-threaded\"\n",
    "contigs = [\"3L\"]"
   ]
  },
  {
   "cell_type": "markdown",
   "id": "f9360e53",
   "metadata": {},
   "source": [
    "# The malaria vector selection atlas"
   ]
  },
  {
   "cell_type": "code",
   "execution_count": null,
   "id": "4d823aef-e233-4d39-b731-5f48093011fd",
   "metadata": {
    "tags": [
     "remove-input"
    ]
   },
   "outputs": [],
   "source": [
    "from pyprojroot import here\n",
    "\n",
    "root = here()\n",
    "%run -i {root}/workflow/common/scripts/setup.py\n",
    "%run -i {root}/workflow/site/scripts/page-setup.py\n",
    "\n",
    "home_info = f\"\"\"\n",
    "Welcome to the Malaria Vector Selection Atlas (version v{analysis_version}). This site reports \n",
    "signals of recent selection found in natural populations of malaria vectors\n",
    "in the *Anopheles gambiae* species complex.\n",
    "\"\"\"\n",
    "\n",
    "display(Markdown(home_info))"
   ]
  },
  {
   "cell_type": "code",
   "execution_count": null,
   "id": "d2286c43",
   "metadata": {
    "tags": [
     "remove-input"
    ]
   },
   "outputs": [],
   "source": [
    "center = (-2, 20)\n",
    "\n",
    "m = Map(center=center, zoom=3, basemap=basemaps.OpenTopoMap)\n",
    "\n",
    "for shapeID in gdf_cohorts.shapeID.unique():\n",
    "    if shapeID is None:\n",
    "        continue\n",
    "    df = gdf_cohorts.query(\"shapeID == @shapeID\")\n",
    "    html_text = \"<br>\".join(\n",
    "        [\n",
    "            f'<a href=\"cohort/{coh_id}.html\">{row.cohort_label} (n={row.cohort_size})</a>'\n",
    "            for coh_id, row in df.iterrows()\n",
    "        ]\n",
    "    )\n",
    "\n",
    "    lat, long = (\n",
    "        df[[\"representative_lat\", \"representative_lon\"]].drop_duplicates().values[0]\n",
    "    )\n",
    "\n",
    "    icon1 = AwesomeIcon(name=\"bug\", marker_color=\"gray\", icon_color=\"white\", spin=False)\n",
    "\n",
    "    marker = Marker(location=(lat, long), icon=icon1, draggable=False, opacity=0.7)\n",
    "    m.add_layer(marker)\n",
    "\n",
    "    message2 = HTML()\n",
    "    message2.value = html_text\n",
    "    marker.popup = message2\n",
    "\n",
    "display(m)"
   ]
  },
  {
   "cell_type": "code",
   "execution_count": null,
   "id": "ebaaf4fd-8f63-4ac3-9768-f42c4b641f34",
   "metadata": {},
   "outputs": [],
   "source": []
  }
 ],
 "metadata": {
  "celltoolbar": "Tags",
  "environment": {
   "kernel": "selection-atlas",
   "name": "workbench-notebooks.m125",
   "type": "gcloud",
   "uri": "us-docker.pkg.dev/deeplearning-platform-release/gcr.io/workbench-notebooks:m125"
  },
  "kernelspec": {
   "display_name": "selection-atlas",
   "language": "python",
   "name": "selection-atlas"
  },
  "language_info": {
   "codemirror_mode": {
    "name": "ipython",
    "version": 3
   },
   "file_extension": ".py",
   "mimetype": "text/x-python",
   "name": "python",
   "nbconvert_exporter": "python",
   "pygments_lexer": "ipython3",
   "version": "3.12.8"
  },
  "vscode": {
   "interpreter": {
    "hash": "413cdeb219e8bff135b0b2763a87a5764c0fe7d0a4036c131f34ed4d6caa02ac"
   }
  }
 },
 "nbformat": 4,
 "nbformat_minor": 5
}
