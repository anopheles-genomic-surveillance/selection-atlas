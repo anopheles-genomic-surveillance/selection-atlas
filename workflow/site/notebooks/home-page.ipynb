{
 "cells": [
  {
   "cell_type": "code",
   "execution_count": null,
   "id": "944cabdc-4f36-4ab9-b4a0-9d0606b91ae7",
   "metadata": {
    "tags": [
     "parameters",
     "remove-input"
    ]
   },
   "outputs": [],
   "source": [
    "# Parameters from the workflow config.yaml.\n",
    "cohorts_analysis = \"20240924\"\n",
    "analysis_version = \"2025.02.13\"\n",
    "dask_scheduler = \"single-threaded\"\n",
    "contigs = [\"3L\"]"
   ]
  },
  {
   "cell_type": "markdown",
   "id": "f9360e53",
   "metadata": {},
   "source": [
    "# An atlas of recent positive selection in malaria vectors of the *Anopheles gambiae* species complex"
   ]
  },
  {
   "cell_type": "code",
   "execution_count": null,
   "id": "4d823aef-e233-4d39-b731-5f48093011fd",
   "metadata": {
    "tags": [
     "remove-input"
    ]
   },
   "outputs": [],
   "source": [
    "from pyprojroot import here\n",
    "\n",
    "root = here()\n",
    "%run -i {root}/workflow/common/scripts/setup.py\n",
    "%run -i {root}/workflow/site/scripts/page-setup.py\n",
    "\n",
    "content = f\"**Analysis version v{analysis_version}**\"\n",
    "Markdown(content)"
   ]
  },
  {
   "cell_type": "markdown",
   "id": "1cfb2fde-a93f-48ae-b7be-d35800740f32",
   "metadata": {},
   "source": [
    "This web application reports the results of {term}`genome-wide selection scans` performed using mosquitoes from the {term}`Anopheles gambiae species complex` which contains the major {term}`malaria vectors` in sub-Saharan Africa. The purpose of these analyses is to discover {term}`genes` which are under {term}`recent positive selection` because they cause {term}`insecticide resistance` or otherwise help mosquitoes to resist or evade {term}`vector control` tools such as insecticide-treated bednets. These analyses were performed using genomic data from the {term}`Malaria Vector Genome Observatory` which is a collaborative project to sequence the {term}`genomes` of mosquitoes collected from natural populations across Africa and make the data available for research and surveillance."
   ]
  },
  {
   "cell_type": "markdown",
   "id": "fce1090a-3685-488e-9f31-ff555a1a4845",
   "metadata": {},
   "source": [
    "## Selection alerts\n",
    "\n",
    "This report includes a curated a set of {doc}`alerts` which identify genome regions of public health concern, because overlapping {term}`selection signals` have been identified and replicated in mosquito {term}`cohorts` sampled from at least two locations or time points, and because these they contain one or more {term}`genes` with a proven or plausible link to {term}`insecticide resistance`. These {term}`genome regions` are highlighted as a priority for further research and surveillance:\n",
    "\n",
    "* {doc}`alert/SA-AG-01`\n",
    "* {doc}`alert/SA-AG-02`\n",
    "* {doc}`alert/SA-AG-03`\n",
    "* {doc}`alert/SA-AG-04`\n",
    "* {doc}`alert/SA-AG-05`\n",
    "* {doc}`alert/SA-AG-06`\n",
    "* {doc}`alert/SA-AG-07`\n",
    "* {doc}`alert/SA-AG-08`\n",
    "* {doc}`alert/SA-AG-09`\n"
   ]
  },
  {
   "cell_type": "markdown",
   "id": "4be9dd1b-7296-4b90-b811-ec13e6104352",
   "metadata": {},
   "source": [
    "## Selection signals\n",
    "\n",
    "This report includes the results of {term}`genome-wide selection scans` run on mosquitoes sampled from multiple species, locations and time points. To provide an overview of these results and aid with the identification of {term}`genome regions` under {term}`recent positive selection`, an automated signal detection algorithm has been applied to the outputs of all selection scans. This algorithm detects {term}`selection signals`, which are {term}`genome` regions with strong evidence of {term}`recent positive selection`. See the pages below to browse all {term}`selection signals` discovered:\n",
    "\n",
    "* {doc}`contig/ag-2RL`\n",
    "* {doc}`contig/ag-3RL`\n",
    "* {doc}`contig/ag-X`"
   ]
  },
  {
   "cell_type": "markdown",
   "id": "d102c12a-24c5-4bfb-bae6-9074f5000e83",
   "metadata": {},
   "source": [
    "## Selection scans\n",
    "\n",
    "To browse the results of {term}`genome-wide selection scans` directly, see the map below to select a geographical region of interest, then click on a marker to see available {term}`cohorts` for that location."
   ]
  },
  {
   "cell_type": "code",
   "execution_count": null,
   "id": "d2286c43",
   "metadata": {
    "tags": [
     "remove-input"
    ]
   },
   "outputs": [],
   "source": [
    "plot_cohorts_map(gdf_cohorts=gdf_cohorts, zoom=3)"
   ]
  },
  {
   "cell_type": "markdown",
   "id": "1441f4e3-fe52-436d-86ad-5cae39ba3620",
   "metadata": {},
   "source": [
    "## About\n",
    "\n",
    "For further information about this report, please see the {doc}`methods`, {doc}`faq` and {doc}`glossary`. If you have any questions, suggestions or corrections, please visit the [GitHub repository](https://github.com/anopheles-genomic-surveillance/selection-atlas/) and [raise an issue](https://github.com/anopheles-genomic-surveillance/selection-atlas/issues)."
   ]
  }
 ],
 "metadata": {
  "celltoolbar": "Tags",
  "environment": {
   "kernel": "selection-atlas",
   "name": "workbench-notebooks.m125",
   "type": "gcloud",
   "uri": "us-docker.pkg.dev/deeplearning-platform-release/gcr.io/workbench-notebooks:m125"
  },
  "kernelspec": {
   "display_name": "selection-atlas",
   "language": "python",
   "name": "selection-atlas"
  },
  "language_info": {
   "codemirror_mode": {
    "name": "ipython",
    "version": 3
   },
   "file_extension": ".py",
   "mimetype": "text/x-python",
   "name": "python",
   "nbconvert_exporter": "python",
   "pygments_lexer": "ipython3",
   "version": "3.12.8"
  },
  "vscode": {
   "interpreter": {
    "hash": "413cdeb219e8bff135b0b2763a87a5764c0fe7d0a4036c131f34ed4d6caa02ac"
   }
  }
 },
 "nbformat": 4,
 "nbformat_minor": 5
}
