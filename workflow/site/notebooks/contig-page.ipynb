{
 "cells": [
  {
   "cell_type": "code",
   "execution_count": null,
   "id": "34089839",
   "metadata": {
    "tags": [
     "parameters",
     "remove-input"
    ]
   },
   "outputs": [],
   "source": [
    "# Notebook parameters. Values here are for development only and\n",
    "# will be overridden when running via snakemake and papermill.\n",
    "\n",
    "# General setup parameters.\n",
    "atlas_id = \"agam\"\n",
    "analysis_version = \"dev\"\n",
    "cohorts_analysis = \"20240924\"\n",
    "contigs = [\"3L\"]\n",
    "dask_scheduler = \"single-threaded\"\n",
    "\n",
    "# Other parameters.\n",
    "sample_sets = \"AG1000G-BF-A\"\n",
    "sample_query = None\n",
    "min_cohort_size = 20\n",
    "max_cohort_size = 50\n",
    "h12_calibration_contig = \"3L\"\n",
    "\n",
    "contig = \"3L\""
   ]
  },
  {
   "cell_type": "code",
   "execution_count": null,
   "id": "7df886de",
   "metadata": {
    "tags": [
     "remove-input",
     "parameters"
    ]
   },
   "outputs": [],
   "source": [
    "from bokeh.io import output_notebook\n",
    "from selection_atlas.setup import AtlasSetup\n",
    "from selection_atlas.page_utils import AtlasPageUtils\n",
    "\n",
    "# Initialise the atlas setup.\n",
    "setup = AtlasSetup(\n",
    "    atlas_id=atlas_id,\n",
    "    analysis_version=analysis_version,\n",
    "    cohorts_analysis=cohorts_analysis,\n",
    "    contigs=contigs,\n",
    "    dask_scheduler=dask_scheduler,\n",
    ")\n",
    "\n",
    "# Initialise page utils.\n",
    "page_utils = AtlasPageUtils(setup=setup)\n",
    "\n",
    "# N.B., do not add the \"remove-output\" tag to this cell!!! If you do,\n",
    "# the bokeh javascript libraries will not get loaded in the generated\n",
    "# HTML page. The call to output_notebook() injects javascript in the\n",
    "# cell output which triggers the bokeh javascript libraries to be loaded\n",
    "# in the page.\n",
    "output_notebook(hide_banner=True)"
   ]
  },
  {
   "cell_type": "markdown",
   "id": "077cc097-bc70-40bf-9640-5f6f0b597f9e",
   "metadata": {},
   "source": [
    "# Chromosome Foo"
   ]
  },
  {
   "cell_type": "markdown",
   "id": "ef430b95-efff-4c4e-99fa-044d8ac41448",
   "metadata": {
    "tags": [
     "remove-input"
    ]
   },
   "source": [
    "The plot below shows {term}`selection signal`s discovered in any of the mosquito {term}`cohort`s analysed. Hover over a signal for more information about the {term}`cohort` in which the signal was found, including the mosquito species, collection location and date range. Click on a signal to see the underlying selection scan data."
   ]
  },
  {
   "cell_type": "code",
   "execution_count": null,
   "id": "b23f42c0-c05c-457e-a0eb-b8d32fa71025",
   "metadata": {
    "tags": [
     "remove-input",
     "full-width"
    ]
   },
   "outputs": [],
   "source": [
    "df_signals = page_utils.load_signals(contig=contig)\n",
    "\n",
    "page_utils.plot_signals(df=df_signals, contig=contig)"
   ]
  },
  {
   "cell_type": "code",
   "execution_count": null,
   "id": "ab3328ac",
   "metadata": {
    "tags": [
     "remove-input"
    ]
   },
   "outputs": [],
   "source": [
    "def style_signals_table(\n",
    "    df_signals,\n",
    "):\n",
    "    df_signals = df_signals[\n",
    "        [\n",
    "            \"contig\",\n",
    "            \"focus_pstart\",\n",
    "            \"focus_pstop\",\n",
    "            \"cohort_id\",\n",
    "            \"cohort_label\",\n",
    "            \"statistic\",\n",
    "            \"delta_i\",\n",
    "        ]\n",
    "    ]\n",
    "\n",
    "    # Add focal_region column.\n",
    "    df_signals = df_signals.assign(\n",
    "        focal_region=df_signals[\"contig\"]\n",
    "        + \" ( \"\n",
    "        + df_signals[\"focus_pstart\"].apply(\n",
    "            lambda x: \"{:,}\".format(\n",
    "                x,\n",
    "            )\n",
    "        )\n",
    "        + \" - \"\n",
    "        + df_signals[\"focus_pstop\"].apply(\n",
    "            lambda x: \"{:,}\".format(\n",
    "                x,\n",
    "            )\n",
    "        )\n",
    "        + \" )\"\n",
    "    )\n",
    "\n",
    "    # Add url column.\n",
    "    df_signals[\"url\"] = \"../cohort/\" + df_signals[\"cohort_id\"] + \".html\"\n",
    "\n",
    "    def make_clickable(x):\n",
    "        url = x[\"url\"]\n",
    "        name = x[\"cohort_label\"]\n",
    "        return '<a href=\"{}\" rel=\"noopener noreferrer\" target=\"_blank\">{}</a>'.format(\n",
    "            url, name\n",
    "        )\n",
    "\n",
    "    # Add hyperlinked cohort_label column\n",
    "    df_signals[\"cohort_label\"] = df_signals.apply(make_clickable, axis=1)\n",
    "\n",
    "    # Style the table.\n",
    "    styled = (\n",
    "        df_signals[[\"focal_region\", \"cohort_label\", \"statistic\", \"delta_i\"]]\n",
    "        .rename(\n",
    "            columns={\n",
    "                \"focal_region\": \"Focal Region\",\n",
    "                \"cohort_label\": \"Cohort Label\",\n",
    "                \"statistic\": \"Statistic\",\n",
    "                \"delta_i\": \"Delta i\",\n",
    "            }\n",
    "        )\n",
    "        .style.hide(axis=\"index\")\n",
    "    )\n",
    "\n",
    "    return styled\n",
    "\n",
    "\n",
    "style_signals_table(df_signals)"
   ]
  },
  {
   "cell_type": "code",
   "execution_count": null,
   "id": "f4bc5a2e-581f-4f13-94ee-edea0fc29f79",
   "metadata": {},
   "outputs": [],
   "source": []
  }
 ],
 "metadata": {
  "celltoolbar": "Tags",
  "kernelspec": {
   "display_name": "selection-atlas",
   "language": "python",
   "name": "python3"
  },
  "language_info": {
   "codemirror_mode": {
    "name": "ipython",
    "version": 3
   },
   "file_extension": ".py",
   "mimetype": "text/x-python",
   "name": "python",
   "nbconvert_exporter": "python",
   "pygments_lexer": "ipython3",
   "version": "3.12.8"
  }
 },
 "nbformat": 4,
 "nbformat_minor": 5
}
