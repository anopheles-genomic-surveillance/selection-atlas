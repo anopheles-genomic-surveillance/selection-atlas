{
 "cells": [
  {
   "cell_type": "code",
   "execution_count": null,
   "metadata": {
    "tags": [
     "parameters"
    ]
   },
   "outputs": [],
   "source": [
    "# General setup parameters.\n",
    "atlas_id = \"agam\"\n",
    "analysis_version = \"dev\"\n",
    "cohorts_analysis = \"20240924\"\n",
    "contigs = [\"3L\"]\n",
    "dask_scheduler = \"single-threaded\"\n",
    "\n",
    "# Other parameters.\n",
    "wildcard = \"\"\n",
    "input_nb = \"\"\n",
    "output_nb = \"\"\n",
    "page_type = \"\""
   ]
  },
  {
   "cell_type": "code",
   "execution_count": null,
   "metadata": {},
   "outputs": [],
   "source": [
    "import json\n",
    "import yaml\n",
    "import geopandas as gpd\n",
    "from selection_atlas.setup import AtlasSetup\n",
    "from selection_atlas.page_utils import AtlasPageUtils\n",
    "\n",
    "# Initialise the atlas setup.\n",
    "setup = AtlasSetup(\n",
    "    atlas_id=atlas_id,\n",
    "    analysis_version=analysis_version,\n",
    "    cohorts_analysis=cohorts_analysis,\n",
    "    contigs=contigs,\n",
    "    dask_scheduler=dask_scheduler,\n",
    ")\n",
    "\n",
    "# Initialise page utils.\n",
    "page_utils = AtlasPageUtils(setup=setup)"
   ]
  },
  {
   "cell_type": "code",
   "execution_count": null,
   "metadata": {},
   "outputs": [],
   "source": [
    "def add_header_and_remove_tag(input_nb, output_nb, header, page_type, cell=3):\n",
    "    with open(input_nb, mode=\"r\", encoding=\"utf-8\") as f:\n",
    "        my_nb = json.loads(f.read())\n",
    "\n",
    "    if not page_type == \"homepage\":\n",
    "        my_nb[\"cells\"][cell][\"source\"] = header\n",
    "\n",
    "    my_nb[\"cells\"][1][\"metadata\"][\"tags\"] = [\"remove-input\"]\n",
    "\n",
    "    with open(output_nb, \"w\") as f:\n",
    "        json.dump(my_nb, f)"
   ]
  },
  {
   "cell_type": "markdown",
   "metadata": {},
   "source": [
    "## Add headers"
   ]
  },
  {
   "cell_type": "code",
   "execution_count": null,
   "metadata": {},
   "outputs": [],
   "source": [
    "gpd_df = gpd.read_file(setup.final_cohorts_geojson_file)\n",
    "\n",
    "if page_type == \"country\":\n",
    "    df = gpd_df.query(f\"country_alpha2 == '{wildcard}'\")\n",
    "    country_name = df[\"country\"].unique()[0]\n",
    "    title = country_name\n",
    "\n",
    "elif page_type == \"contig\":\n",
    "    title = f\"Chromosome {wildcard}\"\n",
    "\n",
    "elif page_type == \"cohort\":\n",
    "    df = gpd_df.query(f\"cohort_id == '{wildcard}'\")\n",
    "    cohort_label = df[\"cohort_label\"].unique()[0]\n",
    "    title = cohort_label\n",
    "\n",
    "elif page_type == \"homepage\":\n",
    "    title = \"\"\n",
    "\n",
    "elif page_type == \"alert\":\n",
    "    alert_path = setup.alerts_dir / f\"{wildcard}.yaml\"\n",
    "    with open(alert_path, \"r\") as alert_file:\n",
    "        alert_config = yaml.safe_load(alert_file)\n",
    "        alert_id = wildcard\n",
    "        alert_label = alert_config[\"label\"]\n",
    "    title = f\"Alert {alert_id} (*{alert_label}*)\""
   ]
  },
  {
   "cell_type": "code",
   "execution_count": null,
   "metadata": {},
   "outputs": [],
   "source": [
    "add_header_and_remove_tag(\n",
    "    input_nb=input_nb,\n",
    "    output_nb=output_nb,\n",
    "    header=f\"# {title}\",\n",
    "    page_type=page_type,\n",
    ")"
   ]
  }
 ],
 "metadata": {
  "kernelspec": {
   "display_name": "selection-atlas",
   "language": "python",
   "name": "python3"
  },
  "language_info": {
   "codemirror_mode": {
    "name": "ipython",
    "version": 3
   },
   "file_extension": ".py",
   "mimetype": "text/x-python",
   "name": "python",
   "nbconvert_exporter": "python",
   "pygments_lexer": "ipython3",
   "version": "3.12.8"
  }
 },
 "nbformat": 4,
 "nbformat_minor": 4
}
