{
 "cells": [
  {
   "cell_type": "markdown",
   "id": "0402fbc0",
   "metadata": {},
   "source": [
    "# Generate book table of contents\n",
    "\n",
    "Here we generate the Jupyter book table of contents file at `docs/_toc.yml`."
   ]
  },
  {
   "cell_type": "code",
   "execution_count": null,
   "id": "6e7f3c55",
   "metadata": {
    "tags": [
     "parameters"
    ]
   },
   "outputs": [],
   "source": [
    "# Notebook parameters. Values here are for development only and\n",
    "# will be overridden when running via snakemake and papermill.\n",
    "\n",
    "config_file = \"../../../config/agam.yaml\""
   ]
  },
  {
   "cell_type": "code",
   "execution_count": null,
   "id": "b351415c",
   "metadata": {
    "tags": []
   },
   "outputs": [],
   "source": [
    "from bokeh.io import output_notebook\n",
    "from selection_atlas.setup import AtlasSetup\n",
    "from selection_atlas.page_utils import AtlasPageUtils\n",
    "\n",
    "# Initialise the atlas setup.\n",
    "setup = AtlasSetup(config_file)\n",
    "page_utils = AtlasPageUtils(setup=setup)\n",
    "\n",
    "# N.B., do not add the \"remove-output\" tag to this cell!!! If you do,\n",
    "# the bokeh javascript libraries will not get loaded in the generated\n",
    "# HTML page. The call to output_notebook() injects javascript in the\n",
    "# cell output which triggers the bokeh javascript libraries to be loaded\n",
    "# in the page.\n",
    "output_notebook(hide_banner=True)"
   ]
  },
  {
   "cell_type": "code",
   "execution_count": null,
   "id": "ea7c4362-dd0d-454b-a08e-18ca3ffa1092",
   "metadata": {},
   "outputs": [],
   "source": [
    "jb_config = f\"\"\"\n",
    "# Book settings\n",
    "# Learn more at https://jupyterbook.org/customize/config.html\n",
    "\n",
    "title: \"{setup.atlas_title}\"\n",
    "author: \"Sanjay Nagi (<a href='https://github.com/sanjaynagi'>@sanjaynagi</a>) and Alistair Miles (<a href='https://github.com/alimanfoo/'>@alimanfoo</a>).\"\n",
    "copyright: \"2025\"\n",
    "logo: logo-{setup.atlas_id}.png\n",
    "\n",
    "# Force re-execution of notebooks when the site is compiled.\n",
    "# See https://jupyterbook.org/content/execute.html\n",
    "execute:\n",
    "    execute_notebooks: off\n",
    "\n",
    "# Information about where the book exists on the web\n",
    "repository:\n",
    "    url: https://github.com/anopheles-genomic-surveillance/selection-atlas # Online location of your book\n",
    "    path_to_book: docs/ # Optional path to your book, relative to the repository root\n",
    "    branch: main # Which branch of the repository should be used when creating links (optional)\n",
    "\n",
    "sphinx:\n",
    "    extra_extensions:\n",
    "        - 'sphinx.ext.autodoc'\n",
    "        - 'sphinx.ext.napoleon'\n",
    "    config:\n",
    "        myst_enable_extensions:\n",
    "            - substitution\n",
    "            - dollarmath\n",
    "        html_js_files:\n",
    "            - https://cdnjs.cloudflare.com/ajax/libs/require.js/2.3.4/require.min.js\n",
    "        suppress_warnings: [\"mystnb.unknown_mime_type\"]\n",
    "\n",
    "# Define the name of the latex output file for PDF compilation.\n",
    "latex:\n",
    "    latex_documents:\n",
    "        targetname: malaria-vector-selection-atlas-docs.tex\n",
    "\n",
    "# Add a bibtex file so that we can create citations\n",
    "#bibtex_bibfiles:\n",
    "#  - references.bib\n",
    "\n",
    "# Add GitHub buttons to your book\n",
    "# See https://jupyterbook.org/customize/config.html#add-a-link-to-your-repository\n",
    "html:\n",
    "    favicon : \"favicon.ico\"\n",
    "    use_issues_button: true\n",
    "    use_repository_button: true\n",
    "    comments:\n",
    "        utterances:\n",
    "            repo: 'anopheles-genomic-surveillance/selection-atlas'\n",
    "            issue-term: 'pathname'\n",
    "            label: 'comment'\n",
    "            theme: 'github-light'\n",
    "\n",
    "\"\"\""
   ]
  },
  {
   "cell_type": "code",
   "execution_count": null,
   "id": "dabc4b40",
   "metadata": {
    "tags": []
   },
   "outputs": [],
   "source": [
    "with open(setup.jb_source_dir / \"_config.yml\", mode=\"w\") as output_file:\n",
    "    output_file.write(jb_config)"
   ]
  },
  {
   "cell_type": "code",
   "execution_count": null,
   "id": "65283e5a",
   "metadata": {},
   "outputs": [],
   "source": []
  }
 ],
 "metadata": {
  "environment": {
   "kernel": "selection-atlas",
   "name": "workbench-notebooks.m125",
   "type": "gcloud",
   "uri": "us-docker.pkg.dev/deeplearning-platform-release/gcr.io/workbench-notebooks:m125"
  },
  "kernelspec": {
   "display_name": "selection-atlas",
   "language": "python",
   "name": "selection-atlas"
  },
  "language_info": {
   "codemirror_mode": {
    "name": "ipython",
    "version": 3
   },
   "file_extension": ".py",
   "mimetype": "text/x-python",
   "name": "python",
   "nbconvert_exporter": "python",
   "pygments_lexer": "ipython3",
   "version": "3.12.8"
  }
 },
 "nbformat": 4,
 "nbformat_minor": 5
}
