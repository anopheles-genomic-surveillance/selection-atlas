{
 "cells": [
  {
   "cell_type": "markdown",
   "metadata": {},
   "source": [
    "# Insecticide resistance alerts\n",
    "\n",
    "Mosquitoes evolve in response to {term}`vector control` interventions, and these adaptations can change how effective those interventions are at preventing disease transmission. By identifying {term}`gene`s that are under {term}`recent positive selection` in mosquito populations, it is possible to detect these evolutionary changes and alert both the public health and scientific communities.\n",
    "\n",
    "Public health agencies can benefit because this information can provide early warning of new {term}`insecticide resistance` variants, or provide a baseline of pre-existing resistance variants present before a new intervention is rolled out. The scientific community can benefit because this information can generate new leads for research to understand the molecular mechanisms of {term}`insecticide resistance`, and accelerate the development of improved insecticides, insecticide combinations or synergists.\n",
    "\n",
    "Below is a curated set of selection alerts which identify genome regions with {term}`selection signal`s replicated in mosquito {term}`cohort`s sampled from at least two species, locations or time points, and containing one or more {term}`gene`s with a proven or plausible link to {term}`insecticide resistance`. We highlight these genome regions as a priority for further research and surveillance."
   ]
  },
  {
   "cell_type": "markdown",
   "metadata": {},
   "source": [
    "```{tableofcontents}\n",
    "```"
   ]
  },
  {
   "cell_type": "markdown",
   "metadata": {},
   "source": []
  }
 ],
 "metadata": {
  "kernelspec": {
   "display_name": "selection-atlas",
   "language": "python",
   "name": "selection-atlas"
  },
  "language_info": {
   "codemirror_mode": {
    "name": "ipython",
    "version": 3
   },
   "file_extension": ".py",
   "mimetype": "text/x-python",
   "name": "python",
   "nbconvert_exporter": "python",
   "pygments_lexer": "ipython3",
   "version": "3.12.8"
  }
 },
 "nbformat": 4,
 "nbformat_minor": 4
}
