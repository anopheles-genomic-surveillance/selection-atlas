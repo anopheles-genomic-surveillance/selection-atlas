{
 "cells": [
  {
   "cell_type": "markdown",
   "metadata": {},
   "source": [
    "# Selection alerts\n",
    "\n",
    "Mosquitoes evolve in response to our control efforts, and these adaptations can change how effective vector control tools are. By identifying genes that are under recent positive selection in mosquito populations, it is possible to detect these evolutionary changes and alert both the public health and scientific communities. Public health agencies can benefit because this information can provide early warning of new insecticide resistance variants, or provide a baseline of pre-existing resistance variants present before a new intervention is rolled out. The scientific community can benefit because this information can generate new leads for research to understand the molecular mechanisms of insecticide resistance, and accelerate the development of improved insecticides, insecticide combinations or synergists.\n",
    "\n",
    "We have curated a set of selection alerts which identify genome regions with strong evidence for recent positive selection replicated in mosquitoes sampled from at least two locations or time points, and containing genes with a proven or plausible link to insecticide resistance. We highlight these genome regions as a priority for further research and surveillance."
   ]
  },
  {
   "cell_type": "markdown",
   "metadata": {},
   "source": [
    "```{tableofcontents}\n",
    "```"
   ]
  },
  {
   "cell_type": "markdown",
   "metadata": {},
   "source": []
  }
 ],
 "metadata": {
  "kernelspec": {
   "display_name": "selection-atlas",
   "language": "python",
   "name": "selection-atlas"
  },
  "language_info": {
   "codemirror_mode": {
    "name": "ipython",
    "version": 3
   },
   "file_extension": ".py",
   "mimetype": "text/x-python",
   "name": "python",
   "nbconvert_exporter": "python",
   "pygments_lexer": "ipython3",
   "version": "3.12.8"
  }
 },
 "nbformat": 4,
 "nbformat_minor": 4
}
